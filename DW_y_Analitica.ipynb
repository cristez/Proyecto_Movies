{
  "nbformat": 4,
  "nbformat_minor": 0,
  "metadata": {
    "colab": {
      "provenance": []
    },
    "kernelspec": {
      "name": "python3",
      "display_name": "Python 3"
    },
    "language_info": {
      "name": "python"
    }
  },
  "cells": [
    {
      "cell_type": "markdown",
      "source": [
        "#Video"
      ],
      "metadata": {
        "id": "R6ElbF81MFJk"
      }
    },
    {
      "cell_type": "markdown",
      "source": [
        "[Video](https://drive.google.com/file/d/1Kdgahrwr9lGCyUzRjgvYbKy95glVNYQ-/view)"
      ],
      "metadata": {
        "id": "Px9XWIBI34oU"
      }
    },
    {
      "cell_type": "markdown",
      "source": [
        "#Integrantes"
      ],
      "metadata": {
        "id": "bieb1IOTlLoI"
      }
    },
    {
      "cell_type": "markdown",
      "source": [
        "\n",
        "\n",
        "*   Cristino Pérez Ramos\n",
        "*   Mynor Gabriel López Méndez\n",
        "\n",
        "\n"
      ],
      "metadata": {
        "id": "iztdo2wZlOoD"
      }
    },
    {
      "cell_type": "markdown",
      "source": [
        "#Scope"
      ],
      "metadata": {
        "id": "R4ceLAG7ghol"
      }
    },
    {
      "cell_type": "markdown",
      "source": [
        "Este proyecto contiene dese la creación de una base de datos relacional de la venta de peliculas de una tienda, que forma parte del escenario ficticio sobre el cual se realizará un análisis de datos.  "
      ],
      "metadata": {
        "id": "oHjnhOQfgkH1"
      }
    },
    {
      "cell_type": "markdown",
      "source": [
        "La base de datos es creada desde 0, junto a datso de clientes, fechas de ventas y catalogo de peliculas que se venden en la tienda. Esta creación de escenario, se encuentra en el archivo [Escenario_Base_de_Datos](https://colab.research.google.com/drive/1tN4ElbrKJiy_9BBYaP1cBr76402BKsf3?usp=sharing). Todo esto fuera realizado en notebook de Google-Colab. "
      ],
      "metadata": {
        "id": "hOQn5HNuhMUQ"
      }
    },
    {
      "cell_type": "markdown",
      "source": [
        "Además, los archivos que alimentaban la base datos se encuentran en otras carpetas de este repositorio.   "
      ],
      "metadata": {
        "id": "6xZ-Xc6Kh_QV"
      }
    },
    {
      "cell_type": "markdown",
      "source": [
        "Otra fuente de datos son los archivos alojados en ASW S3: Tales como:  Ventas de Febrero, y Ventas de Enero, junto con la dimensión de fecha para la creación.  De la estructura de los datos, se pude definir que lo mejor seria construir un Datawarehouse para la analitica a realizar. \n"
      ],
      "metadata": {
        "id": "jCd8mBfkiJaZ"
      }
    },
    {
      "cell_type": "markdown",
      "source": [
        "#ETL"
      ],
      "metadata": {
        "id": "KWdLUfvnjQMk"
      }
    },
    {
      "cell_type": "markdown",
      "source": [
        "##Instalación de librerias necesarias\n",
        "Se realiza la instalación de librerias para manejo y conexion de consultas de Mysql con python."
      ],
      "metadata": {
        "id": "6B3zPn6Schyo"
      }
    },
    {
      "cell_type": "code",
      "source": [
        "!pip install boto3\n",
        "!pip install mysql-connector-python\n",
        "!pip install pymysql "
      ],
      "metadata": {
        "colab": {
          "base_uri": "https://localhost:8080/"
        },
        "id": "98X2_8A5coNB",
        "outputId": "aba5cc97-2a13-42d7-eab2-c70b483fd491"
      },
      "execution_count": null,
      "outputs": [
        {
          "output_type": "stream",
          "name": "stdout",
          "text": [
            "Looking in indexes: https://pypi.org/simple, https://us-python.pkg.dev/colab-wheels/public/simple/\n",
            "Requirement already satisfied: boto3 in /usr/local/lib/python3.9/dist-packages (1.26.109)\n",
            "Requirement already satisfied: botocore<1.30.0,>=1.29.109 in /usr/local/lib/python3.9/dist-packages (from boto3) (1.29.109)\n",
            "Requirement already satisfied: s3transfer<0.7.0,>=0.6.0 in /usr/local/lib/python3.9/dist-packages (from boto3) (0.6.0)\n",
            "Requirement already satisfied: jmespath<2.0.0,>=0.7.1 in /usr/local/lib/python3.9/dist-packages (from boto3) (1.0.1)\n",
            "Requirement already satisfied: python-dateutil<3.0.0,>=2.1 in /usr/local/lib/python3.9/dist-packages (from botocore<1.30.0,>=1.29.109->boto3) (2.8.2)\n",
            "Requirement already satisfied: urllib3<1.27,>=1.25.4 in /usr/local/lib/python3.9/dist-packages (from botocore<1.30.0,>=1.29.109->boto3) (1.26.15)\n",
            "Requirement already satisfied: six>=1.5 in /usr/local/lib/python3.9/dist-packages (from python-dateutil<3.0.0,>=2.1->botocore<1.30.0,>=1.29.109->boto3) (1.16.0)\n",
            "Looking in indexes: https://pypi.org/simple, https://us-python.pkg.dev/colab-wheels/public/simple/\n",
            "Requirement already satisfied: mysql-connector-python in /usr/local/lib/python3.9/dist-packages (8.0.32)\n",
            "Requirement already satisfied: protobuf<=3.20.3,>=3.11.0 in /usr/local/lib/python3.9/dist-packages (from mysql-connector-python) (3.20.3)\n",
            "Looking in indexes: https://pypi.org/simple, https://us-python.pkg.dev/colab-wheels/public/simple/\n",
            "Requirement already satisfied: pymysql in /usr/local/lib/python3.9/dist-packages (1.0.3)\n"
          ]
        }
      ]
    },
    {
      "cell_type": "markdown",
      "source": [
        "##Importamos las librerias necesarias."
      ],
      "metadata": {
        "id": "zMgI4kVQi84d"
      }
    },
    {
      "cell_type": "code",
      "execution_count": null,
      "metadata": {
        "id": "5DmyeDdchrwS"
      },
      "outputs": [],
      "source": [
        "import pandas as pd\n",
        "import numpy as np\n",
        "import boto3\n",
        "import io\n",
        "import re\n",
        "import psycopg2\n",
        "import configparser\n",
        "import seaborn as sns\n",
        "import matplotlib.pyplot as plt\n",
        "import mysql.connector as mysqlC"
      ]
    },
    {
      "cell_type": "markdown",
      "source": [
        "##Archivo de configuración\n",
        "Se obtienen las credenciales que estan establecidas en el archivo de configuracion para la conexion hacia el servidor de AWS."
      ],
      "metadata": {
        "id": "PC3ra9RXjRaQ"
      }
    },
    {
      "cell_type": "code",
      "source": [
        "config = configparser.ConfigParser()\n",
        "config.read('escec_dataWarehouse.cfg')"
      ],
      "metadata": {
        "colab": {
          "base_uri": "https://localhost:8080/"
        },
        "id": "JTlIZIz4jOhi",
        "outputId": "7d2357ea-cf26-4038-a29c-4459a0c68ff4"
      },
      "execution_count": null,
      "outputs": [
        {
          "output_type": "execute_result",
          "data": {
            "text/plain": [
              "['escec_dataWarehouse.cfg']"
            ]
          },
          "metadata": {},
          "execution_count": 3
        }
      ]
    },
    {
      "cell_type": "markdown",
      "source": [
        "##RDS de la base de datos myMovieStore\n",
        "Se establece el host para la conexion hacia el servidor AWS."
      ],
      "metadata": {
        "id": "H5TIHAqcj8TB"
      }
    },
    {
      "cell_type": "code",
      "source": [
        "RDS_HOST = 'mymoviestore.c6j34omip28z.us-east-2.rds.amazonaws.com'\n",
        "#RDS_HOST=config.get('DW', 'RDS_HOST')\n",
        "#RDS_HOST\n",
        "print(RDS_HOST)"
      ],
      "metadata": {
        "colab": {
          "base_uri": "https://localhost:8080/"
        },
        "id": "U1cT5rjykA5G",
        "outputId": "99dad4bd-601f-498d-ed7c-a9f2da3671a8"
      },
      "execution_count": null,
      "outputs": [
        {
          "output_type": "stream",
          "name": "stdout",
          "text": [
            "mymoviestore.c6j34omip28z.us-east-2.rds.amazonaws.com\n"
          ]
        }
      ]
    },
    {
      "cell_type": "code",
      "source": [
        "postgres_driver = f\"\"\"postgresql://{config.get('RDS', 'DB_USER')}:{config.get('RDS', 'DB_PASSWORD')}@{RDS_HOST}:{config.get('RDS', 'DB_PORT')}/{config.get('RDS', 'DB_NAME')}\"\"\""
      ],
      "metadata": {
        "id": "csRV7IthkIZN"
      },
      "execution_count": null,
      "outputs": []
    },
    {
      "cell_type": "markdown",
      "source": [
        "#Creando Dimensiones"
      ],
      "metadata": {
        "id": "Br0KFVApkN3i"
      }
    },
    {
      "cell_type": "markdown",
      "source": [
        "##Dimensión de Custumers"
      ],
      "metadata": {
        "id": "UImuHLFPlFHI"
      }
    },
    {
      "cell_type": "markdown",
      "source": [
        "La creación de esta dimensión es bastante sencilla porque no tenemos necesidad de integrar otras tablas."
      ],
      "metadata": {
        "id": "7EzzpcJ6nGX8"
      }
    },
    {
      "cell_type": "code",
      "source": [
        "sql_query = 'SELECT * FROM custumer;'\n",
        "dim_custumer = pd.read_sql(sql_query, postgres_driver)\n",
        "dim_custumer=dim_custumer.rename(columns={'Custumer type': 'custumer_type'})\n",
        "dim_custumer.head()"
      ],
      "metadata": {
        "colab": {
          "base_uri": "https://localhost:8080/",
          "height": 206
        },
        "id": "vr3SZ6VMmyFW",
        "outputId": "63ed5667-62a5-4134-8608-a0cc66b719ea"
      },
      "execution_count": null,
      "outputs": [
        {
          "output_type": "execute_result",
          "data": {
            "text/plain": [
              "   id_client     name  gender custumer_type\n",
              "0          1     Lora  Female        Member\n",
              "1          2   Ambros    Male        Member\n",
              "2          3   Mervin    Male        Member\n",
              "3          4  Arliene  Female        Member\n",
              "4          5   Aldous    Male        Member"
            ],
            "text/html": [
              "\n",
              "  <div id=\"df-54ffe945-9279-4f1e-ae67-4a33ebb19f33\">\n",
              "    <div class=\"colab-df-container\">\n",
              "      <div>\n",
              "<style scoped>\n",
              "    .dataframe tbody tr th:only-of-type {\n",
              "        vertical-align: middle;\n",
              "    }\n",
              "\n",
              "    .dataframe tbody tr th {\n",
              "        vertical-align: top;\n",
              "    }\n",
              "\n",
              "    .dataframe thead th {\n",
              "        text-align: right;\n",
              "    }\n",
              "</style>\n",
              "<table border=\"1\" class=\"dataframe\">\n",
              "  <thead>\n",
              "    <tr style=\"text-align: right;\">\n",
              "      <th></th>\n",
              "      <th>id_client</th>\n",
              "      <th>name</th>\n",
              "      <th>gender</th>\n",
              "      <th>custumer_type</th>\n",
              "    </tr>\n",
              "  </thead>\n",
              "  <tbody>\n",
              "    <tr>\n",
              "      <th>0</th>\n",
              "      <td>1</td>\n",
              "      <td>Lora</td>\n",
              "      <td>Female</td>\n",
              "      <td>Member</td>\n",
              "    </tr>\n",
              "    <tr>\n",
              "      <th>1</th>\n",
              "      <td>2</td>\n",
              "      <td>Ambros</td>\n",
              "      <td>Male</td>\n",
              "      <td>Member</td>\n",
              "    </tr>\n",
              "    <tr>\n",
              "      <th>2</th>\n",
              "      <td>3</td>\n",
              "      <td>Mervin</td>\n",
              "      <td>Male</td>\n",
              "      <td>Member</td>\n",
              "    </tr>\n",
              "    <tr>\n",
              "      <th>3</th>\n",
              "      <td>4</td>\n",
              "      <td>Arliene</td>\n",
              "      <td>Female</td>\n",
              "      <td>Member</td>\n",
              "    </tr>\n",
              "    <tr>\n",
              "      <th>4</th>\n",
              "      <td>5</td>\n",
              "      <td>Aldous</td>\n",
              "      <td>Male</td>\n",
              "      <td>Member</td>\n",
              "    </tr>\n",
              "  </tbody>\n",
              "</table>\n",
              "</div>\n",
              "      <button class=\"colab-df-convert\" onclick=\"convertToInteractive('df-54ffe945-9279-4f1e-ae67-4a33ebb19f33')\"\n",
              "              title=\"Convert this dataframe to an interactive table.\"\n",
              "              style=\"display:none;\">\n",
              "        \n",
              "  <svg xmlns=\"http://www.w3.org/2000/svg\" height=\"24px\"viewBox=\"0 0 24 24\"\n",
              "       width=\"24px\">\n",
              "    <path d=\"M0 0h24v24H0V0z\" fill=\"none\"/>\n",
              "    <path d=\"M18.56 5.44l.94 2.06.94-2.06 2.06-.94-2.06-.94-.94-2.06-.94 2.06-2.06.94zm-11 1L8.5 8.5l.94-2.06 2.06-.94-2.06-.94L8.5 2.5l-.94 2.06-2.06.94zm10 10l.94 2.06.94-2.06 2.06-.94-2.06-.94-.94-2.06-.94 2.06-2.06.94z\"/><path d=\"M17.41 7.96l-1.37-1.37c-.4-.4-.92-.59-1.43-.59-.52 0-1.04.2-1.43.59L10.3 9.45l-7.72 7.72c-.78.78-.78 2.05 0 2.83L4 21.41c.39.39.9.59 1.41.59.51 0 1.02-.2 1.41-.59l7.78-7.78 2.81-2.81c.8-.78.8-2.07 0-2.86zM5.41 20L4 18.59l7.72-7.72 1.47 1.35L5.41 20z\"/>\n",
              "  </svg>\n",
              "      </button>\n",
              "      \n",
              "  <style>\n",
              "    .colab-df-container {\n",
              "      display:flex;\n",
              "      flex-wrap:wrap;\n",
              "      gap: 12px;\n",
              "    }\n",
              "\n",
              "    .colab-df-convert {\n",
              "      background-color: #E8F0FE;\n",
              "      border: none;\n",
              "      border-radius: 50%;\n",
              "      cursor: pointer;\n",
              "      display: none;\n",
              "      fill: #1967D2;\n",
              "      height: 32px;\n",
              "      padding: 0 0 0 0;\n",
              "      width: 32px;\n",
              "    }\n",
              "\n",
              "    .colab-df-convert:hover {\n",
              "      background-color: #E2EBFA;\n",
              "      box-shadow: 0px 1px 2px rgba(60, 64, 67, 0.3), 0px 1px 3px 1px rgba(60, 64, 67, 0.15);\n",
              "      fill: #174EA6;\n",
              "    }\n",
              "\n",
              "    [theme=dark] .colab-df-convert {\n",
              "      background-color: #3B4455;\n",
              "      fill: #D2E3FC;\n",
              "    }\n",
              "\n",
              "    [theme=dark] .colab-df-convert:hover {\n",
              "      background-color: #434B5C;\n",
              "      box-shadow: 0px 1px 3px 1px rgba(0, 0, 0, 0.15);\n",
              "      filter: drop-shadow(0px 1px 2px rgba(0, 0, 0, 0.3));\n",
              "      fill: #FFFFFF;\n",
              "    }\n",
              "  </style>\n",
              "\n",
              "      <script>\n",
              "        const buttonEl =\n",
              "          document.querySelector('#df-54ffe945-9279-4f1e-ae67-4a33ebb19f33 button.colab-df-convert');\n",
              "        buttonEl.style.display =\n",
              "          google.colab.kernel.accessAllowed ? 'block' : 'none';\n",
              "\n",
              "        async function convertToInteractive(key) {\n",
              "          const element = document.querySelector('#df-54ffe945-9279-4f1e-ae67-4a33ebb19f33');\n",
              "          const dataTable =\n",
              "            await google.colab.kernel.invokeFunction('convertToInteractive',\n",
              "                                                     [key], {});\n",
              "          if (!dataTable) return;\n",
              "\n",
              "          const docLinkHtml = 'Like what you see? Visit the ' +\n",
              "            '<a target=\"_blank\" href=https://colab.research.google.com/notebooks/data_table.ipynb>data table notebook</a>'\n",
              "            + ' to learn more about interactive tables.';\n",
              "          element.innerHTML = '';\n",
              "          dataTable['output_type'] = 'display_data';\n",
              "          await google.colab.output.renderOutput(dataTable, element);\n",
              "          const docLink = document.createElement('div');\n",
              "          docLink.innerHTML = docLinkHtml;\n",
              "          element.appendChild(docLink);\n",
              "        }\n",
              "      </script>\n",
              "    </div>\n",
              "  </div>\n",
              "  "
            ]
          },
          "metadata": {},
          "execution_count": 6
        }
      ]
    },
    {
      "cell_type": "markdown",
      "source": [
        "##Dimensión Payment_Methods"
      ],
      "metadata": {
        "id": "-YlO-EdwnPlp"
      }
    },
    {
      "cell_type": "markdown",
      "source": [
        "La creación de esta dimensión también es directa desde la tabla."
      ],
      "metadata": {
        "id": "alwf5CXVnXV-"
      }
    },
    {
      "cell_type": "code",
      "source": [
        "sql_query = 'SELECT * FROM payment_methods;'\n",
        "dim_payment_methods = pd.read_sql(sql_query, postgres_driver)\n",
        "dim_payment_methods.head()"
      ],
      "metadata": {
        "colab": {
          "base_uri": "https://localhost:8080/",
          "height": 143
        },
        "id": "Vr8Bt5WSndfi",
        "outputId": "addf619a-f087-463b-8ab7-50fc613f69ed"
      },
      "execution_count": null,
      "outputs": [
        {
          "output_type": "execute_result",
          "data": {
            "text/plain": [
              "   id_payment         name\n",
              "0           1      Ewallet\n",
              "1           2         Cash\n",
              "2           3  Credit card"
            ],
            "text/html": [
              "\n",
              "  <div id=\"df-b8d5893c-421c-4d39-8e8d-858f98bb889f\">\n",
              "    <div class=\"colab-df-container\">\n",
              "      <div>\n",
              "<style scoped>\n",
              "    .dataframe tbody tr th:only-of-type {\n",
              "        vertical-align: middle;\n",
              "    }\n",
              "\n",
              "    .dataframe tbody tr th {\n",
              "        vertical-align: top;\n",
              "    }\n",
              "\n",
              "    .dataframe thead th {\n",
              "        text-align: right;\n",
              "    }\n",
              "</style>\n",
              "<table border=\"1\" class=\"dataframe\">\n",
              "  <thead>\n",
              "    <tr style=\"text-align: right;\">\n",
              "      <th></th>\n",
              "      <th>id_payment</th>\n",
              "      <th>name</th>\n",
              "    </tr>\n",
              "  </thead>\n",
              "  <tbody>\n",
              "    <tr>\n",
              "      <th>0</th>\n",
              "      <td>1</td>\n",
              "      <td>Ewallet</td>\n",
              "    </tr>\n",
              "    <tr>\n",
              "      <th>1</th>\n",
              "      <td>2</td>\n",
              "      <td>Cash</td>\n",
              "    </tr>\n",
              "    <tr>\n",
              "      <th>2</th>\n",
              "      <td>3</td>\n",
              "      <td>Credit card</td>\n",
              "    </tr>\n",
              "  </tbody>\n",
              "</table>\n",
              "</div>\n",
              "      <button class=\"colab-df-convert\" onclick=\"convertToInteractive('df-b8d5893c-421c-4d39-8e8d-858f98bb889f')\"\n",
              "              title=\"Convert this dataframe to an interactive table.\"\n",
              "              style=\"display:none;\">\n",
              "        \n",
              "  <svg xmlns=\"http://www.w3.org/2000/svg\" height=\"24px\"viewBox=\"0 0 24 24\"\n",
              "       width=\"24px\">\n",
              "    <path d=\"M0 0h24v24H0V0z\" fill=\"none\"/>\n",
              "    <path d=\"M18.56 5.44l.94 2.06.94-2.06 2.06-.94-2.06-.94-.94-2.06-.94 2.06-2.06.94zm-11 1L8.5 8.5l.94-2.06 2.06-.94-2.06-.94L8.5 2.5l-.94 2.06-2.06.94zm10 10l.94 2.06.94-2.06 2.06-.94-2.06-.94-.94-2.06-.94 2.06-2.06.94z\"/><path d=\"M17.41 7.96l-1.37-1.37c-.4-.4-.92-.59-1.43-.59-.52 0-1.04.2-1.43.59L10.3 9.45l-7.72 7.72c-.78.78-.78 2.05 0 2.83L4 21.41c.39.39.9.59 1.41.59.51 0 1.02-.2 1.41-.59l7.78-7.78 2.81-2.81c.8-.78.8-2.07 0-2.86zM5.41 20L4 18.59l7.72-7.72 1.47 1.35L5.41 20z\"/>\n",
              "  </svg>\n",
              "      </button>\n",
              "      \n",
              "  <style>\n",
              "    .colab-df-container {\n",
              "      display:flex;\n",
              "      flex-wrap:wrap;\n",
              "      gap: 12px;\n",
              "    }\n",
              "\n",
              "    .colab-df-convert {\n",
              "      background-color: #E8F0FE;\n",
              "      border: none;\n",
              "      border-radius: 50%;\n",
              "      cursor: pointer;\n",
              "      display: none;\n",
              "      fill: #1967D2;\n",
              "      height: 32px;\n",
              "      padding: 0 0 0 0;\n",
              "      width: 32px;\n",
              "    }\n",
              "\n",
              "    .colab-df-convert:hover {\n",
              "      background-color: #E2EBFA;\n",
              "      box-shadow: 0px 1px 2px rgba(60, 64, 67, 0.3), 0px 1px 3px 1px rgba(60, 64, 67, 0.15);\n",
              "      fill: #174EA6;\n",
              "    }\n",
              "\n",
              "    [theme=dark] .colab-df-convert {\n",
              "      background-color: #3B4455;\n",
              "      fill: #D2E3FC;\n",
              "    }\n",
              "\n",
              "    [theme=dark] .colab-df-convert:hover {\n",
              "      background-color: #434B5C;\n",
              "      box-shadow: 0px 1px 3px 1px rgba(0, 0, 0, 0.15);\n",
              "      filter: drop-shadow(0px 1px 2px rgba(0, 0, 0, 0.3));\n",
              "      fill: #FFFFFF;\n",
              "    }\n",
              "  </style>\n",
              "\n",
              "      <script>\n",
              "        const buttonEl =\n",
              "          document.querySelector('#df-b8d5893c-421c-4d39-8e8d-858f98bb889f button.colab-df-convert');\n",
              "        buttonEl.style.display =\n",
              "          google.colab.kernel.accessAllowed ? 'block' : 'none';\n",
              "\n",
              "        async function convertToInteractive(key) {\n",
              "          const element = document.querySelector('#df-b8d5893c-421c-4d39-8e8d-858f98bb889f');\n",
              "          const dataTable =\n",
              "            await google.colab.kernel.invokeFunction('convertToInteractive',\n",
              "                                                     [key], {});\n",
              "          if (!dataTable) return;\n",
              "\n",
              "          const docLinkHtml = 'Like what you see? Visit the ' +\n",
              "            '<a target=\"_blank\" href=https://colab.research.google.com/notebooks/data_table.ipynb>data table notebook</a>'\n",
              "            + ' to learn more about interactive tables.';\n",
              "          element.innerHTML = '';\n",
              "          dataTable['output_type'] = 'display_data';\n",
              "          await google.colab.output.renderOutput(dataTable, element);\n",
              "          const docLink = document.createElement('div');\n",
              "          docLink.innerHTML = docLinkHtml;\n",
              "          element.appendChild(docLink);\n",
              "        }\n",
              "      </script>\n",
              "    </div>\n",
              "  </div>\n",
              "  "
            ]
          },
          "metadata": {},
          "execution_count": 7
        }
      ]
    },
    {
      "cell_type": "markdown",
      "source": [],
      "metadata": {
        "id": "mQdQdCUZnuX-"
      }
    },
    {
      "cell_type": "markdown",
      "source": [
        "##Dimensión Movies"
      ],
      "metadata": {
        "id": "sSH-q5kLnvgL"
      }
    },
    {
      "cell_type": "markdown",
      "source": [
        "Esta dimensión es la más complicada de armar, porque existen otras tablas: categories,countries, y movie_type que necesitan ser integradas a la tabla movies."
      ],
      "metadata": {
        "id": "-LBJSvmooBWN"
      }
    },
    {
      "cell_type": "code",
      "source": [
        "sql_query = 'SELECT * FROM movies;'\n",
        "df_movies = pd.read_sql(sql_query, postgres_driver)\n",
        "df_movies.head(3)"
      ],
      "metadata": {
        "colab": {
          "base_uri": "https://localhost:8080/",
          "height": 240
        },
        "id": "7kPiLj_tnztw",
        "outputId": "615ca1b3-c809-49a0-9e53-aeff3c194b18"
      },
      "execution_count": null,
      "outputs": [
        {
          "output_type": "execute_result",
          "data": {
            "text/plain": [
              "   show_id  type                            title    director  \\\n",
              "0     1891     1                     Qurious Como      Varios   \n",
              "1     1892     2               A Chaster Marriage  Umut Kirca   \n",
              "2     1893     2  A Go! Go! Cory Carson Halloween    Alex Woo   \n",
              "\n",
              "                                             casting  country  date_added  \\\n",
              "0                                             Varios        0  2020-10-03   \n",
              "1  Emre Karayel, Ceren Moray, Begüm Kütük, Ececan...       76  2020-10-02   \n",
              "2  Alan C. Lim, Smith Foreman, Maisie Benson, Ann...        0  2020-10-02   \n",
              "\n",
              "   release_year rating  duration  listed_in  \\\n",
              "0          2017   TV-Y  1 Season         17   \n",
              "1          2016  TV-14    94 min          8   \n",
              "2          2020   TV-Y    22 min          5   \n",
              "\n",
              "                                         description  price  \n",
              "0  Shrunk down in size, Como and his friends exam...     25  \n",
              "1  Forced to wed his childhood friend, a man obse...      5  \n",
              "2  Cory, Chrissy and Freddie are on the hunt for ...      5  "
            ],
            "text/html": [
              "\n",
              "  <div id=\"df-780acda1-4169-40dc-be72-04681d617b12\">\n",
              "    <div class=\"colab-df-container\">\n",
              "      <div>\n",
              "<style scoped>\n",
              "    .dataframe tbody tr th:only-of-type {\n",
              "        vertical-align: middle;\n",
              "    }\n",
              "\n",
              "    .dataframe tbody tr th {\n",
              "        vertical-align: top;\n",
              "    }\n",
              "\n",
              "    .dataframe thead th {\n",
              "        text-align: right;\n",
              "    }\n",
              "</style>\n",
              "<table border=\"1\" class=\"dataframe\">\n",
              "  <thead>\n",
              "    <tr style=\"text-align: right;\">\n",
              "      <th></th>\n",
              "      <th>show_id</th>\n",
              "      <th>type</th>\n",
              "      <th>title</th>\n",
              "      <th>director</th>\n",
              "      <th>casting</th>\n",
              "      <th>country</th>\n",
              "      <th>date_added</th>\n",
              "      <th>release_year</th>\n",
              "      <th>rating</th>\n",
              "      <th>duration</th>\n",
              "      <th>listed_in</th>\n",
              "      <th>description</th>\n",
              "      <th>price</th>\n",
              "    </tr>\n",
              "  </thead>\n",
              "  <tbody>\n",
              "    <tr>\n",
              "      <th>0</th>\n",
              "      <td>1891</td>\n",
              "      <td>1</td>\n",
              "      <td>Qurious Como</td>\n",
              "      <td>Varios</td>\n",
              "      <td>Varios</td>\n",
              "      <td>0</td>\n",
              "      <td>2020-10-03</td>\n",
              "      <td>2017</td>\n",
              "      <td>TV-Y</td>\n",
              "      <td>1 Season</td>\n",
              "      <td>17</td>\n",
              "      <td>Shrunk down in size, Como and his friends exam...</td>\n",
              "      <td>25</td>\n",
              "    </tr>\n",
              "    <tr>\n",
              "      <th>1</th>\n",
              "      <td>1892</td>\n",
              "      <td>2</td>\n",
              "      <td>A Chaster Marriage</td>\n",
              "      <td>Umut Kirca</td>\n",
              "      <td>Emre Karayel, Ceren Moray, Begüm Kütük, Ececan...</td>\n",
              "      <td>76</td>\n",
              "      <td>2020-10-02</td>\n",
              "      <td>2016</td>\n",
              "      <td>TV-14</td>\n",
              "      <td>94 min</td>\n",
              "      <td>8</td>\n",
              "      <td>Forced to wed his childhood friend, a man obse...</td>\n",
              "      <td>5</td>\n",
              "    </tr>\n",
              "    <tr>\n",
              "      <th>2</th>\n",
              "      <td>1893</td>\n",
              "      <td>2</td>\n",
              "      <td>A Go! Go! Cory Carson Halloween</td>\n",
              "      <td>Alex Woo</td>\n",
              "      <td>Alan C. Lim, Smith Foreman, Maisie Benson, Ann...</td>\n",
              "      <td>0</td>\n",
              "      <td>2020-10-02</td>\n",
              "      <td>2020</td>\n",
              "      <td>TV-Y</td>\n",
              "      <td>22 min</td>\n",
              "      <td>5</td>\n",
              "      <td>Cory, Chrissy and Freddie are on the hunt for ...</td>\n",
              "      <td>5</td>\n",
              "    </tr>\n",
              "  </tbody>\n",
              "</table>\n",
              "</div>\n",
              "      <button class=\"colab-df-convert\" onclick=\"convertToInteractive('df-780acda1-4169-40dc-be72-04681d617b12')\"\n",
              "              title=\"Convert this dataframe to an interactive table.\"\n",
              "              style=\"display:none;\">\n",
              "        \n",
              "  <svg xmlns=\"http://www.w3.org/2000/svg\" height=\"24px\"viewBox=\"0 0 24 24\"\n",
              "       width=\"24px\">\n",
              "    <path d=\"M0 0h24v24H0V0z\" fill=\"none\"/>\n",
              "    <path d=\"M18.56 5.44l.94 2.06.94-2.06 2.06-.94-2.06-.94-.94-2.06-.94 2.06-2.06.94zm-11 1L8.5 8.5l.94-2.06 2.06-.94-2.06-.94L8.5 2.5l-.94 2.06-2.06.94zm10 10l.94 2.06.94-2.06 2.06-.94-2.06-.94-.94-2.06-.94 2.06-2.06.94z\"/><path d=\"M17.41 7.96l-1.37-1.37c-.4-.4-.92-.59-1.43-.59-.52 0-1.04.2-1.43.59L10.3 9.45l-7.72 7.72c-.78.78-.78 2.05 0 2.83L4 21.41c.39.39.9.59 1.41.59.51 0 1.02-.2 1.41-.59l7.78-7.78 2.81-2.81c.8-.78.8-2.07 0-2.86zM5.41 20L4 18.59l7.72-7.72 1.47 1.35L5.41 20z\"/>\n",
              "  </svg>\n",
              "      </button>\n",
              "      \n",
              "  <style>\n",
              "    .colab-df-container {\n",
              "      display:flex;\n",
              "      flex-wrap:wrap;\n",
              "      gap: 12px;\n",
              "    }\n",
              "\n",
              "    .colab-df-convert {\n",
              "      background-color: #E8F0FE;\n",
              "      border: none;\n",
              "      border-radius: 50%;\n",
              "      cursor: pointer;\n",
              "      display: none;\n",
              "      fill: #1967D2;\n",
              "      height: 32px;\n",
              "      padding: 0 0 0 0;\n",
              "      width: 32px;\n",
              "    }\n",
              "\n",
              "    .colab-df-convert:hover {\n",
              "      background-color: #E2EBFA;\n",
              "      box-shadow: 0px 1px 2px rgba(60, 64, 67, 0.3), 0px 1px 3px 1px rgba(60, 64, 67, 0.15);\n",
              "      fill: #174EA6;\n",
              "    }\n",
              "\n",
              "    [theme=dark] .colab-df-convert {\n",
              "      background-color: #3B4455;\n",
              "      fill: #D2E3FC;\n",
              "    }\n",
              "\n",
              "    [theme=dark] .colab-df-convert:hover {\n",
              "      background-color: #434B5C;\n",
              "      box-shadow: 0px 1px 3px 1px rgba(0, 0, 0, 0.15);\n",
              "      filter: drop-shadow(0px 1px 2px rgba(0, 0, 0, 0.3));\n",
              "      fill: #FFFFFF;\n",
              "    }\n",
              "  </style>\n",
              "\n",
              "      <script>\n",
              "        const buttonEl =\n",
              "          document.querySelector('#df-780acda1-4169-40dc-be72-04681d617b12 button.colab-df-convert');\n",
              "        buttonEl.style.display =\n",
              "          google.colab.kernel.accessAllowed ? 'block' : 'none';\n",
              "\n",
              "        async function convertToInteractive(key) {\n",
              "          const element = document.querySelector('#df-780acda1-4169-40dc-be72-04681d617b12');\n",
              "          const dataTable =\n",
              "            await google.colab.kernel.invokeFunction('convertToInteractive',\n",
              "                                                     [key], {});\n",
              "          if (!dataTable) return;\n",
              "\n",
              "          const docLinkHtml = 'Like what you see? Visit the ' +\n",
              "            '<a target=\"_blank\" href=https://colab.research.google.com/notebooks/data_table.ipynb>data table notebook</a>'\n",
              "            + ' to learn more about interactive tables.';\n",
              "          element.innerHTML = '';\n",
              "          dataTable['output_type'] = 'display_data';\n",
              "          await google.colab.output.renderOutput(dataTable, element);\n",
              "          const docLink = document.createElement('div');\n",
              "          docLink.innerHTML = docLinkHtml;\n",
              "          element.appendChild(docLink);\n",
              "        }\n",
              "      </script>\n",
              "    </div>\n",
              "  </div>\n",
              "  "
            ]
          },
          "metadata": {},
          "execution_count": 8
        }
      ]
    },
    {
      "cell_type": "markdown",
      "source": [
        "Incorporamos la tabla de los countries:"
      ],
      "metadata": {
        "id": "rdRD-4Z3oW_n"
      }
    },
    {
      "cell_type": "code",
      "source": [
        "sql_query = 'SELECT * FROM countries;'\n",
        "df_countries = pd.read_sql(sql_query, postgres_driver)\n",
        "df_countries = df_countries.rename(columns={'id_country': 'country', 'name': 'country_name'})\n",
        "df_countries.head(3)"
      ],
      "metadata": {
        "colab": {
          "base_uri": "https://localhost:8080/",
          "height": 143
        },
        "id": "h488bFTYohwc",
        "outputId": "f124a7fc-2a2c-4d45-89c4-1080fc53897f"
      },
      "execution_count": null,
      "outputs": [
        {
          "output_type": "execute_result",
          "data": {
            "text/plain": [
              "   country country_name\n",
              "0        0  Desconocido\n",
              "1        1    Argentina\n",
              "2        2    Australia"
            ],
            "text/html": [
              "\n",
              "  <div id=\"df-f558b2c0-04fc-4169-abe2-e6b186723eb5\">\n",
              "    <div class=\"colab-df-container\">\n",
              "      <div>\n",
              "<style scoped>\n",
              "    .dataframe tbody tr th:only-of-type {\n",
              "        vertical-align: middle;\n",
              "    }\n",
              "\n",
              "    .dataframe tbody tr th {\n",
              "        vertical-align: top;\n",
              "    }\n",
              "\n",
              "    .dataframe thead th {\n",
              "        text-align: right;\n",
              "    }\n",
              "</style>\n",
              "<table border=\"1\" class=\"dataframe\">\n",
              "  <thead>\n",
              "    <tr style=\"text-align: right;\">\n",
              "      <th></th>\n",
              "      <th>country</th>\n",
              "      <th>country_name</th>\n",
              "    </tr>\n",
              "  </thead>\n",
              "  <tbody>\n",
              "    <tr>\n",
              "      <th>0</th>\n",
              "      <td>0</td>\n",
              "      <td>Desconocido</td>\n",
              "    </tr>\n",
              "    <tr>\n",
              "      <th>1</th>\n",
              "      <td>1</td>\n",
              "      <td>Argentina</td>\n",
              "    </tr>\n",
              "    <tr>\n",
              "      <th>2</th>\n",
              "      <td>2</td>\n",
              "      <td>Australia</td>\n",
              "    </tr>\n",
              "  </tbody>\n",
              "</table>\n",
              "</div>\n",
              "      <button class=\"colab-df-convert\" onclick=\"convertToInteractive('df-f558b2c0-04fc-4169-abe2-e6b186723eb5')\"\n",
              "              title=\"Convert this dataframe to an interactive table.\"\n",
              "              style=\"display:none;\">\n",
              "        \n",
              "  <svg xmlns=\"http://www.w3.org/2000/svg\" height=\"24px\"viewBox=\"0 0 24 24\"\n",
              "       width=\"24px\">\n",
              "    <path d=\"M0 0h24v24H0V0z\" fill=\"none\"/>\n",
              "    <path d=\"M18.56 5.44l.94 2.06.94-2.06 2.06-.94-2.06-.94-.94-2.06-.94 2.06-2.06.94zm-11 1L8.5 8.5l.94-2.06 2.06-.94-2.06-.94L8.5 2.5l-.94 2.06-2.06.94zm10 10l.94 2.06.94-2.06 2.06-.94-2.06-.94-.94-2.06-.94 2.06-2.06.94z\"/><path d=\"M17.41 7.96l-1.37-1.37c-.4-.4-.92-.59-1.43-.59-.52 0-1.04.2-1.43.59L10.3 9.45l-7.72 7.72c-.78.78-.78 2.05 0 2.83L4 21.41c.39.39.9.59 1.41.59.51 0 1.02-.2 1.41-.59l7.78-7.78 2.81-2.81c.8-.78.8-2.07 0-2.86zM5.41 20L4 18.59l7.72-7.72 1.47 1.35L5.41 20z\"/>\n",
              "  </svg>\n",
              "      </button>\n",
              "      \n",
              "  <style>\n",
              "    .colab-df-container {\n",
              "      display:flex;\n",
              "      flex-wrap:wrap;\n",
              "      gap: 12px;\n",
              "    }\n",
              "\n",
              "    .colab-df-convert {\n",
              "      background-color: #E8F0FE;\n",
              "      border: none;\n",
              "      border-radius: 50%;\n",
              "      cursor: pointer;\n",
              "      display: none;\n",
              "      fill: #1967D2;\n",
              "      height: 32px;\n",
              "      padding: 0 0 0 0;\n",
              "      width: 32px;\n",
              "    }\n",
              "\n",
              "    .colab-df-convert:hover {\n",
              "      background-color: #E2EBFA;\n",
              "      box-shadow: 0px 1px 2px rgba(60, 64, 67, 0.3), 0px 1px 3px 1px rgba(60, 64, 67, 0.15);\n",
              "      fill: #174EA6;\n",
              "    }\n",
              "\n",
              "    [theme=dark] .colab-df-convert {\n",
              "      background-color: #3B4455;\n",
              "      fill: #D2E3FC;\n",
              "    }\n",
              "\n",
              "    [theme=dark] .colab-df-convert:hover {\n",
              "      background-color: #434B5C;\n",
              "      box-shadow: 0px 1px 3px 1px rgba(0, 0, 0, 0.15);\n",
              "      filter: drop-shadow(0px 1px 2px rgba(0, 0, 0, 0.3));\n",
              "      fill: #FFFFFF;\n",
              "    }\n",
              "  </style>\n",
              "\n",
              "      <script>\n",
              "        const buttonEl =\n",
              "          document.querySelector('#df-f558b2c0-04fc-4169-abe2-e6b186723eb5 button.colab-df-convert');\n",
              "        buttonEl.style.display =\n",
              "          google.colab.kernel.accessAllowed ? 'block' : 'none';\n",
              "\n",
              "        async function convertToInteractive(key) {\n",
              "          const element = document.querySelector('#df-f558b2c0-04fc-4169-abe2-e6b186723eb5');\n",
              "          const dataTable =\n",
              "            await google.colab.kernel.invokeFunction('convertToInteractive',\n",
              "                                                     [key], {});\n",
              "          if (!dataTable) return;\n",
              "\n",
              "          const docLinkHtml = 'Like what you see? Visit the ' +\n",
              "            '<a target=\"_blank\" href=https://colab.research.google.com/notebooks/data_table.ipynb>data table notebook</a>'\n",
              "            + ' to learn more about interactive tables.';\n",
              "          element.innerHTML = '';\n",
              "          dataTable['output_type'] = 'display_data';\n",
              "          await google.colab.output.renderOutput(dataTable, element);\n",
              "          const docLink = document.createElement('div');\n",
              "          docLink.innerHTML = docLinkHtml;\n",
              "          element.appendChild(docLink);\n",
              "        }\n",
              "      </script>\n",
              "    </div>\n",
              "  </div>\n",
              "  "
            ]
          },
          "metadata": {},
          "execution_count": 9
        }
      ]
    },
    {
      "cell_type": "markdown",
      "source": [
        "Uno los dataframes de movies con countries:"
      ],
      "metadata": {
        "id": "Rp9-QS3jouTL"
      }
    },
    {
      "cell_type": "code",
      "source": [
        "df_movies_countries=df_movies.merge(df_countries, on='country', how='inner')\n",
        "df_movies_countries =df_movies_countries.drop(['country'], axis=1)\n",
        "df_movies_countries.tail(3)"
      ],
      "metadata": {
        "colab": {
          "base_uri": "https://localhost:8080/",
          "height": 240
        },
        "id": "l2lK4Bsgo2J1",
        "outputId": "5b6f0f1f-28c4-40a8-a96a-a36622653093"
      },
      "execution_count": null,
      "outputs": [
        {
          "output_type": "execute_result",
          "data": {
            "text/plain": [
              "      show_id  type                              title        director  \\\n",
              "8804     7984     2  Septiembre, un llanto en silencio  Kenneth Müller   \n",
              "8805     8074     2                           Sprinter   Storm Saulter   \n",
              "8806     8457     2             The Pirates of Somalia   Bryan Buckley   \n",
              "\n",
              "                                                casting  date_added  \\\n",
              "8804  Saúl Lisazo, Mario Zaragoza, Juan Pablo Olysla...  2018-03-10   \n",
              "8805  Dale Elliott, Kadeem Wilson, Dennis Titus, Dav...  2020-04-15   \n",
              "8806  Evan Peters, Barkhad Abdi, Melanie Griffith, A...  2018-03-01   \n",
              "\n",
              "      release_year rating duration  listed_in  \\\n",
              "8804          2017  TV-MA   69 min         12   \n",
              "8805          2018  TV-MA  112 min         12   \n",
              "8806          2017      R  118 min         12   \n",
              "\n",
              "                                            description  price country_name  \n",
              "8804  After a terrorist attack in Guatemala, a baby ...      5    Guatemala  \n",
              "8805  When a Jamaican teen hopes to use track to reu...      5      Jamaica  \n",
              "8806  An aspiring journalist travels to Somalia in h...      5      Somalia  "
            ],
            "text/html": [
              "\n",
              "  <div id=\"df-b81e7224-fb3e-4a59-b832-8b99c03fd457\">\n",
              "    <div class=\"colab-df-container\">\n",
              "      <div>\n",
              "<style scoped>\n",
              "    .dataframe tbody tr th:only-of-type {\n",
              "        vertical-align: middle;\n",
              "    }\n",
              "\n",
              "    .dataframe tbody tr th {\n",
              "        vertical-align: top;\n",
              "    }\n",
              "\n",
              "    .dataframe thead th {\n",
              "        text-align: right;\n",
              "    }\n",
              "</style>\n",
              "<table border=\"1\" class=\"dataframe\">\n",
              "  <thead>\n",
              "    <tr style=\"text-align: right;\">\n",
              "      <th></th>\n",
              "      <th>show_id</th>\n",
              "      <th>type</th>\n",
              "      <th>title</th>\n",
              "      <th>director</th>\n",
              "      <th>casting</th>\n",
              "      <th>date_added</th>\n",
              "      <th>release_year</th>\n",
              "      <th>rating</th>\n",
              "      <th>duration</th>\n",
              "      <th>listed_in</th>\n",
              "      <th>description</th>\n",
              "      <th>price</th>\n",
              "      <th>country_name</th>\n",
              "    </tr>\n",
              "  </thead>\n",
              "  <tbody>\n",
              "    <tr>\n",
              "      <th>8804</th>\n",
              "      <td>7984</td>\n",
              "      <td>2</td>\n",
              "      <td>Septiembre, un llanto en silencio</td>\n",
              "      <td>Kenneth Müller</td>\n",
              "      <td>Saúl Lisazo, Mario Zaragoza, Juan Pablo Olysla...</td>\n",
              "      <td>2018-03-10</td>\n",
              "      <td>2017</td>\n",
              "      <td>TV-MA</td>\n",
              "      <td>69 min</td>\n",
              "      <td>12</td>\n",
              "      <td>After a terrorist attack in Guatemala, a baby ...</td>\n",
              "      <td>5</td>\n",
              "      <td>Guatemala</td>\n",
              "    </tr>\n",
              "    <tr>\n",
              "      <th>8805</th>\n",
              "      <td>8074</td>\n",
              "      <td>2</td>\n",
              "      <td>Sprinter</td>\n",
              "      <td>Storm Saulter</td>\n",
              "      <td>Dale Elliott, Kadeem Wilson, Dennis Titus, Dav...</td>\n",
              "      <td>2020-04-15</td>\n",
              "      <td>2018</td>\n",
              "      <td>TV-MA</td>\n",
              "      <td>112 min</td>\n",
              "      <td>12</td>\n",
              "      <td>When a Jamaican teen hopes to use track to reu...</td>\n",
              "      <td>5</td>\n",
              "      <td>Jamaica</td>\n",
              "    </tr>\n",
              "    <tr>\n",
              "      <th>8806</th>\n",
              "      <td>8457</td>\n",
              "      <td>2</td>\n",
              "      <td>The Pirates of Somalia</td>\n",
              "      <td>Bryan Buckley</td>\n",
              "      <td>Evan Peters, Barkhad Abdi, Melanie Griffith, A...</td>\n",
              "      <td>2018-03-01</td>\n",
              "      <td>2017</td>\n",
              "      <td>R</td>\n",
              "      <td>118 min</td>\n",
              "      <td>12</td>\n",
              "      <td>An aspiring journalist travels to Somalia in h...</td>\n",
              "      <td>5</td>\n",
              "      <td>Somalia</td>\n",
              "    </tr>\n",
              "  </tbody>\n",
              "</table>\n",
              "</div>\n",
              "      <button class=\"colab-df-convert\" onclick=\"convertToInteractive('df-b81e7224-fb3e-4a59-b832-8b99c03fd457')\"\n",
              "              title=\"Convert this dataframe to an interactive table.\"\n",
              "              style=\"display:none;\">\n",
              "        \n",
              "  <svg xmlns=\"http://www.w3.org/2000/svg\" height=\"24px\"viewBox=\"0 0 24 24\"\n",
              "       width=\"24px\">\n",
              "    <path d=\"M0 0h24v24H0V0z\" fill=\"none\"/>\n",
              "    <path d=\"M18.56 5.44l.94 2.06.94-2.06 2.06-.94-2.06-.94-.94-2.06-.94 2.06-2.06.94zm-11 1L8.5 8.5l.94-2.06 2.06-.94-2.06-.94L8.5 2.5l-.94 2.06-2.06.94zm10 10l.94 2.06.94-2.06 2.06-.94-2.06-.94-.94-2.06-.94 2.06-2.06.94z\"/><path d=\"M17.41 7.96l-1.37-1.37c-.4-.4-.92-.59-1.43-.59-.52 0-1.04.2-1.43.59L10.3 9.45l-7.72 7.72c-.78.78-.78 2.05 0 2.83L4 21.41c.39.39.9.59 1.41.59.51 0 1.02-.2 1.41-.59l7.78-7.78 2.81-2.81c.8-.78.8-2.07 0-2.86zM5.41 20L4 18.59l7.72-7.72 1.47 1.35L5.41 20z\"/>\n",
              "  </svg>\n",
              "      </button>\n",
              "      \n",
              "  <style>\n",
              "    .colab-df-container {\n",
              "      display:flex;\n",
              "      flex-wrap:wrap;\n",
              "      gap: 12px;\n",
              "    }\n",
              "\n",
              "    .colab-df-convert {\n",
              "      background-color: #E8F0FE;\n",
              "      border: none;\n",
              "      border-radius: 50%;\n",
              "      cursor: pointer;\n",
              "      display: none;\n",
              "      fill: #1967D2;\n",
              "      height: 32px;\n",
              "      padding: 0 0 0 0;\n",
              "      width: 32px;\n",
              "    }\n",
              "\n",
              "    .colab-df-convert:hover {\n",
              "      background-color: #E2EBFA;\n",
              "      box-shadow: 0px 1px 2px rgba(60, 64, 67, 0.3), 0px 1px 3px 1px rgba(60, 64, 67, 0.15);\n",
              "      fill: #174EA6;\n",
              "    }\n",
              "\n",
              "    [theme=dark] .colab-df-convert {\n",
              "      background-color: #3B4455;\n",
              "      fill: #D2E3FC;\n",
              "    }\n",
              "\n",
              "    [theme=dark] .colab-df-convert:hover {\n",
              "      background-color: #434B5C;\n",
              "      box-shadow: 0px 1px 3px 1px rgba(0, 0, 0, 0.15);\n",
              "      filter: drop-shadow(0px 1px 2px rgba(0, 0, 0, 0.3));\n",
              "      fill: #FFFFFF;\n",
              "    }\n",
              "  </style>\n",
              "\n",
              "      <script>\n",
              "        const buttonEl =\n",
              "          document.querySelector('#df-b81e7224-fb3e-4a59-b832-8b99c03fd457 button.colab-df-convert');\n",
              "        buttonEl.style.display =\n",
              "          google.colab.kernel.accessAllowed ? 'block' : 'none';\n",
              "\n",
              "        async function convertToInteractive(key) {\n",
              "          const element = document.querySelector('#df-b81e7224-fb3e-4a59-b832-8b99c03fd457');\n",
              "          const dataTable =\n",
              "            await google.colab.kernel.invokeFunction('convertToInteractive',\n",
              "                                                     [key], {});\n",
              "          if (!dataTable) return;\n",
              "\n",
              "          const docLinkHtml = 'Like what you see? Visit the ' +\n",
              "            '<a target=\"_blank\" href=https://colab.research.google.com/notebooks/data_table.ipynb>data table notebook</a>'\n",
              "            + ' to learn more about interactive tables.';\n",
              "          element.innerHTML = '';\n",
              "          dataTable['output_type'] = 'display_data';\n",
              "          await google.colab.output.renderOutput(dataTable, element);\n",
              "          const docLink = document.createElement('div');\n",
              "          docLink.innerHTML = docLinkHtml;\n",
              "          element.appendChild(docLink);\n",
              "        }\n",
              "      </script>\n",
              "    </div>\n",
              "  </div>\n",
              "  "
            ]
          },
          "metadata": {},
          "execution_count": 10
        }
      ]
    },
    {
      "cell_type": "markdown",
      "source": [
        "Ahora es necesario combinarlo con la tabla de movie type."
      ],
      "metadata": {
        "id": "7xLw39kcsapW"
      }
    },
    {
      "cell_type": "code",
      "source": [
        "sql_query = 'SELECT * FROM movie_type;'\n",
        "df_movie_type = pd.read_sql(sql_query, postgres_driver)\n",
        "df_movie_type.head(3)"
      ],
      "metadata": {
        "colab": {
          "base_uri": "https://localhost:8080/",
          "height": 112
        },
        "id": "47irgoZbsku-",
        "outputId": "dc90614d-c17a-48e7-ae06-50f0673d53b1"
      },
      "execution_count": null,
      "outputs": [
        {
          "output_type": "execute_result",
          "data": {
            "text/plain": [
              "   id_type     name\n",
              "0        1  TV Show\n",
              "1        2    Movie"
            ],
            "text/html": [
              "\n",
              "  <div id=\"df-11314f31-21bb-414e-927c-a9cc3848ad07\">\n",
              "    <div class=\"colab-df-container\">\n",
              "      <div>\n",
              "<style scoped>\n",
              "    .dataframe tbody tr th:only-of-type {\n",
              "        vertical-align: middle;\n",
              "    }\n",
              "\n",
              "    .dataframe tbody tr th {\n",
              "        vertical-align: top;\n",
              "    }\n",
              "\n",
              "    .dataframe thead th {\n",
              "        text-align: right;\n",
              "    }\n",
              "</style>\n",
              "<table border=\"1\" class=\"dataframe\">\n",
              "  <thead>\n",
              "    <tr style=\"text-align: right;\">\n",
              "      <th></th>\n",
              "      <th>id_type</th>\n",
              "      <th>name</th>\n",
              "    </tr>\n",
              "  </thead>\n",
              "  <tbody>\n",
              "    <tr>\n",
              "      <th>0</th>\n",
              "      <td>1</td>\n",
              "      <td>TV Show</td>\n",
              "    </tr>\n",
              "    <tr>\n",
              "      <th>1</th>\n",
              "      <td>2</td>\n",
              "      <td>Movie</td>\n",
              "    </tr>\n",
              "  </tbody>\n",
              "</table>\n",
              "</div>\n",
              "      <button class=\"colab-df-convert\" onclick=\"convertToInteractive('df-11314f31-21bb-414e-927c-a9cc3848ad07')\"\n",
              "              title=\"Convert this dataframe to an interactive table.\"\n",
              "              style=\"display:none;\">\n",
              "        \n",
              "  <svg xmlns=\"http://www.w3.org/2000/svg\" height=\"24px\"viewBox=\"0 0 24 24\"\n",
              "       width=\"24px\">\n",
              "    <path d=\"M0 0h24v24H0V0z\" fill=\"none\"/>\n",
              "    <path d=\"M18.56 5.44l.94 2.06.94-2.06 2.06-.94-2.06-.94-.94-2.06-.94 2.06-2.06.94zm-11 1L8.5 8.5l.94-2.06 2.06-.94-2.06-.94L8.5 2.5l-.94 2.06-2.06.94zm10 10l.94 2.06.94-2.06 2.06-.94-2.06-.94-.94-2.06-.94 2.06-2.06.94z\"/><path d=\"M17.41 7.96l-1.37-1.37c-.4-.4-.92-.59-1.43-.59-.52 0-1.04.2-1.43.59L10.3 9.45l-7.72 7.72c-.78.78-.78 2.05 0 2.83L4 21.41c.39.39.9.59 1.41.59.51 0 1.02-.2 1.41-.59l7.78-7.78 2.81-2.81c.8-.78.8-2.07 0-2.86zM5.41 20L4 18.59l7.72-7.72 1.47 1.35L5.41 20z\"/>\n",
              "  </svg>\n",
              "      </button>\n",
              "      \n",
              "  <style>\n",
              "    .colab-df-container {\n",
              "      display:flex;\n",
              "      flex-wrap:wrap;\n",
              "      gap: 12px;\n",
              "    }\n",
              "\n",
              "    .colab-df-convert {\n",
              "      background-color: #E8F0FE;\n",
              "      border: none;\n",
              "      border-radius: 50%;\n",
              "      cursor: pointer;\n",
              "      display: none;\n",
              "      fill: #1967D2;\n",
              "      height: 32px;\n",
              "      padding: 0 0 0 0;\n",
              "      width: 32px;\n",
              "    }\n",
              "\n",
              "    .colab-df-convert:hover {\n",
              "      background-color: #E2EBFA;\n",
              "      box-shadow: 0px 1px 2px rgba(60, 64, 67, 0.3), 0px 1px 3px 1px rgba(60, 64, 67, 0.15);\n",
              "      fill: #174EA6;\n",
              "    }\n",
              "\n",
              "    [theme=dark] .colab-df-convert {\n",
              "      background-color: #3B4455;\n",
              "      fill: #D2E3FC;\n",
              "    }\n",
              "\n",
              "    [theme=dark] .colab-df-convert:hover {\n",
              "      background-color: #434B5C;\n",
              "      box-shadow: 0px 1px 3px 1px rgba(0, 0, 0, 0.15);\n",
              "      filter: drop-shadow(0px 1px 2px rgba(0, 0, 0, 0.3));\n",
              "      fill: #FFFFFF;\n",
              "    }\n",
              "  </style>\n",
              "\n",
              "      <script>\n",
              "        const buttonEl =\n",
              "          document.querySelector('#df-11314f31-21bb-414e-927c-a9cc3848ad07 button.colab-df-convert');\n",
              "        buttonEl.style.display =\n",
              "          google.colab.kernel.accessAllowed ? 'block' : 'none';\n",
              "\n",
              "        async function convertToInteractive(key) {\n",
              "          const element = document.querySelector('#df-11314f31-21bb-414e-927c-a9cc3848ad07');\n",
              "          const dataTable =\n",
              "            await google.colab.kernel.invokeFunction('convertToInteractive',\n",
              "                                                     [key], {});\n",
              "          if (!dataTable) return;\n",
              "\n",
              "          const docLinkHtml = 'Like what you see? Visit the ' +\n",
              "            '<a target=\"_blank\" href=https://colab.research.google.com/notebooks/data_table.ipynb>data table notebook</a>'\n",
              "            + ' to learn more about interactive tables.';\n",
              "          element.innerHTML = '';\n",
              "          dataTable['output_type'] = 'display_data';\n",
              "          await google.colab.output.renderOutput(dataTable, element);\n",
              "          const docLink = document.createElement('div');\n",
              "          docLink.innerHTML = docLinkHtml;\n",
              "          element.appendChild(docLink);\n",
              "        }\n",
              "      </script>\n",
              "    </div>\n",
              "  </div>\n",
              "  "
            ]
          },
          "metadata": {},
          "execution_count": 11
        }
      ]
    },
    {
      "cell_type": "markdown",
      "source": [
        "Le hacemos merge con la tabla que ya habiamos combinado: df_movies_countries"
      ],
      "metadata": {
        "id": "bQCzaewQtCvL"
      }
    },
    {
      "cell_type": "code",
      "source": [
        "df_movies = df_movies_countries.merge(df_movie_type, left_on='type',right_on='id_type', how='inner')\n",
        "dim_movies = df_movies\n",
        "dim_movies=dim_movies.drop(['type','id_type'], axis=1)\n",
        "dim_movies = dim_movies.rename(columns={'show_id': 'id_movies','name': 'show_type'})\n",
        "dim_movies.tail(3)"
      ],
      "metadata": {
        "colab": {
          "base_uri": "https://localhost:8080/",
          "height": 240
        },
        "id": "ju5Imz-5tWvy",
        "outputId": "d16ae33f-35d9-4896-b3ba-68fd32e6e001"
      },
      "execution_count": null,
      "outputs": [
        {
          "output_type": "execute_result",
          "data": {
            "text/plain": [
              "      id_movies                              title        director  \\\n",
              "8804       7984  Septiembre, un llanto en silencio  Kenneth Müller   \n",
              "8805       8074                           Sprinter   Storm Saulter   \n",
              "8806       8457             The Pirates of Somalia   Bryan Buckley   \n",
              "\n",
              "                                                casting  date_added  \\\n",
              "8804  Saúl Lisazo, Mario Zaragoza, Juan Pablo Olysla...  2018-03-10   \n",
              "8805  Dale Elliott, Kadeem Wilson, Dennis Titus, Dav...  2020-04-15   \n",
              "8806  Evan Peters, Barkhad Abdi, Melanie Griffith, A...  2018-03-01   \n",
              "\n",
              "      release_year rating duration  listed_in  \\\n",
              "8804          2017  TV-MA   69 min         12   \n",
              "8805          2018  TV-MA  112 min         12   \n",
              "8806          2017      R  118 min         12   \n",
              "\n",
              "                                            description  price country_name  \\\n",
              "8804  After a terrorist attack in Guatemala, a baby ...      5    Guatemala   \n",
              "8805  When a Jamaican teen hopes to use track to reu...      5      Jamaica   \n",
              "8806  An aspiring journalist travels to Somalia in h...      5      Somalia   \n",
              "\n",
              "     show_type  \n",
              "8804     Movie  \n",
              "8805     Movie  \n",
              "8806     Movie  "
            ],
            "text/html": [
              "\n",
              "  <div id=\"df-1f6b4f93-3fbd-4827-b6cb-c67ddd698831\">\n",
              "    <div class=\"colab-df-container\">\n",
              "      <div>\n",
              "<style scoped>\n",
              "    .dataframe tbody tr th:only-of-type {\n",
              "        vertical-align: middle;\n",
              "    }\n",
              "\n",
              "    .dataframe tbody tr th {\n",
              "        vertical-align: top;\n",
              "    }\n",
              "\n",
              "    .dataframe thead th {\n",
              "        text-align: right;\n",
              "    }\n",
              "</style>\n",
              "<table border=\"1\" class=\"dataframe\">\n",
              "  <thead>\n",
              "    <tr style=\"text-align: right;\">\n",
              "      <th></th>\n",
              "      <th>id_movies</th>\n",
              "      <th>title</th>\n",
              "      <th>director</th>\n",
              "      <th>casting</th>\n",
              "      <th>date_added</th>\n",
              "      <th>release_year</th>\n",
              "      <th>rating</th>\n",
              "      <th>duration</th>\n",
              "      <th>listed_in</th>\n",
              "      <th>description</th>\n",
              "      <th>price</th>\n",
              "      <th>country_name</th>\n",
              "      <th>show_type</th>\n",
              "    </tr>\n",
              "  </thead>\n",
              "  <tbody>\n",
              "    <tr>\n",
              "      <th>8804</th>\n",
              "      <td>7984</td>\n",
              "      <td>Septiembre, un llanto en silencio</td>\n",
              "      <td>Kenneth Müller</td>\n",
              "      <td>Saúl Lisazo, Mario Zaragoza, Juan Pablo Olysla...</td>\n",
              "      <td>2018-03-10</td>\n",
              "      <td>2017</td>\n",
              "      <td>TV-MA</td>\n",
              "      <td>69 min</td>\n",
              "      <td>12</td>\n",
              "      <td>After a terrorist attack in Guatemala, a baby ...</td>\n",
              "      <td>5</td>\n",
              "      <td>Guatemala</td>\n",
              "      <td>Movie</td>\n",
              "    </tr>\n",
              "    <tr>\n",
              "      <th>8805</th>\n",
              "      <td>8074</td>\n",
              "      <td>Sprinter</td>\n",
              "      <td>Storm Saulter</td>\n",
              "      <td>Dale Elliott, Kadeem Wilson, Dennis Titus, Dav...</td>\n",
              "      <td>2020-04-15</td>\n",
              "      <td>2018</td>\n",
              "      <td>TV-MA</td>\n",
              "      <td>112 min</td>\n",
              "      <td>12</td>\n",
              "      <td>When a Jamaican teen hopes to use track to reu...</td>\n",
              "      <td>5</td>\n",
              "      <td>Jamaica</td>\n",
              "      <td>Movie</td>\n",
              "    </tr>\n",
              "    <tr>\n",
              "      <th>8806</th>\n",
              "      <td>8457</td>\n",
              "      <td>The Pirates of Somalia</td>\n",
              "      <td>Bryan Buckley</td>\n",
              "      <td>Evan Peters, Barkhad Abdi, Melanie Griffith, A...</td>\n",
              "      <td>2018-03-01</td>\n",
              "      <td>2017</td>\n",
              "      <td>R</td>\n",
              "      <td>118 min</td>\n",
              "      <td>12</td>\n",
              "      <td>An aspiring journalist travels to Somalia in h...</td>\n",
              "      <td>5</td>\n",
              "      <td>Somalia</td>\n",
              "      <td>Movie</td>\n",
              "    </tr>\n",
              "  </tbody>\n",
              "</table>\n",
              "</div>\n",
              "      <button class=\"colab-df-convert\" onclick=\"convertToInteractive('df-1f6b4f93-3fbd-4827-b6cb-c67ddd698831')\"\n",
              "              title=\"Convert this dataframe to an interactive table.\"\n",
              "              style=\"display:none;\">\n",
              "        \n",
              "  <svg xmlns=\"http://www.w3.org/2000/svg\" height=\"24px\"viewBox=\"0 0 24 24\"\n",
              "       width=\"24px\">\n",
              "    <path d=\"M0 0h24v24H0V0z\" fill=\"none\"/>\n",
              "    <path d=\"M18.56 5.44l.94 2.06.94-2.06 2.06-.94-2.06-.94-.94-2.06-.94 2.06-2.06.94zm-11 1L8.5 8.5l.94-2.06 2.06-.94-2.06-.94L8.5 2.5l-.94 2.06-2.06.94zm10 10l.94 2.06.94-2.06 2.06-.94-2.06-.94-.94-2.06-.94 2.06-2.06.94z\"/><path d=\"M17.41 7.96l-1.37-1.37c-.4-.4-.92-.59-1.43-.59-.52 0-1.04.2-1.43.59L10.3 9.45l-7.72 7.72c-.78.78-.78 2.05 0 2.83L4 21.41c.39.39.9.59 1.41.59.51 0 1.02-.2 1.41-.59l7.78-7.78 2.81-2.81c.8-.78.8-2.07 0-2.86zM5.41 20L4 18.59l7.72-7.72 1.47 1.35L5.41 20z\"/>\n",
              "  </svg>\n",
              "      </button>\n",
              "      \n",
              "  <style>\n",
              "    .colab-df-container {\n",
              "      display:flex;\n",
              "      flex-wrap:wrap;\n",
              "      gap: 12px;\n",
              "    }\n",
              "\n",
              "    .colab-df-convert {\n",
              "      background-color: #E8F0FE;\n",
              "      border: none;\n",
              "      border-radius: 50%;\n",
              "      cursor: pointer;\n",
              "      display: none;\n",
              "      fill: #1967D2;\n",
              "      height: 32px;\n",
              "      padding: 0 0 0 0;\n",
              "      width: 32px;\n",
              "    }\n",
              "\n",
              "    .colab-df-convert:hover {\n",
              "      background-color: #E2EBFA;\n",
              "      box-shadow: 0px 1px 2px rgba(60, 64, 67, 0.3), 0px 1px 3px 1px rgba(60, 64, 67, 0.15);\n",
              "      fill: #174EA6;\n",
              "    }\n",
              "\n",
              "    [theme=dark] .colab-df-convert {\n",
              "      background-color: #3B4455;\n",
              "      fill: #D2E3FC;\n",
              "    }\n",
              "\n",
              "    [theme=dark] .colab-df-convert:hover {\n",
              "      background-color: #434B5C;\n",
              "      box-shadow: 0px 1px 3px 1px rgba(0, 0, 0, 0.15);\n",
              "      filter: drop-shadow(0px 1px 2px rgba(0, 0, 0, 0.3));\n",
              "      fill: #FFFFFF;\n",
              "    }\n",
              "  </style>\n",
              "\n",
              "      <script>\n",
              "        const buttonEl =\n",
              "          document.querySelector('#df-1f6b4f93-3fbd-4827-b6cb-c67ddd698831 button.colab-df-convert');\n",
              "        buttonEl.style.display =\n",
              "          google.colab.kernel.accessAllowed ? 'block' : 'none';\n",
              "\n",
              "        async function convertToInteractive(key) {\n",
              "          const element = document.querySelector('#df-1f6b4f93-3fbd-4827-b6cb-c67ddd698831');\n",
              "          const dataTable =\n",
              "            await google.colab.kernel.invokeFunction('convertToInteractive',\n",
              "                                                     [key], {});\n",
              "          if (!dataTable) return;\n",
              "\n",
              "          const docLinkHtml = 'Like what you see? Visit the ' +\n",
              "            '<a target=\"_blank\" href=https://colab.research.google.com/notebooks/data_table.ipynb>data table notebook</a>'\n",
              "            + ' to learn more about interactive tables.';\n",
              "          element.innerHTML = '';\n",
              "          dataTable['output_type'] = 'display_data';\n",
              "          await google.colab.output.renderOutput(dataTable, element);\n",
              "          const docLink = document.createElement('div');\n",
              "          docLink.innerHTML = docLinkHtml;\n",
              "          element.appendChild(docLink);\n",
              "        }\n",
              "      </script>\n",
              "    </div>\n",
              "  </div>\n",
              "  "
            ]
          },
          "metadata": {},
          "execution_count": 70
        }
      ]
    },
    {
      "cell_type": "markdown",
      "source": [
        "Ahora es necesario combinarlo con la tabla de categories"
      ],
      "metadata": {
        "id": "H52iuPuETRll"
      }
    },
    {
      "cell_type": "code",
      "source": [
        "sql_query = 'SELECT * FROM categories;'\n",
        "df_movie_cate = pd.read_sql(sql_query, postgres_driver)\n",
        "df_movie_cate.head(3)"
      ],
      "metadata": {
        "colab": {
          "base_uri": "https://localhost:8080/",
          "height": 143
        },
        "id": "bJrvQnG_TSzS",
        "outputId": "73865f51-701f-414d-8553-8308ce340435"
      },
      "execution_count": null,
      "outputs": [
        {
          "output_type": "execute_result",
          "data": {
            "text/plain": [
              "   id_category                name\n",
              "0            1  Action & Adventure\n",
              "1            2      Anime Features\n",
              "2            3        Anime Series"
            ],
            "text/html": [
              "\n",
              "  <div id=\"df-d680d305-e29b-43fb-856e-dfd760b2285f\">\n",
              "    <div class=\"colab-df-container\">\n",
              "      <div>\n",
              "<style scoped>\n",
              "    .dataframe tbody tr th:only-of-type {\n",
              "        vertical-align: middle;\n",
              "    }\n",
              "\n",
              "    .dataframe tbody tr th {\n",
              "        vertical-align: top;\n",
              "    }\n",
              "\n",
              "    .dataframe thead th {\n",
              "        text-align: right;\n",
              "    }\n",
              "</style>\n",
              "<table border=\"1\" class=\"dataframe\">\n",
              "  <thead>\n",
              "    <tr style=\"text-align: right;\">\n",
              "      <th></th>\n",
              "      <th>id_category</th>\n",
              "      <th>name</th>\n",
              "    </tr>\n",
              "  </thead>\n",
              "  <tbody>\n",
              "    <tr>\n",
              "      <th>0</th>\n",
              "      <td>1</td>\n",
              "      <td>Action &amp; Adventure</td>\n",
              "    </tr>\n",
              "    <tr>\n",
              "      <th>1</th>\n",
              "      <td>2</td>\n",
              "      <td>Anime Features</td>\n",
              "    </tr>\n",
              "    <tr>\n",
              "      <th>2</th>\n",
              "      <td>3</td>\n",
              "      <td>Anime Series</td>\n",
              "    </tr>\n",
              "  </tbody>\n",
              "</table>\n",
              "</div>\n",
              "      <button class=\"colab-df-convert\" onclick=\"convertToInteractive('df-d680d305-e29b-43fb-856e-dfd760b2285f')\"\n",
              "              title=\"Convert this dataframe to an interactive table.\"\n",
              "              style=\"display:none;\">\n",
              "        \n",
              "  <svg xmlns=\"http://www.w3.org/2000/svg\" height=\"24px\"viewBox=\"0 0 24 24\"\n",
              "       width=\"24px\">\n",
              "    <path d=\"M0 0h24v24H0V0z\" fill=\"none\"/>\n",
              "    <path d=\"M18.56 5.44l.94 2.06.94-2.06 2.06-.94-2.06-.94-.94-2.06-.94 2.06-2.06.94zm-11 1L8.5 8.5l.94-2.06 2.06-.94-2.06-.94L8.5 2.5l-.94 2.06-2.06.94zm10 10l.94 2.06.94-2.06 2.06-.94-2.06-.94-.94-2.06-.94 2.06-2.06.94z\"/><path d=\"M17.41 7.96l-1.37-1.37c-.4-.4-.92-.59-1.43-.59-.52 0-1.04.2-1.43.59L10.3 9.45l-7.72 7.72c-.78.78-.78 2.05 0 2.83L4 21.41c.39.39.9.59 1.41.59.51 0 1.02-.2 1.41-.59l7.78-7.78 2.81-2.81c.8-.78.8-2.07 0-2.86zM5.41 20L4 18.59l7.72-7.72 1.47 1.35L5.41 20z\"/>\n",
              "  </svg>\n",
              "      </button>\n",
              "      \n",
              "  <style>\n",
              "    .colab-df-container {\n",
              "      display:flex;\n",
              "      flex-wrap:wrap;\n",
              "      gap: 12px;\n",
              "    }\n",
              "\n",
              "    .colab-df-convert {\n",
              "      background-color: #E8F0FE;\n",
              "      border: none;\n",
              "      border-radius: 50%;\n",
              "      cursor: pointer;\n",
              "      display: none;\n",
              "      fill: #1967D2;\n",
              "      height: 32px;\n",
              "      padding: 0 0 0 0;\n",
              "      width: 32px;\n",
              "    }\n",
              "\n",
              "    .colab-df-convert:hover {\n",
              "      background-color: #E2EBFA;\n",
              "      box-shadow: 0px 1px 2px rgba(60, 64, 67, 0.3), 0px 1px 3px 1px rgba(60, 64, 67, 0.15);\n",
              "      fill: #174EA6;\n",
              "    }\n",
              "\n",
              "    [theme=dark] .colab-df-convert {\n",
              "      background-color: #3B4455;\n",
              "      fill: #D2E3FC;\n",
              "    }\n",
              "\n",
              "    [theme=dark] .colab-df-convert:hover {\n",
              "      background-color: #434B5C;\n",
              "      box-shadow: 0px 1px 3px 1px rgba(0, 0, 0, 0.15);\n",
              "      filter: drop-shadow(0px 1px 2px rgba(0, 0, 0, 0.3));\n",
              "      fill: #FFFFFF;\n",
              "    }\n",
              "  </style>\n",
              "\n",
              "      <script>\n",
              "        const buttonEl =\n",
              "          document.querySelector('#df-d680d305-e29b-43fb-856e-dfd760b2285f button.colab-df-convert');\n",
              "        buttonEl.style.display =\n",
              "          google.colab.kernel.accessAllowed ? 'block' : 'none';\n",
              "\n",
              "        async function convertToInteractive(key) {\n",
              "          const element = document.querySelector('#df-d680d305-e29b-43fb-856e-dfd760b2285f');\n",
              "          const dataTable =\n",
              "            await google.colab.kernel.invokeFunction('convertToInteractive',\n",
              "                                                     [key], {});\n",
              "          if (!dataTable) return;\n",
              "\n",
              "          const docLinkHtml = 'Like what you see? Visit the ' +\n",
              "            '<a target=\"_blank\" href=https://colab.research.google.com/notebooks/data_table.ipynb>data table notebook</a>'\n",
              "            + ' to learn more about interactive tables.';\n",
              "          element.innerHTML = '';\n",
              "          dataTable['output_type'] = 'display_data';\n",
              "          await google.colab.output.renderOutput(dataTable, element);\n",
              "          const docLink = document.createElement('div');\n",
              "          docLink.innerHTML = docLinkHtml;\n",
              "          element.appendChild(docLink);\n",
              "        }\n",
              "      </script>\n",
              "    </div>\n",
              "  </div>\n",
              "  "
            ]
          },
          "metadata": {},
          "execution_count": 68
        }
      ]
    },
    {
      "cell_type": "code",
      "source": [
        "df_movies_cat = dim_movies.merge(df_movie_cate, left_on='listed_in', right_on='id_category', how='inner')\n",
        "dim_movies = df_movies_cat\n",
        "dim_movies = dim_movies.drop(['listed_in','id_category'], axis=1)\n",
        "dim_movies = dim_movies.rename(columns={'name': 'category'})\n",
        "dim_movies.tail(3)"
      ],
      "metadata": {
        "colab": {
          "base_uri": "https://localhost:8080/",
          "height": 240
        },
        "id": "Fy4HFmSETiIW",
        "outputId": "3c0931aa-b988-4773-fe7d-923c411c9ace"
      },
      "execution_count": null,
      "outputs": [
        {
          "output_type": "execute_result",
          "data": {
            "text/plain": [
              "      id_movies                 title       director  \\\n",
              "8804       1748              Prospect      Zeek Earl   \n",
              "8805       5968                   '89         Varios   \n",
              "8806       2184  What Keeps You Alive  Colin Minihan   \n",
              "\n",
              "                                                casting  date_added  \\\n",
              "8804  Sophie Thatcher, Pedro Pascal, Jay Duplass, An...  2020-11-02   \n",
              "8805                 Lee Dixon, Ian Wright, Paul Merson  2018-05-16   \n",
              "8806  Hannah Emily Anderson, Brittany Allen, Martha ...  2020-08-01   \n",
              "\n",
              "      release_year rating duration  \\\n",
              "8804          2018      R  100 min   \n",
              "8805          2017  TV-PG   87 min   \n",
              "8806          2018      R   99 min   \n",
              "\n",
              "                                            description  price  \\\n",
              "8804  A father and daughter travel to an alien moon ...      5   \n",
              "8805  Mixing old footage with interviews, this is th...      5   \n",
              "8806  A couple's romantic anniversary retreat to a r...      5   \n",
              "\n",
              "          country_name show_type          category  \n",
              "8804            Canada     Movie  Sci-Fi & Fantasy  \n",
              "8805   Corea del Norte     Movie     Sports Movies  \n",
              "8806            Canada     Movie      LGBTQ Movies  "
            ],
            "text/html": [
              "\n",
              "  <div id=\"df-8bcfcea5-bab1-47fe-a6a6-511c007598f7\">\n",
              "    <div class=\"colab-df-container\">\n",
              "      <div>\n",
              "<style scoped>\n",
              "    .dataframe tbody tr th:only-of-type {\n",
              "        vertical-align: middle;\n",
              "    }\n",
              "\n",
              "    .dataframe tbody tr th {\n",
              "        vertical-align: top;\n",
              "    }\n",
              "\n",
              "    .dataframe thead th {\n",
              "        text-align: right;\n",
              "    }\n",
              "</style>\n",
              "<table border=\"1\" class=\"dataframe\">\n",
              "  <thead>\n",
              "    <tr style=\"text-align: right;\">\n",
              "      <th></th>\n",
              "      <th>id_movies</th>\n",
              "      <th>title</th>\n",
              "      <th>director</th>\n",
              "      <th>casting</th>\n",
              "      <th>date_added</th>\n",
              "      <th>release_year</th>\n",
              "      <th>rating</th>\n",
              "      <th>duration</th>\n",
              "      <th>description</th>\n",
              "      <th>price</th>\n",
              "      <th>country_name</th>\n",
              "      <th>show_type</th>\n",
              "      <th>category</th>\n",
              "    </tr>\n",
              "  </thead>\n",
              "  <tbody>\n",
              "    <tr>\n",
              "      <th>8804</th>\n",
              "      <td>1748</td>\n",
              "      <td>Prospect</td>\n",
              "      <td>Zeek Earl</td>\n",
              "      <td>Sophie Thatcher, Pedro Pascal, Jay Duplass, An...</td>\n",
              "      <td>2020-11-02</td>\n",
              "      <td>2018</td>\n",
              "      <td>R</td>\n",
              "      <td>100 min</td>\n",
              "      <td>A father and daughter travel to an alien moon ...</td>\n",
              "      <td>5</td>\n",
              "      <td>Canada</td>\n",
              "      <td>Movie</td>\n",
              "      <td>Sci-Fi &amp; Fantasy</td>\n",
              "    </tr>\n",
              "    <tr>\n",
              "      <th>8805</th>\n",
              "      <td>5968</td>\n",
              "      <td>'89</td>\n",
              "      <td>Varios</td>\n",
              "      <td>Lee Dixon, Ian Wright, Paul Merson</td>\n",
              "      <td>2018-05-16</td>\n",
              "      <td>2017</td>\n",
              "      <td>TV-PG</td>\n",
              "      <td>87 min</td>\n",
              "      <td>Mixing old footage with interviews, this is th...</td>\n",
              "      <td>5</td>\n",
              "      <td>Corea del Norte</td>\n",
              "      <td>Movie</td>\n",
              "      <td>Sports Movies</td>\n",
              "    </tr>\n",
              "    <tr>\n",
              "      <th>8806</th>\n",
              "      <td>2184</td>\n",
              "      <td>What Keeps You Alive</td>\n",
              "      <td>Colin Minihan</td>\n",
              "      <td>Hannah Emily Anderson, Brittany Allen, Martha ...</td>\n",
              "      <td>2020-08-01</td>\n",
              "      <td>2018</td>\n",
              "      <td>R</td>\n",
              "      <td>99 min</td>\n",
              "      <td>A couple's romantic anniversary retreat to a r...</td>\n",
              "      <td>5</td>\n",
              "      <td>Canada</td>\n",
              "      <td>Movie</td>\n",
              "      <td>LGBTQ Movies</td>\n",
              "    </tr>\n",
              "  </tbody>\n",
              "</table>\n",
              "</div>\n",
              "      <button class=\"colab-df-convert\" onclick=\"convertToInteractive('df-8bcfcea5-bab1-47fe-a6a6-511c007598f7')\"\n",
              "              title=\"Convert this dataframe to an interactive table.\"\n",
              "              style=\"display:none;\">\n",
              "        \n",
              "  <svg xmlns=\"http://www.w3.org/2000/svg\" height=\"24px\"viewBox=\"0 0 24 24\"\n",
              "       width=\"24px\">\n",
              "    <path d=\"M0 0h24v24H0V0z\" fill=\"none\"/>\n",
              "    <path d=\"M18.56 5.44l.94 2.06.94-2.06 2.06-.94-2.06-.94-.94-2.06-.94 2.06-2.06.94zm-11 1L8.5 8.5l.94-2.06 2.06-.94-2.06-.94L8.5 2.5l-.94 2.06-2.06.94zm10 10l.94 2.06.94-2.06 2.06-.94-2.06-.94-.94-2.06-.94 2.06-2.06.94z\"/><path d=\"M17.41 7.96l-1.37-1.37c-.4-.4-.92-.59-1.43-.59-.52 0-1.04.2-1.43.59L10.3 9.45l-7.72 7.72c-.78.78-.78 2.05 0 2.83L4 21.41c.39.39.9.59 1.41.59.51 0 1.02-.2 1.41-.59l7.78-7.78 2.81-2.81c.8-.78.8-2.07 0-2.86zM5.41 20L4 18.59l7.72-7.72 1.47 1.35L5.41 20z\"/>\n",
              "  </svg>\n",
              "      </button>\n",
              "      \n",
              "  <style>\n",
              "    .colab-df-container {\n",
              "      display:flex;\n",
              "      flex-wrap:wrap;\n",
              "      gap: 12px;\n",
              "    }\n",
              "\n",
              "    .colab-df-convert {\n",
              "      background-color: #E8F0FE;\n",
              "      border: none;\n",
              "      border-radius: 50%;\n",
              "      cursor: pointer;\n",
              "      display: none;\n",
              "      fill: #1967D2;\n",
              "      height: 32px;\n",
              "      padding: 0 0 0 0;\n",
              "      width: 32px;\n",
              "    }\n",
              "\n",
              "    .colab-df-convert:hover {\n",
              "      background-color: #E2EBFA;\n",
              "      box-shadow: 0px 1px 2px rgba(60, 64, 67, 0.3), 0px 1px 3px 1px rgba(60, 64, 67, 0.15);\n",
              "      fill: #174EA6;\n",
              "    }\n",
              "\n",
              "    [theme=dark] .colab-df-convert {\n",
              "      background-color: #3B4455;\n",
              "      fill: #D2E3FC;\n",
              "    }\n",
              "\n",
              "    [theme=dark] .colab-df-convert:hover {\n",
              "      background-color: #434B5C;\n",
              "      box-shadow: 0px 1px 3px 1px rgba(0, 0, 0, 0.15);\n",
              "      filter: drop-shadow(0px 1px 2px rgba(0, 0, 0, 0.3));\n",
              "      fill: #FFFFFF;\n",
              "    }\n",
              "  </style>\n",
              "\n",
              "      <script>\n",
              "        const buttonEl =\n",
              "          document.querySelector('#df-8bcfcea5-bab1-47fe-a6a6-511c007598f7 button.colab-df-convert');\n",
              "        buttonEl.style.display =\n",
              "          google.colab.kernel.accessAllowed ? 'block' : 'none';\n",
              "\n",
              "        async function convertToInteractive(key) {\n",
              "          const element = document.querySelector('#df-8bcfcea5-bab1-47fe-a6a6-511c007598f7');\n",
              "          const dataTable =\n",
              "            await google.colab.kernel.invokeFunction('convertToInteractive',\n",
              "                                                     [key], {});\n",
              "          if (!dataTable) return;\n",
              "\n",
              "          const docLinkHtml = 'Like what you see? Visit the ' +\n",
              "            '<a target=\"_blank\" href=https://colab.research.google.com/notebooks/data_table.ipynb>data table notebook</a>'\n",
              "            + ' to learn more about interactive tables.';\n",
              "          element.innerHTML = '';\n",
              "          dataTable['output_type'] = 'display_data';\n",
              "          await google.colab.output.renderOutput(dataTable, element);\n",
              "          const docLink = document.createElement('div');\n",
              "          docLink.innerHTML = docLinkHtml;\n",
              "          element.appendChild(docLink);\n",
              "        }\n",
              "      </script>\n",
              "    </div>\n",
              "  </div>\n",
              "  "
            ]
          },
          "metadata": {},
          "execution_count": 71
        }
      ]
    },
    {
      "cell_type": "markdown",
      "source": [
        "##Dimensión Ventas/Casi Tabla de Hechos"
      ],
      "metadata": {
        "id": "hdS996JxxuK2"
      }
    },
    {
      "cell_type": "markdown",
      "source": [
        "Nuestra tabla de ventas con la que contamos en la base de datos, solo contiene las ventas de una sucursal, especificamente del mes de marzo. Necesitamos juntar estos datos con las ventas de Enero y Febrero. Estos archivos se encuentran en S3"
      ],
      "metadata": {
        "id": "gdwOrZE8xzsi"
      }
    },
    {
      "cell_type": "code",
      "source": [
        "s3 = boto3.resource(\n",
        "    service_name = 's3',\n",
        "    region_name = 'us-east-2',\n",
        "    aws_access_key_id = config.get('IAM', 'ACCESS_KEY'),\n",
        "    aws_secret_access_key = config.get('IAM', 'SECRET_ACCESS_KEY')\n",
        ")"
      ],
      "metadata": {
        "id": "ytxWcQZLxrkt"
      },
      "execution_count": null,
      "outputs": []
    },
    {
      "cell_type": "code",
      "source": [
        "for bucket in s3.buckets.all():\n",
        "    S3_BUCKET_NAME = bucket.name\n",
        "    print(bucket.name)"
      ],
      "metadata": {
        "colab": {
          "base_uri": "https://localhost:8080/"
        },
        "id": "J_SLTbL52JFi",
        "outputId": "c60d1590-edd8-4b0d-9166-f48fd7959da3"
      },
      "execution_count": null,
      "outputs": [
        {
          "output_type": "stream",
          "name": "stdout",
          "text": [
            "mymoviestore\n"
          ]
        }
      ]
    },
    {
      "cell_type": "markdown",
      "source": [
        "Se establece el nombre del bucket especifico con el cual se obtendran los archivos necesarios."
      ],
      "metadata": {
        "id": "_2WAhVVwfV6w"
      }
    },
    {
      "cell_type": "code",
      "source": [
        "S3_BUCKET_NAME = 'mymoviestore'"
      ],
      "metadata": {
        "id": "P4b9Wp5H2N4N"
      },
      "execution_count": null,
      "outputs": []
    },
    {
      "cell_type": "markdown",
      "source": [
        "Se obtienen todos los archivos que estan en el bucket"
      ],
      "metadata": {
        "id": "Fka6rIONfgeb"
      }
    },
    {
      "cell_type": "code",
      "source": [
        "remoteFileList = []\n",
        "for objt in s3.Bucket(S3_BUCKET_NAME).objects.all():\n",
        "    remoteFileList.append(objt.key)\n",
        "remoteFileList"
      ],
      "metadata": {
        "colab": {
          "base_uri": "https://localhost:8080/"
        },
        "id": "JCYZm8nY2THs",
        "outputId": "1b4d323f-5d91-4219-8968-6b8a5ff2be4d"
      },
      "execution_count": null,
      "outputs": [
        {
          "output_type": "execute_result",
          "data": {
            "text/plain": [
              "['Ch3-SampleDateDim 3.xlsx',\n",
              " 'ventas/',\n",
              " 'ventas/Transacciones_ventas_enero.csv',\n",
              " 'ventas/Transacciones_ventas_febrero.csv']"
            ]
          },
          "metadata": {},
          "execution_count": 16
        }
      ]
    },
    {
      "cell_type": "markdown",
      "source": [
        "##Transformación de data de ventas "
      ],
      "metadata": {
        "id": "mAWFikIJfujA"
      }
    },
    {
      "cell_type": "markdown",
      "source": [
        "Obtenemos la data de las **ventas de Enero** y la guardamos en un DataFrame."
      ],
      "metadata": {
        "id": "D571ewt82XeF"
      }
    },
    {
      "cell_type": "code",
      "source": [
        "file = s3.Bucket(S3_BUCKET_NAME).Object(remoteFileList[2]).get()\n",
        "data = file['Body'].read()\n",
        "df_ventas_enero = pd.read_csv(io.BytesIO(data))\n",
        "df_ventas_enero.head(3)"
      ],
      "metadata": {
        "colab": {
          "base_uri": "https://localhost:8080/",
          "height": 143
        },
        "id": "oyfS2HT_2ZY8",
        "outputId": "4886e994-4d31-49b4-f061-f07c8bd4df66"
      },
      "execution_count": null,
      "outputs": [
        {
          "output_type": "execute_result",
          "data": {
            "text/plain": [
              "   id_ventas  movies_show_id  custumer_id_client  payment_methods_id_payment  \\\n",
              "0          1             357                 148                           1   \n",
              "1          2            7082                 265                           3   \n",
              "2          3            2512                 187                           2   \n",
              "\n",
              "   total     fecha  \n",
              "0     15  1/1/2023  \n",
              "1     40  1/1/2023  \n",
              "2      5  1/1/2023  "
            ],
            "text/html": [
              "\n",
              "  <div id=\"df-40834248-70c9-433f-91e1-27c35b42b733\">\n",
              "    <div class=\"colab-df-container\">\n",
              "      <div>\n",
              "<style scoped>\n",
              "    .dataframe tbody tr th:only-of-type {\n",
              "        vertical-align: middle;\n",
              "    }\n",
              "\n",
              "    .dataframe tbody tr th {\n",
              "        vertical-align: top;\n",
              "    }\n",
              "\n",
              "    .dataframe thead th {\n",
              "        text-align: right;\n",
              "    }\n",
              "</style>\n",
              "<table border=\"1\" class=\"dataframe\">\n",
              "  <thead>\n",
              "    <tr style=\"text-align: right;\">\n",
              "      <th></th>\n",
              "      <th>id_ventas</th>\n",
              "      <th>movies_show_id</th>\n",
              "      <th>custumer_id_client</th>\n",
              "      <th>payment_methods_id_payment</th>\n",
              "      <th>total</th>\n",
              "      <th>fecha</th>\n",
              "    </tr>\n",
              "  </thead>\n",
              "  <tbody>\n",
              "    <tr>\n",
              "      <th>0</th>\n",
              "      <td>1</td>\n",
              "      <td>357</td>\n",
              "      <td>148</td>\n",
              "      <td>1</td>\n",
              "      <td>15</td>\n",
              "      <td>1/1/2023</td>\n",
              "    </tr>\n",
              "    <tr>\n",
              "      <th>1</th>\n",
              "      <td>2</td>\n",
              "      <td>7082</td>\n",
              "      <td>265</td>\n",
              "      <td>3</td>\n",
              "      <td>40</td>\n",
              "      <td>1/1/2023</td>\n",
              "    </tr>\n",
              "    <tr>\n",
              "      <th>2</th>\n",
              "      <td>3</td>\n",
              "      <td>2512</td>\n",
              "      <td>187</td>\n",
              "      <td>2</td>\n",
              "      <td>5</td>\n",
              "      <td>1/1/2023</td>\n",
              "    </tr>\n",
              "  </tbody>\n",
              "</table>\n",
              "</div>\n",
              "      <button class=\"colab-df-convert\" onclick=\"convertToInteractive('df-40834248-70c9-433f-91e1-27c35b42b733')\"\n",
              "              title=\"Convert this dataframe to an interactive table.\"\n",
              "              style=\"display:none;\">\n",
              "        \n",
              "  <svg xmlns=\"http://www.w3.org/2000/svg\" height=\"24px\"viewBox=\"0 0 24 24\"\n",
              "       width=\"24px\">\n",
              "    <path d=\"M0 0h24v24H0V0z\" fill=\"none\"/>\n",
              "    <path d=\"M18.56 5.44l.94 2.06.94-2.06 2.06-.94-2.06-.94-.94-2.06-.94 2.06-2.06.94zm-11 1L8.5 8.5l.94-2.06 2.06-.94-2.06-.94L8.5 2.5l-.94 2.06-2.06.94zm10 10l.94 2.06.94-2.06 2.06-.94-2.06-.94-.94-2.06-.94 2.06-2.06.94z\"/><path d=\"M17.41 7.96l-1.37-1.37c-.4-.4-.92-.59-1.43-.59-.52 0-1.04.2-1.43.59L10.3 9.45l-7.72 7.72c-.78.78-.78 2.05 0 2.83L4 21.41c.39.39.9.59 1.41.59.51 0 1.02-.2 1.41-.59l7.78-7.78 2.81-2.81c.8-.78.8-2.07 0-2.86zM5.41 20L4 18.59l7.72-7.72 1.47 1.35L5.41 20z\"/>\n",
              "  </svg>\n",
              "      </button>\n",
              "      \n",
              "  <style>\n",
              "    .colab-df-container {\n",
              "      display:flex;\n",
              "      flex-wrap:wrap;\n",
              "      gap: 12px;\n",
              "    }\n",
              "\n",
              "    .colab-df-convert {\n",
              "      background-color: #E8F0FE;\n",
              "      border: none;\n",
              "      border-radius: 50%;\n",
              "      cursor: pointer;\n",
              "      display: none;\n",
              "      fill: #1967D2;\n",
              "      height: 32px;\n",
              "      padding: 0 0 0 0;\n",
              "      width: 32px;\n",
              "    }\n",
              "\n",
              "    .colab-df-convert:hover {\n",
              "      background-color: #E2EBFA;\n",
              "      box-shadow: 0px 1px 2px rgba(60, 64, 67, 0.3), 0px 1px 3px 1px rgba(60, 64, 67, 0.15);\n",
              "      fill: #174EA6;\n",
              "    }\n",
              "\n",
              "    [theme=dark] .colab-df-convert {\n",
              "      background-color: #3B4455;\n",
              "      fill: #D2E3FC;\n",
              "    }\n",
              "\n",
              "    [theme=dark] .colab-df-convert:hover {\n",
              "      background-color: #434B5C;\n",
              "      box-shadow: 0px 1px 3px 1px rgba(0, 0, 0, 0.15);\n",
              "      filter: drop-shadow(0px 1px 2px rgba(0, 0, 0, 0.3));\n",
              "      fill: #FFFFFF;\n",
              "    }\n",
              "  </style>\n",
              "\n",
              "      <script>\n",
              "        const buttonEl =\n",
              "          document.querySelector('#df-40834248-70c9-433f-91e1-27c35b42b733 button.colab-df-convert');\n",
              "        buttonEl.style.display =\n",
              "          google.colab.kernel.accessAllowed ? 'block' : 'none';\n",
              "\n",
              "        async function convertToInteractive(key) {\n",
              "          const element = document.querySelector('#df-40834248-70c9-433f-91e1-27c35b42b733');\n",
              "          const dataTable =\n",
              "            await google.colab.kernel.invokeFunction('convertToInteractive',\n",
              "                                                     [key], {});\n",
              "          if (!dataTable) return;\n",
              "\n",
              "          const docLinkHtml = 'Like what you see? Visit the ' +\n",
              "            '<a target=\"_blank\" href=https://colab.research.google.com/notebooks/data_table.ipynb>data table notebook</a>'\n",
              "            + ' to learn more about interactive tables.';\n",
              "          element.innerHTML = '';\n",
              "          dataTable['output_type'] = 'display_data';\n",
              "          await google.colab.output.renderOutput(dataTable, element);\n",
              "          const docLink = document.createElement('div');\n",
              "          docLink.innerHTML = docLinkHtml;\n",
              "          element.appendChild(docLink);\n",
              "        }\n",
              "      </script>\n",
              "    </div>\n",
              "  </div>\n",
              "  "
            ]
          },
          "metadata": {},
          "execution_count": 17
        }
      ]
    },
    {
      "cell_type": "markdown",
      "source": [
        "Leemos las **ventas de Febrero**"
      ],
      "metadata": {
        "id": "TOKFUFw19Vs_"
      }
    },
    {
      "cell_type": "code",
      "source": [
        "file = s3.Bucket(S3_BUCKET_NAME).Object(remoteFileList[3]).get()\n",
        "data = file['Body'].read()\n",
        "df_ventas_febrero= pd.read_csv(io.BytesIO(data))\n",
        "df_ventas_febrero.head(3)"
      ],
      "metadata": {
        "colab": {
          "base_uri": "https://localhost:8080/",
          "height": 143
        },
        "id": "lU4Qs73c61Qk",
        "outputId": "0ffa6c4d-5ad8-425e-8706-5413531bd681"
      },
      "execution_count": null,
      "outputs": [
        {
          "output_type": "execute_result",
          "data": {
            "text/plain": [
              "   id_ventas  movies_show_id  custumer_id_client  payment_methods_id_payment  \\\n",
              "0          1             252                 178                           2   \n",
              "1          2            3170                 216                           1   \n",
              "2          3            3838                 238                           2   \n",
              "\n",
              "   total     fecha  \n",
              "0     35  2/1/2023  \n",
              "1     40  2/1/2023  \n",
              "2     35  2/1/2023  "
            ],
            "text/html": [
              "\n",
              "  <div id=\"df-2f2dbca5-a719-4bb7-9ab7-7cfeccdd9f3f\">\n",
              "    <div class=\"colab-df-container\">\n",
              "      <div>\n",
              "<style scoped>\n",
              "    .dataframe tbody tr th:only-of-type {\n",
              "        vertical-align: middle;\n",
              "    }\n",
              "\n",
              "    .dataframe tbody tr th {\n",
              "        vertical-align: top;\n",
              "    }\n",
              "\n",
              "    .dataframe thead th {\n",
              "        text-align: right;\n",
              "    }\n",
              "</style>\n",
              "<table border=\"1\" class=\"dataframe\">\n",
              "  <thead>\n",
              "    <tr style=\"text-align: right;\">\n",
              "      <th></th>\n",
              "      <th>id_ventas</th>\n",
              "      <th>movies_show_id</th>\n",
              "      <th>custumer_id_client</th>\n",
              "      <th>payment_methods_id_payment</th>\n",
              "      <th>total</th>\n",
              "      <th>fecha</th>\n",
              "    </tr>\n",
              "  </thead>\n",
              "  <tbody>\n",
              "    <tr>\n",
              "      <th>0</th>\n",
              "      <td>1</td>\n",
              "      <td>252</td>\n",
              "      <td>178</td>\n",
              "      <td>2</td>\n",
              "      <td>35</td>\n",
              "      <td>2/1/2023</td>\n",
              "    </tr>\n",
              "    <tr>\n",
              "      <th>1</th>\n",
              "      <td>2</td>\n",
              "      <td>3170</td>\n",
              "      <td>216</td>\n",
              "      <td>1</td>\n",
              "      <td>40</td>\n",
              "      <td>2/1/2023</td>\n",
              "    </tr>\n",
              "    <tr>\n",
              "      <th>2</th>\n",
              "      <td>3</td>\n",
              "      <td>3838</td>\n",
              "      <td>238</td>\n",
              "      <td>2</td>\n",
              "      <td>35</td>\n",
              "      <td>2/1/2023</td>\n",
              "    </tr>\n",
              "  </tbody>\n",
              "</table>\n",
              "</div>\n",
              "      <button class=\"colab-df-convert\" onclick=\"convertToInteractive('df-2f2dbca5-a719-4bb7-9ab7-7cfeccdd9f3f')\"\n",
              "              title=\"Convert this dataframe to an interactive table.\"\n",
              "              style=\"display:none;\">\n",
              "        \n",
              "  <svg xmlns=\"http://www.w3.org/2000/svg\" height=\"24px\"viewBox=\"0 0 24 24\"\n",
              "       width=\"24px\">\n",
              "    <path d=\"M0 0h24v24H0V0z\" fill=\"none\"/>\n",
              "    <path d=\"M18.56 5.44l.94 2.06.94-2.06 2.06-.94-2.06-.94-.94-2.06-.94 2.06-2.06.94zm-11 1L8.5 8.5l.94-2.06 2.06-.94-2.06-.94L8.5 2.5l-.94 2.06-2.06.94zm10 10l.94 2.06.94-2.06 2.06-.94-2.06-.94-.94-2.06-.94 2.06-2.06.94z\"/><path d=\"M17.41 7.96l-1.37-1.37c-.4-.4-.92-.59-1.43-.59-.52 0-1.04.2-1.43.59L10.3 9.45l-7.72 7.72c-.78.78-.78 2.05 0 2.83L4 21.41c.39.39.9.59 1.41.59.51 0 1.02-.2 1.41-.59l7.78-7.78 2.81-2.81c.8-.78.8-2.07 0-2.86zM5.41 20L4 18.59l7.72-7.72 1.47 1.35L5.41 20z\"/>\n",
              "  </svg>\n",
              "      </button>\n",
              "      \n",
              "  <style>\n",
              "    .colab-df-container {\n",
              "      display:flex;\n",
              "      flex-wrap:wrap;\n",
              "      gap: 12px;\n",
              "    }\n",
              "\n",
              "    .colab-df-convert {\n",
              "      background-color: #E8F0FE;\n",
              "      border: none;\n",
              "      border-radius: 50%;\n",
              "      cursor: pointer;\n",
              "      display: none;\n",
              "      fill: #1967D2;\n",
              "      height: 32px;\n",
              "      padding: 0 0 0 0;\n",
              "      width: 32px;\n",
              "    }\n",
              "\n",
              "    .colab-df-convert:hover {\n",
              "      background-color: #E2EBFA;\n",
              "      box-shadow: 0px 1px 2px rgba(60, 64, 67, 0.3), 0px 1px 3px 1px rgba(60, 64, 67, 0.15);\n",
              "      fill: #174EA6;\n",
              "    }\n",
              "\n",
              "    [theme=dark] .colab-df-convert {\n",
              "      background-color: #3B4455;\n",
              "      fill: #D2E3FC;\n",
              "    }\n",
              "\n",
              "    [theme=dark] .colab-df-convert:hover {\n",
              "      background-color: #434B5C;\n",
              "      box-shadow: 0px 1px 3px 1px rgba(0, 0, 0, 0.15);\n",
              "      filter: drop-shadow(0px 1px 2px rgba(0, 0, 0, 0.3));\n",
              "      fill: #FFFFFF;\n",
              "    }\n",
              "  </style>\n",
              "\n",
              "      <script>\n",
              "        const buttonEl =\n",
              "          document.querySelector('#df-2f2dbca5-a719-4bb7-9ab7-7cfeccdd9f3f button.colab-df-convert');\n",
              "        buttonEl.style.display =\n",
              "          google.colab.kernel.accessAllowed ? 'block' : 'none';\n",
              "\n",
              "        async function convertToInteractive(key) {\n",
              "          const element = document.querySelector('#df-2f2dbca5-a719-4bb7-9ab7-7cfeccdd9f3f');\n",
              "          const dataTable =\n",
              "            await google.colab.kernel.invokeFunction('convertToInteractive',\n",
              "                                                     [key], {});\n",
              "          if (!dataTable) return;\n",
              "\n",
              "          const docLinkHtml = 'Like what you see? Visit the ' +\n",
              "            '<a target=\"_blank\" href=https://colab.research.google.com/notebooks/data_table.ipynb>data table notebook</a>'\n",
              "            + ' to learn more about interactive tables.';\n",
              "          element.innerHTML = '';\n",
              "          dataTable['output_type'] = 'display_data';\n",
              "          await google.colab.output.renderOutput(dataTable, element);\n",
              "          const docLink = document.createElement('div');\n",
              "          docLink.innerHTML = docLinkHtml;\n",
              "          element.appendChild(docLink);\n",
              "        }\n",
              "      </script>\n",
              "    </div>\n",
              "  </div>\n",
              "  "
            ]
          },
          "metadata": {},
          "execution_count": 18
        }
      ]
    },
    {
      "cell_type": "markdown",
      "source": [
        "Incluimos las **ventas de Marzo**, que se encuentran en nuestra base de datos."
      ],
      "metadata": {
        "id": "Np7Ecxh49asF"
      }
    },
    {
      "cell_type": "code",
      "source": [
        "sql_query = 'SELECT * FROM ventas;'\n",
        "df_ventas_marzo = pd.read_sql(sql_query, postgres_driver)\n",
        "df_ventas_marzo.head(3)"
      ],
      "metadata": {
        "colab": {
          "base_uri": "https://localhost:8080/",
          "height": 143
        },
        "id": "2akuDZx-9gQO",
        "outputId": "f830bd40-398d-4873-8bfb-da0fbd1e31e6"
      },
      "execution_count": null,
      "outputs": [
        {
          "output_type": "execute_result",
          "data": {
            "text/plain": [
              "   id_ventas  movies_show_id  custumer_id_client  payment_methods_id_payment  \\\n",
              "0          1            2453                  70                           3   \n",
              "1          2            4642                 241                           3   \n",
              "2          3            5185                 144                           3   \n",
              "\n",
              "   total       fecha  \n",
              "0     35  2023-03-01  \n",
              "1     15  2023-03-01  \n",
              "2     30  2023-03-01  "
            ],
            "text/html": [
              "\n",
              "  <div id=\"df-b509bd8a-8a2a-449a-b19c-0f0fcec71ffb\">\n",
              "    <div class=\"colab-df-container\">\n",
              "      <div>\n",
              "<style scoped>\n",
              "    .dataframe tbody tr th:only-of-type {\n",
              "        vertical-align: middle;\n",
              "    }\n",
              "\n",
              "    .dataframe tbody tr th {\n",
              "        vertical-align: top;\n",
              "    }\n",
              "\n",
              "    .dataframe thead th {\n",
              "        text-align: right;\n",
              "    }\n",
              "</style>\n",
              "<table border=\"1\" class=\"dataframe\">\n",
              "  <thead>\n",
              "    <tr style=\"text-align: right;\">\n",
              "      <th></th>\n",
              "      <th>id_ventas</th>\n",
              "      <th>movies_show_id</th>\n",
              "      <th>custumer_id_client</th>\n",
              "      <th>payment_methods_id_payment</th>\n",
              "      <th>total</th>\n",
              "      <th>fecha</th>\n",
              "    </tr>\n",
              "  </thead>\n",
              "  <tbody>\n",
              "    <tr>\n",
              "      <th>0</th>\n",
              "      <td>1</td>\n",
              "      <td>2453</td>\n",
              "      <td>70</td>\n",
              "      <td>3</td>\n",
              "      <td>35</td>\n",
              "      <td>2023-03-01</td>\n",
              "    </tr>\n",
              "    <tr>\n",
              "      <th>1</th>\n",
              "      <td>2</td>\n",
              "      <td>4642</td>\n",
              "      <td>241</td>\n",
              "      <td>3</td>\n",
              "      <td>15</td>\n",
              "      <td>2023-03-01</td>\n",
              "    </tr>\n",
              "    <tr>\n",
              "      <th>2</th>\n",
              "      <td>3</td>\n",
              "      <td>5185</td>\n",
              "      <td>144</td>\n",
              "      <td>3</td>\n",
              "      <td>30</td>\n",
              "      <td>2023-03-01</td>\n",
              "    </tr>\n",
              "  </tbody>\n",
              "</table>\n",
              "</div>\n",
              "      <button class=\"colab-df-convert\" onclick=\"convertToInteractive('df-b509bd8a-8a2a-449a-b19c-0f0fcec71ffb')\"\n",
              "              title=\"Convert this dataframe to an interactive table.\"\n",
              "              style=\"display:none;\">\n",
              "        \n",
              "  <svg xmlns=\"http://www.w3.org/2000/svg\" height=\"24px\"viewBox=\"0 0 24 24\"\n",
              "       width=\"24px\">\n",
              "    <path d=\"M0 0h24v24H0V0z\" fill=\"none\"/>\n",
              "    <path d=\"M18.56 5.44l.94 2.06.94-2.06 2.06-.94-2.06-.94-.94-2.06-.94 2.06-2.06.94zm-11 1L8.5 8.5l.94-2.06 2.06-.94-2.06-.94L8.5 2.5l-.94 2.06-2.06.94zm10 10l.94 2.06.94-2.06 2.06-.94-2.06-.94-.94-2.06-.94 2.06-2.06.94z\"/><path d=\"M17.41 7.96l-1.37-1.37c-.4-.4-.92-.59-1.43-.59-.52 0-1.04.2-1.43.59L10.3 9.45l-7.72 7.72c-.78.78-.78 2.05 0 2.83L4 21.41c.39.39.9.59 1.41.59.51 0 1.02-.2 1.41-.59l7.78-7.78 2.81-2.81c.8-.78.8-2.07 0-2.86zM5.41 20L4 18.59l7.72-7.72 1.47 1.35L5.41 20z\"/>\n",
              "  </svg>\n",
              "      </button>\n",
              "      \n",
              "  <style>\n",
              "    .colab-df-container {\n",
              "      display:flex;\n",
              "      flex-wrap:wrap;\n",
              "      gap: 12px;\n",
              "    }\n",
              "\n",
              "    .colab-df-convert {\n",
              "      background-color: #E8F0FE;\n",
              "      border: none;\n",
              "      border-radius: 50%;\n",
              "      cursor: pointer;\n",
              "      display: none;\n",
              "      fill: #1967D2;\n",
              "      height: 32px;\n",
              "      padding: 0 0 0 0;\n",
              "      width: 32px;\n",
              "    }\n",
              "\n",
              "    .colab-df-convert:hover {\n",
              "      background-color: #E2EBFA;\n",
              "      box-shadow: 0px 1px 2px rgba(60, 64, 67, 0.3), 0px 1px 3px 1px rgba(60, 64, 67, 0.15);\n",
              "      fill: #174EA6;\n",
              "    }\n",
              "\n",
              "    [theme=dark] .colab-df-convert {\n",
              "      background-color: #3B4455;\n",
              "      fill: #D2E3FC;\n",
              "    }\n",
              "\n",
              "    [theme=dark] .colab-df-convert:hover {\n",
              "      background-color: #434B5C;\n",
              "      box-shadow: 0px 1px 3px 1px rgba(0, 0, 0, 0.15);\n",
              "      filter: drop-shadow(0px 1px 2px rgba(0, 0, 0, 0.3));\n",
              "      fill: #FFFFFF;\n",
              "    }\n",
              "  </style>\n",
              "\n",
              "      <script>\n",
              "        const buttonEl =\n",
              "          document.querySelector('#df-b509bd8a-8a2a-449a-b19c-0f0fcec71ffb button.colab-df-convert');\n",
              "        buttonEl.style.display =\n",
              "          google.colab.kernel.accessAllowed ? 'block' : 'none';\n",
              "\n",
              "        async function convertToInteractive(key) {\n",
              "          const element = document.querySelector('#df-b509bd8a-8a2a-449a-b19c-0f0fcec71ffb');\n",
              "          const dataTable =\n",
              "            await google.colab.kernel.invokeFunction('convertToInteractive',\n",
              "                                                     [key], {});\n",
              "          if (!dataTable) return;\n",
              "\n",
              "          const docLinkHtml = 'Like what you see? Visit the ' +\n",
              "            '<a target=\"_blank\" href=https://colab.research.google.com/notebooks/data_table.ipynb>data table notebook</a>'\n",
              "            + ' to learn more about interactive tables.';\n",
              "          element.innerHTML = '';\n",
              "          dataTable['output_type'] = 'display_data';\n",
              "          await google.colab.output.renderOutput(dataTable, element);\n",
              "          const docLink = document.createElement('div');\n",
              "          docLink.innerHTML = docLinkHtml;\n",
              "          element.appendChild(docLink);\n",
              "        }\n",
              "      </script>\n",
              "    </div>\n",
              "  </div>\n",
              "  "
            ]
          },
          "metadata": {},
          "execution_count": 19
        }
      ]
    },
    {
      "cell_type": "markdown",
      "source": [
        "Unimos todas las ventas de la tienda del año en un mismo data_frame Ventas"
      ],
      "metadata": {
        "id": "W_uqkTEw_mmU"
      }
    },
    {
      "cell_type": "code",
      "source": [
        "df_ventas = pd.concat([df_ventas_enero,df_ventas_febrero,df_ventas_marzo])\n",
        "df_ventas = df_ventas.rename(columns={'movies_show_id': 'id_movies', 'custumer_id_client': 'id_client','payment_methods_id_payment': 'id_payment'})"
      ],
      "metadata": {
        "id": "X3sSSp5s_E2i"
      },
      "execution_count": null,
      "outputs": []
    },
    {
      "cell_type": "code",
      "source": [
        "df_ventas.head(5)"
      ],
      "metadata": {
        "colab": {
          "base_uri": "https://localhost:8080/",
          "height": 206
        },
        "id": "fdZz3ehY_efL",
        "outputId": "21a92af7-570f-4e62-c1ba-276ff6dce78a"
      },
      "execution_count": null,
      "outputs": [
        {
          "output_type": "execute_result",
          "data": {
            "text/plain": [
              "   id_ventas  id_movies  id_client  id_payment  total     fecha\n",
              "0          1        357        148           1     15  1/1/2023\n",
              "1          2       7082        265           3     40  1/1/2023\n",
              "2          3       2512        187           2      5  1/1/2023\n",
              "3          4       1493          9           1     40  1/1/2023\n",
              "4          5       2590         56           1     45  1/1/2023"
            ],
            "text/html": [
              "\n",
              "  <div id=\"df-71a8af21-6b58-4a90-aab2-6ac71b766988\">\n",
              "    <div class=\"colab-df-container\">\n",
              "      <div>\n",
              "<style scoped>\n",
              "    .dataframe tbody tr th:only-of-type {\n",
              "        vertical-align: middle;\n",
              "    }\n",
              "\n",
              "    .dataframe tbody tr th {\n",
              "        vertical-align: top;\n",
              "    }\n",
              "\n",
              "    .dataframe thead th {\n",
              "        text-align: right;\n",
              "    }\n",
              "</style>\n",
              "<table border=\"1\" class=\"dataframe\">\n",
              "  <thead>\n",
              "    <tr style=\"text-align: right;\">\n",
              "      <th></th>\n",
              "      <th>id_ventas</th>\n",
              "      <th>id_movies</th>\n",
              "      <th>id_client</th>\n",
              "      <th>id_payment</th>\n",
              "      <th>total</th>\n",
              "      <th>fecha</th>\n",
              "    </tr>\n",
              "  </thead>\n",
              "  <tbody>\n",
              "    <tr>\n",
              "      <th>0</th>\n",
              "      <td>1</td>\n",
              "      <td>357</td>\n",
              "      <td>148</td>\n",
              "      <td>1</td>\n",
              "      <td>15</td>\n",
              "      <td>1/1/2023</td>\n",
              "    </tr>\n",
              "    <tr>\n",
              "      <th>1</th>\n",
              "      <td>2</td>\n",
              "      <td>7082</td>\n",
              "      <td>265</td>\n",
              "      <td>3</td>\n",
              "      <td>40</td>\n",
              "      <td>1/1/2023</td>\n",
              "    </tr>\n",
              "    <tr>\n",
              "      <th>2</th>\n",
              "      <td>3</td>\n",
              "      <td>2512</td>\n",
              "      <td>187</td>\n",
              "      <td>2</td>\n",
              "      <td>5</td>\n",
              "      <td>1/1/2023</td>\n",
              "    </tr>\n",
              "    <tr>\n",
              "      <th>3</th>\n",
              "      <td>4</td>\n",
              "      <td>1493</td>\n",
              "      <td>9</td>\n",
              "      <td>1</td>\n",
              "      <td>40</td>\n",
              "      <td>1/1/2023</td>\n",
              "    </tr>\n",
              "    <tr>\n",
              "      <th>4</th>\n",
              "      <td>5</td>\n",
              "      <td>2590</td>\n",
              "      <td>56</td>\n",
              "      <td>1</td>\n",
              "      <td>45</td>\n",
              "      <td>1/1/2023</td>\n",
              "    </tr>\n",
              "  </tbody>\n",
              "</table>\n",
              "</div>\n",
              "      <button class=\"colab-df-convert\" onclick=\"convertToInteractive('df-71a8af21-6b58-4a90-aab2-6ac71b766988')\"\n",
              "              title=\"Convert this dataframe to an interactive table.\"\n",
              "              style=\"display:none;\">\n",
              "        \n",
              "  <svg xmlns=\"http://www.w3.org/2000/svg\" height=\"24px\"viewBox=\"0 0 24 24\"\n",
              "       width=\"24px\">\n",
              "    <path d=\"M0 0h24v24H0V0z\" fill=\"none\"/>\n",
              "    <path d=\"M18.56 5.44l.94 2.06.94-2.06 2.06-.94-2.06-.94-.94-2.06-.94 2.06-2.06.94zm-11 1L8.5 8.5l.94-2.06 2.06-.94-2.06-.94L8.5 2.5l-.94 2.06-2.06.94zm10 10l.94 2.06.94-2.06 2.06-.94-2.06-.94-.94-2.06-.94 2.06-2.06.94z\"/><path d=\"M17.41 7.96l-1.37-1.37c-.4-.4-.92-.59-1.43-.59-.52 0-1.04.2-1.43.59L10.3 9.45l-7.72 7.72c-.78.78-.78 2.05 0 2.83L4 21.41c.39.39.9.59 1.41.59.51 0 1.02-.2 1.41-.59l7.78-7.78 2.81-2.81c.8-.78.8-2.07 0-2.86zM5.41 20L4 18.59l7.72-7.72 1.47 1.35L5.41 20z\"/>\n",
              "  </svg>\n",
              "      </button>\n",
              "      \n",
              "  <style>\n",
              "    .colab-df-container {\n",
              "      display:flex;\n",
              "      flex-wrap:wrap;\n",
              "      gap: 12px;\n",
              "    }\n",
              "\n",
              "    .colab-df-convert {\n",
              "      background-color: #E8F0FE;\n",
              "      border: none;\n",
              "      border-radius: 50%;\n",
              "      cursor: pointer;\n",
              "      display: none;\n",
              "      fill: #1967D2;\n",
              "      height: 32px;\n",
              "      padding: 0 0 0 0;\n",
              "      width: 32px;\n",
              "    }\n",
              "\n",
              "    .colab-df-convert:hover {\n",
              "      background-color: #E2EBFA;\n",
              "      box-shadow: 0px 1px 2px rgba(60, 64, 67, 0.3), 0px 1px 3px 1px rgba(60, 64, 67, 0.15);\n",
              "      fill: #174EA6;\n",
              "    }\n",
              "\n",
              "    [theme=dark] .colab-df-convert {\n",
              "      background-color: #3B4455;\n",
              "      fill: #D2E3FC;\n",
              "    }\n",
              "\n",
              "    [theme=dark] .colab-df-convert:hover {\n",
              "      background-color: #434B5C;\n",
              "      box-shadow: 0px 1px 3px 1px rgba(0, 0, 0, 0.15);\n",
              "      filter: drop-shadow(0px 1px 2px rgba(0, 0, 0, 0.3));\n",
              "      fill: #FFFFFF;\n",
              "    }\n",
              "  </style>\n",
              "\n",
              "      <script>\n",
              "        const buttonEl =\n",
              "          document.querySelector('#df-71a8af21-6b58-4a90-aab2-6ac71b766988 button.colab-df-convert');\n",
              "        buttonEl.style.display =\n",
              "          google.colab.kernel.accessAllowed ? 'block' : 'none';\n",
              "\n",
              "        async function convertToInteractive(key) {\n",
              "          const element = document.querySelector('#df-71a8af21-6b58-4a90-aab2-6ac71b766988');\n",
              "          const dataTable =\n",
              "            await google.colab.kernel.invokeFunction('convertToInteractive',\n",
              "                                                     [key], {});\n",
              "          if (!dataTable) return;\n",
              "\n",
              "          const docLinkHtml = 'Like what you see? Visit the ' +\n",
              "            '<a target=\"_blank\" href=https://colab.research.google.com/notebooks/data_table.ipynb>data table notebook</a>'\n",
              "            + ' to learn more about interactive tables.';\n",
              "          element.innerHTML = '';\n",
              "          dataTable['output_type'] = 'display_data';\n",
              "          await google.colab.output.renderOutput(dataTable, element);\n",
              "          const docLink = document.createElement('div');\n",
              "          docLink.innerHTML = docLinkHtml;\n",
              "          element.appendChild(docLink);\n",
              "        }\n",
              "      </script>\n",
              "    </div>\n",
              "  </div>\n",
              "  "
            ]
          },
          "metadata": {},
          "execution_count": 21
        }
      ]
    },
    {
      "cell_type": "markdown",
      "source": [
        "## Dimensión de Fecha\n",
        "Leemos el documento de la dimension de fecha 2023 en formato excel"
      ],
      "metadata": {
        "id": "9Gz7Cwsl_ZH1"
      }
    },
    {
      "cell_type": "code",
      "source": [
        "file = s3.Bucket(S3_BUCKET_NAME).Object(remoteFileList[0]).get()\n",
        "data = file['Body'].read()\n",
        "dim_fecha = pd.read_excel(io.BytesIO(data))\n",
        "dim_fecha.head(3)"
      ],
      "metadata": {
        "id": "HG13jKSC_ewa",
        "colab": {
          "base_uri": "https://localhost:8080/",
          "height": 373
        },
        "outputId": "a8f62beb-2035-4c4d-eae2-add17508225b"
      },
      "execution_count": null,
      "outputs": [
        {
          "output_type": "execute_result",
          "data": {
            "text/plain": [
              "   date key  full date  day of week  day num in month  day num overall  \\\n",
              "0  20230101 2023-01-01            7                 1                1   \n",
              "1  20230102 2023-01-02            1                 2                2   \n",
              "2  20230103 2023-01-03            2                 3                3   \n",
              "\n",
              "  day name day abbrev weekday flag  week num in year  week num overall  ...  \\\n",
              "0   Sunday        Sun      Weekend                 1                 1  ...   \n",
              "1   Monday        Mon      Weekday                 2                 2  ...   \n",
              "2  Tuesday        Tue      Weekday                 2                 2  ...   \n",
              "\n",
              "  quarter  year  yearmo  fiscal month fiscal quarter fiscal year  \\\n",
              "0       1  2023  202301             7              3        2023   \n",
              "1       1  2023  202301             7              3        2023   \n",
              "2       1  2023  202301             7              3        2023   \n",
              "\n",
              "   month end flag  same day year ago  Unnamed: 24  \\\n",
              "0   Not Month End         2022-01-01          NaN   \n",
              "1   Not Month End         2022-01-02          NaN   \n",
              "2   Not Month End         2022-01-03          NaN   \n",
              "\n",
              "                              table insert statement  \n",
              "0  insert into Date_Dimension values(20230101, '2...  \n",
              "1  insert into Date_Dimension values(20230102, '2...  \n",
              "2  insert into Date_Dimension values(20230103, '2...  \n",
              "\n",
              "[3 rows x 26 columns]"
            ],
            "text/html": [
              "\n",
              "  <div id=\"df-1f308d14-2284-4cc3-947b-a829d40d89e0\">\n",
              "    <div class=\"colab-df-container\">\n",
              "      <div>\n",
              "<style scoped>\n",
              "    .dataframe tbody tr th:only-of-type {\n",
              "        vertical-align: middle;\n",
              "    }\n",
              "\n",
              "    .dataframe tbody tr th {\n",
              "        vertical-align: top;\n",
              "    }\n",
              "\n",
              "    .dataframe thead th {\n",
              "        text-align: right;\n",
              "    }\n",
              "</style>\n",
              "<table border=\"1\" class=\"dataframe\">\n",
              "  <thead>\n",
              "    <tr style=\"text-align: right;\">\n",
              "      <th></th>\n",
              "      <th>date key</th>\n",
              "      <th>full date</th>\n",
              "      <th>day of week</th>\n",
              "      <th>day num in month</th>\n",
              "      <th>day num overall</th>\n",
              "      <th>day name</th>\n",
              "      <th>day abbrev</th>\n",
              "      <th>weekday flag</th>\n",
              "      <th>week num in year</th>\n",
              "      <th>week num overall</th>\n",
              "      <th>...</th>\n",
              "      <th>quarter</th>\n",
              "      <th>year</th>\n",
              "      <th>yearmo</th>\n",
              "      <th>fiscal month</th>\n",
              "      <th>fiscal quarter</th>\n",
              "      <th>fiscal year</th>\n",
              "      <th>month end flag</th>\n",
              "      <th>same day year ago</th>\n",
              "      <th>Unnamed: 24</th>\n",
              "      <th>table insert statement</th>\n",
              "    </tr>\n",
              "  </thead>\n",
              "  <tbody>\n",
              "    <tr>\n",
              "      <th>0</th>\n",
              "      <td>20230101</td>\n",
              "      <td>2023-01-01</td>\n",
              "      <td>7</td>\n",
              "      <td>1</td>\n",
              "      <td>1</td>\n",
              "      <td>Sunday</td>\n",
              "      <td>Sun</td>\n",
              "      <td>Weekend</td>\n",
              "      <td>1</td>\n",
              "      <td>1</td>\n",
              "      <td>...</td>\n",
              "      <td>1</td>\n",
              "      <td>2023</td>\n",
              "      <td>202301</td>\n",
              "      <td>7</td>\n",
              "      <td>3</td>\n",
              "      <td>2023</td>\n",
              "      <td>Not Month End</td>\n",
              "      <td>2022-01-01</td>\n",
              "      <td>NaN</td>\n",
              "      <td>insert into Date_Dimension values(20230101, '2...</td>\n",
              "    </tr>\n",
              "    <tr>\n",
              "      <th>1</th>\n",
              "      <td>20230102</td>\n",
              "      <td>2023-01-02</td>\n",
              "      <td>1</td>\n",
              "      <td>2</td>\n",
              "      <td>2</td>\n",
              "      <td>Monday</td>\n",
              "      <td>Mon</td>\n",
              "      <td>Weekday</td>\n",
              "      <td>2</td>\n",
              "      <td>2</td>\n",
              "      <td>...</td>\n",
              "      <td>1</td>\n",
              "      <td>2023</td>\n",
              "      <td>202301</td>\n",
              "      <td>7</td>\n",
              "      <td>3</td>\n",
              "      <td>2023</td>\n",
              "      <td>Not Month End</td>\n",
              "      <td>2022-01-02</td>\n",
              "      <td>NaN</td>\n",
              "      <td>insert into Date_Dimension values(20230102, '2...</td>\n",
              "    </tr>\n",
              "    <tr>\n",
              "      <th>2</th>\n",
              "      <td>20230103</td>\n",
              "      <td>2023-01-03</td>\n",
              "      <td>2</td>\n",
              "      <td>3</td>\n",
              "      <td>3</td>\n",
              "      <td>Tuesday</td>\n",
              "      <td>Tue</td>\n",
              "      <td>Weekday</td>\n",
              "      <td>2</td>\n",
              "      <td>2</td>\n",
              "      <td>...</td>\n",
              "      <td>1</td>\n",
              "      <td>2023</td>\n",
              "      <td>202301</td>\n",
              "      <td>7</td>\n",
              "      <td>3</td>\n",
              "      <td>2023</td>\n",
              "      <td>Not Month End</td>\n",
              "      <td>2022-01-03</td>\n",
              "      <td>NaN</td>\n",
              "      <td>insert into Date_Dimension values(20230103, '2...</td>\n",
              "    </tr>\n",
              "  </tbody>\n",
              "</table>\n",
              "<p>3 rows × 26 columns</p>\n",
              "</div>\n",
              "      <button class=\"colab-df-convert\" onclick=\"convertToInteractive('df-1f308d14-2284-4cc3-947b-a829d40d89e0')\"\n",
              "              title=\"Convert this dataframe to an interactive table.\"\n",
              "              style=\"display:none;\">\n",
              "        \n",
              "  <svg xmlns=\"http://www.w3.org/2000/svg\" height=\"24px\"viewBox=\"0 0 24 24\"\n",
              "       width=\"24px\">\n",
              "    <path d=\"M0 0h24v24H0V0z\" fill=\"none\"/>\n",
              "    <path d=\"M18.56 5.44l.94 2.06.94-2.06 2.06-.94-2.06-.94-.94-2.06-.94 2.06-2.06.94zm-11 1L8.5 8.5l.94-2.06 2.06-.94-2.06-.94L8.5 2.5l-.94 2.06-2.06.94zm10 10l.94 2.06.94-2.06 2.06-.94-2.06-.94-.94-2.06-.94 2.06-2.06.94z\"/><path d=\"M17.41 7.96l-1.37-1.37c-.4-.4-.92-.59-1.43-.59-.52 0-1.04.2-1.43.59L10.3 9.45l-7.72 7.72c-.78.78-.78 2.05 0 2.83L4 21.41c.39.39.9.59 1.41.59.51 0 1.02-.2 1.41-.59l7.78-7.78 2.81-2.81c.8-.78.8-2.07 0-2.86zM5.41 20L4 18.59l7.72-7.72 1.47 1.35L5.41 20z\"/>\n",
              "  </svg>\n",
              "      </button>\n",
              "      \n",
              "  <style>\n",
              "    .colab-df-container {\n",
              "      display:flex;\n",
              "      flex-wrap:wrap;\n",
              "      gap: 12px;\n",
              "    }\n",
              "\n",
              "    .colab-df-convert {\n",
              "      background-color: #E8F0FE;\n",
              "      border: none;\n",
              "      border-radius: 50%;\n",
              "      cursor: pointer;\n",
              "      display: none;\n",
              "      fill: #1967D2;\n",
              "      height: 32px;\n",
              "      padding: 0 0 0 0;\n",
              "      width: 32px;\n",
              "    }\n",
              "\n",
              "    .colab-df-convert:hover {\n",
              "      background-color: #E2EBFA;\n",
              "      box-shadow: 0px 1px 2px rgba(60, 64, 67, 0.3), 0px 1px 3px 1px rgba(60, 64, 67, 0.15);\n",
              "      fill: #174EA6;\n",
              "    }\n",
              "\n",
              "    [theme=dark] .colab-df-convert {\n",
              "      background-color: #3B4455;\n",
              "      fill: #D2E3FC;\n",
              "    }\n",
              "\n",
              "    [theme=dark] .colab-df-convert:hover {\n",
              "      background-color: #434B5C;\n",
              "      box-shadow: 0px 1px 3px 1px rgba(0, 0, 0, 0.15);\n",
              "      filter: drop-shadow(0px 1px 2px rgba(0, 0, 0, 0.3));\n",
              "      fill: #FFFFFF;\n",
              "    }\n",
              "  </style>\n",
              "\n",
              "      <script>\n",
              "        const buttonEl =\n",
              "          document.querySelector('#df-1f308d14-2284-4cc3-947b-a829d40d89e0 button.colab-df-convert');\n",
              "        buttonEl.style.display =\n",
              "          google.colab.kernel.accessAllowed ? 'block' : 'none';\n",
              "\n",
              "        async function convertToInteractive(key) {\n",
              "          const element = document.querySelector('#df-1f308d14-2284-4cc3-947b-a829d40d89e0');\n",
              "          const dataTable =\n",
              "            await google.colab.kernel.invokeFunction('convertToInteractive',\n",
              "                                                     [key], {});\n",
              "          if (!dataTable) return;\n",
              "\n",
              "          const docLinkHtml = 'Like what you see? Visit the ' +\n",
              "            '<a target=\"_blank\" href=https://colab.research.google.com/notebooks/data_table.ipynb>data table notebook</a>'\n",
              "            + ' to learn more about interactive tables.';\n",
              "          element.innerHTML = '';\n",
              "          dataTable['output_type'] = 'display_data';\n",
              "          await google.colab.output.renderOutput(dataTable, element);\n",
              "          const docLink = document.createElement('div');\n",
              "          docLink.innerHTML = docLinkHtml;\n",
              "          element.appendChild(docLink);\n",
              "        }\n",
              "      </script>\n",
              "    </div>\n",
              "  </div>\n",
              "  "
            ]
          },
          "metadata": {},
          "execution_count": 22
        }
      ]
    },
    {
      "cell_type": "markdown",
      "source": [
        "se hace la transformación de la data y se renombran las columnas para que se pueda insertar la data en la tabla de dimensión"
      ],
      "metadata": {
        "id": "GTuN-D7R_3H9"
      }
    },
    {
      "cell_type": "code",
      "source": [
        "columnas=['date_key','full_date','day_of_week','day_num_in_month','day_num_overall','day_name','day_abbrev','weekday_flag','week_num_in_year','week_num_overall','week_begin_date','week_begin_date_key','month','month_num_overall','month_name','month_abbrev','quarter','year','yearmo','fiscal_month','fiscal_quarter','fiscal_year','last_day_in_month_flag','same_day_year_ago_date', 'sql1', 'sql2']\n",
        "for i, columna in enumerate(dim_fecha.columns.tolist()):  \n",
        "   dim_fecha = dim_fecha.rename(columns={columna:columnas[i]})\n",
        "dim_fecha = dim_fecha.drop(['sql1','sql2'], axis=1)"
      ],
      "metadata": {
        "id": "QK3-ui91_-1o"
      },
      "execution_count": null,
      "outputs": []
    },
    {
      "cell_type": "markdown",
      "source": [
        "##Tabla de hechos Fact Table"
      ],
      "metadata": {
        "id": "GbscR7v2C_q1"
      }
    },
    {
      "cell_type": "markdown",
      "source": [
        "La Fact Table es casi la misma que lo que contiene la dimensión de ventas, la diferencia radica en que necesita ser un poco modificada."
      ],
      "metadata": {
        "id": "Z4cmQZe3E6qq"
      }
    },
    {
      "cell_type": "code",
      "source": [
        "df_factTable = df_ventas"
      ],
      "metadata": {
        "id": "vT-3SkCOFD9j"
      },
      "execution_count": null,
      "outputs": []
    },
    {
      "cell_type": "code",
      "source": [
        "df_ventas['year'] = pd.DatetimeIndex(df_ventas['fecha']).year\n",
        "df_factTable['month'] = pd.DatetimeIndex(df_factTable['fecha']).strftime('%m')\n",
        "df_factTable['day'] = pd.DatetimeIndex(df_factTable['fecha']).strftime('%d')\n",
        "df_factTable['id_fecha'] = df_factTable['year'].astype(str) + df_factTable['month'].astype(str)\n",
        "df_factTable['id_fecha'] = df_factTable['id_fecha'].astype(str) + df_factTable['day'].astype(str)\n",
        "df_factTable.head(5)\n",
        "df_factTable = df_factTable.drop(['year', 'month', 'day',  'fecha'], axis=1)\n"
      ],
      "metadata": {
        "id": "ihkttC3TDEBS"
      },
      "execution_count": null,
      "outputs": []
    },
    {
      "cell_type": "markdown",
      "source": [
        "Ahora agregaré el indice del fact, de manera que sea autonumerica"
      ],
      "metadata": {
        "id": "cwy8Mx-HI8D7"
      }
    },
    {
      "cell_type": "code",
      "source": [
        "if 'id_fact' not in df_factTable.columns:\n",
        "    df_factTable.reset_index(inplace=True)\n",
        "    df_factTable.rename(columns={'index': 'id_fact'}, inplace=True)\n",
        "    df_factTable['id_fact'] += 1\n",
        "df_factTable = df_factTable.drop(['id_ventas'], axis=1)\n",
        "length = len(df_factTable)\n",
        "valores_id = range(1, length + 1)\n",
        "df_factTable['id_fact'] = valores_id"
      ],
      "metadata": {
        "id": "ySiJXL4mId3V"
      },
      "execution_count": null,
      "outputs": []
    },
    {
      "cell_type": "markdown",
      "source": [
        "Se verifican los duplicados datos que no pertenecen a la tabla de hechos"
      ],
      "metadata": {
        "id": "v1bO80kzuanT"
      }
    },
    {
      "cell_type": "code",
      "source": [
        "duplicated_rows = df_factTable.duplicated(subset=[\"id_fact\"])\n",
        "df_factTable[duplicated_rows]\n",
        "df_factTable = df_factTable.drop_duplicates(subset=[\"id_fact\"]).loc[df_factTable['id_movies'] < len(dim_movies)]\n",
        "df_factTable.head(3)"
      ],
      "metadata": {
        "colab": {
          "base_uri": "https://localhost:8080/",
          "height": 143
        },
        "id": "iDWBIhvzIn-3",
        "outputId": "97127415-583c-4cff-934b-0399b75c9b2c"
      },
      "execution_count": null,
      "outputs": [
        {
          "output_type": "execute_result",
          "data": {
            "text/plain": [
              "   id_fact  id_movies  id_client  id_payment  total  id_fecha\n",
              "0        1        357        148           1     15  20230101\n",
              "1        2       7082        265           3     40  20230101\n",
              "2        3       2512        187           2      5  20230101"
            ],
            "text/html": [
              "\n",
              "  <div id=\"df-4eb66c8c-632d-4ef4-b79c-6709b4211e8b\">\n",
              "    <div class=\"colab-df-container\">\n",
              "      <div>\n",
              "<style scoped>\n",
              "    .dataframe tbody tr th:only-of-type {\n",
              "        vertical-align: middle;\n",
              "    }\n",
              "\n",
              "    .dataframe tbody tr th {\n",
              "        vertical-align: top;\n",
              "    }\n",
              "\n",
              "    .dataframe thead th {\n",
              "        text-align: right;\n",
              "    }\n",
              "</style>\n",
              "<table border=\"1\" class=\"dataframe\">\n",
              "  <thead>\n",
              "    <tr style=\"text-align: right;\">\n",
              "      <th></th>\n",
              "      <th>id_fact</th>\n",
              "      <th>id_movies</th>\n",
              "      <th>id_client</th>\n",
              "      <th>id_payment</th>\n",
              "      <th>total</th>\n",
              "      <th>id_fecha</th>\n",
              "    </tr>\n",
              "  </thead>\n",
              "  <tbody>\n",
              "    <tr>\n",
              "      <th>0</th>\n",
              "      <td>1</td>\n",
              "      <td>357</td>\n",
              "      <td>148</td>\n",
              "      <td>1</td>\n",
              "      <td>15</td>\n",
              "      <td>20230101</td>\n",
              "    </tr>\n",
              "    <tr>\n",
              "      <th>1</th>\n",
              "      <td>2</td>\n",
              "      <td>7082</td>\n",
              "      <td>265</td>\n",
              "      <td>3</td>\n",
              "      <td>40</td>\n",
              "      <td>20230101</td>\n",
              "    </tr>\n",
              "    <tr>\n",
              "      <th>2</th>\n",
              "      <td>3</td>\n",
              "      <td>2512</td>\n",
              "      <td>187</td>\n",
              "      <td>2</td>\n",
              "      <td>5</td>\n",
              "      <td>20230101</td>\n",
              "    </tr>\n",
              "  </tbody>\n",
              "</table>\n",
              "</div>\n",
              "      <button class=\"colab-df-convert\" onclick=\"convertToInteractive('df-4eb66c8c-632d-4ef4-b79c-6709b4211e8b')\"\n",
              "              title=\"Convert this dataframe to an interactive table.\"\n",
              "              style=\"display:none;\">\n",
              "        \n",
              "  <svg xmlns=\"http://www.w3.org/2000/svg\" height=\"24px\"viewBox=\"0 0 24 24\"\n",
              "       width=\"24px\">\n",
              "    <path d=\"M0 0h24v24H0V0z\" fill=\"none\"/>\n",
              "    <path d=\"M18.56 5.44l.94 2.06.94-2.06 2.06-.94-2.06-.94-.94-2.06-.94 2.06-2.06.94zm-11 1L8.5 8.5l.94-2.06 2.06-.94-2.06-.94L8.5 2.5l-.94 2.06-2.06.94zm10 10l.94 2.06.94-2.06 2.06-.94-2.06-.94-.94-2.06-.94 2.06-2.06.94z\"/><path d=\"M17.41 7.96l-1.37-1.37c-.4-.4-.92-.59-1.43-.59-.52 0-1.04.2-1.43.59L10.3 9.45l-7.72 7.72c-.78.78-.78 2.05 0 2.83L4 21.41c.39.39.9.59 1.41.59.51 0 1.02-.2 1.41-.59l7.78-7.78 2.81-2.81c.8-.78.8-2.07 0-2.86zM5.41 20L4 18.59l7.72-7.72 1.47 1.35L5.41 20z\"/>\n",
              "  </svg>\n",
              "      </button>\n",
              "      \n",
              "  <style>\n",
              "    .colab-df-container {\n",
              "      display:flex;\n",
              "      flex-wrap:wrap;\n",
              "      gap: 12px;\n",
              "    }\n",
              "\n",
              "    .colab-df-convert {\n",
              "      background-color: #E8F0FE;\n",
              "      border: none;\n",
              "      border-radius: 50%;\n",
              "      cursor: pointer;\n",
              "      display: none;\n",
              "      fill: #1967D2;\n",
              "      height: 32px;\n",
              "      padding: 0 0 0 0;\n",
              "      width: 32px;\n",
              "    }\n",
              "\n",
              "    .colab-df-convert:hover {\n",
              "      background-color: #E2EBFA;\n",
              "      box-shadow: 0px 1px 2px rgba(60, 64, 67, 0.3), 0px 1px 3px 1px rgba(60, 64, 67, 0.15);\n",
              "      fill: #174EA6;\n",
              "    }\n",
              "\n",
              "    [theme=dark] .colab-df-convert {\n",
              "      background-color: #3B4455;\n",
              "      fill: #D2E3FC;\n",
              "    }\n",
              "\n",
              "    [theme=dark] .colab-df-convert:hover {\n",
              "      background-color: #434B5C;\n",
              "      box-shadow: 0px 1px 3px 1px rgba(0, 0, 0, 0.15);\n",
              "      filter: drop-shadow(0px 1px 2px rgba(0, 0, 0, 0.3));\n",
              "      fill: #FFFFFF;\n",
              "    }\n",
              "  </style>\n",
              "\n",
              "      <script>\n",
              "        const buttonEl =\n",
              "          document.querySelector('#df-4eb66c8c-632d-4ef4-b79c-6709b4211e8b button.colab-df-convert');\n",
              "        buttonEl.style.display =\n",
              "          google.colab.kernel.accessAllowed ? 'block' : 'none';\n",
              "\n",
              "        async function convertToInteractive(key) {\n",
              "          const element = document.querySelector('#df-4eb66c8c-632d-4ef4-b79c-6709b4211e8b');\n",
              "          const dataTable =\n",
              "            await google.colab.kernel.invokeFunction('convertToInteractive',\n",
              "                                                     [key], {});\n",
              "          if (!dataTable) return;\n",
              "\n",
              "          const docLinkHtml = 'Like what you see? Visit the ' +\n",
              "            '<a target=\"_blank\" href=https://colab.research.google.com/notebooks/data_table.ipynb>data table notebook</a>'\n",
              "            + ' to learn more about interactive tables.';\n",
              "          element.innerHTML = '';\n",
              "          dataTable['output_type'] = 'display_data';\n",
              "          await google.colab.output.renderOutput(dataTable, element);\n",
              "          const docLink = document.createElement('div');\n",
              "          docLink.innerHTML = docLinkHtml;\n",
              "          element.appendChild(docLink);\n",
              "        }\n",
              "      </script>\n",
              "    </div>\n",
              "  </div>\n",
              "  "
            ]
          },
          "metadata": {},
          "execution_count": 27
        }
      ]
    },
    {
      "cell_type": "markdown",
      "source": [
        "#Creación del Modelo Estrella con las Dimensiones y el Data-Warehouse"
      ],
      "metadata": {
        "id": "sutV39tZJ5wm"
      }
    },
    {
      "cell_type": "code",
      "source": [
        "config = configparser.ConfigParser()\n",
        "config.read('escec_dataWarehouse.cfg')"
      ],
      "metadata": {
        "colab": {
          "base_uri": "https://localhost:8080/"
        },
        "id": "yZgtwygBLKrn",
        "outputId": "3d5d1bcd-7417-4c6d-8a53-940eb9a1f7a8"
      },
      "execution_count": null,
      "outputs": [
        {
          "output_type": "execute_result",
          "data": {
            "text/plain": [
              "['escec_dataWarehouse.cfg']"
            ]
          },
          "metadata": {},
          "execution_count": 28
        }
      ]
    },
    {
      "cell_type": "code",
      "source": [
        "aws_conn = boto3.client('rds', aws_access_key_id=config.get('IAM', 'ACCESS_KEY'),\n",
        "                    aws_secret_access_key=config.get('IAM', 'SECRET_ACCESS_KEY'),\n",
        "                    region_name='us-east-2')\n",
        "print(aws_conn)"
      ],
      "metadata": {
        "colab": {
          "base_uri": "https://localhost:8080/"
        },
        "id": "bx4v9joCLPQW",
        "outputId": "9d72c036-1a3f-4b9f-da73-c94d533185ef"
      },
      "execution_count": null,
      "outputs": [
        {
          "output_type": "stream",
          "name": "stdout",
          "text": [
            "<botocore.client.RDS object at 0x7fdc4d559c10>\n"
          ]
        }
      ]
    },
    {
      "cell_type": "code",
      "source": [
        "rdsInstanceIds = []\n",
        "\n",
        "response = aws_conn.describe_db_instances()\n",
        "for resp in response['DBInstances']:\n",
        "    rdsInstanceIds.append(resp['DBInstanceIdentifier'])\n",
        "    db_instance_status = resp['DBInstanceStatus']\n",
        "\n",
        "print(f\"DBInstanceIds {rdsInstanceIds}\")"
      ],
      "metadata": {
        "colab": {
          "base_uri": "https://localhost:8080/"
        },
        "id": "Bo54-pd6LXBW",
        "outputId": "dfc5a3c0-1791-4067-ab80-9e5b7fdbc99c"
      },
      "execution_count": null,
      "outputs": [
        {
          "output_type": "stream",
          "name": "stdout",
          "text": [
            "DBInstanceIds ['dw-moviestore', 'mymoviestore']\n"
          ]
        }
      ]
    },
    {
      "cell_type": "markdown",
      "source": [
        "Le colocamos el nombre a nuestra DW y esperamos unos minutos."
      ],
      "metadata": {
        "id": "9cS61qXyJ_vi"
      }
    },
    {
      "cell_type": "code",
      "source": [
        "rdsIdentifier = 'dw-moviestore'"
      ],
      "metadata": {
        "id": "8VEsfmKILdKb"
      },
      "execution_count": null,
      "outputs": []
    },
    {
      "cell_type": "code",
      "source": [
        "try:\n",
        "    response = aws_conn.create_db_instance(\n",
        "            AllocatedStorage=10,\n",
        "            DBName=config.get('RDS_MYSQL', 'DB_NAME'),\n",
        "            DBInstanceIdentifier=rdsIdentifier,\n",
        "            DBInstanceClass=\"db.t3.micro\",\n",
        "            Engine=\"mysql\",\n",
        "            MasterUsername=config.get('RDS_MYSQL', 'DB_USER'),\n",
        "            MasterUserPassword=config.get('RDS_MYSQL', 'DB_PASSWORD'),\n",
        "            Port=int(config.get('RDS_MYSQL', 'DB_PORT')),\n",
        "            VpcSecurityGroupIds=[config.get('VPC', 'SECURITY_GROUP')],\n",
        "            PubliclyAccessible=True\n",
        "        )\n",
        "    print(response)\n",
        "except aws_conn.exceptions.DBInstanceAlreadyExistsFault as ex:\n",
        "    print(\"La Instancia de Base de Datos ya Existe.\")"
      ],
      "metadata": {
        "colab": {
          "base_uri": "https://localhost:8080/"
        },
        "id": "1KKJjrC_LpiD",
        "outputId": "7f256200-4f99-48c2-a3a5-d6b4a1d26979"
      },
      "execution_count": null,
      "outputs": [
        {
          "output_type": "stream",
          "name": "stdout",
          "text": [
            "La Instancia de Base de Datos ya Existe.\n"
          ]
        }
      ]
    },
    {
      "cell_type": "markdown",
      "source": [
        "Antes de conectarnos recordemos esperar el tiempo suficiente para agregar la nueva instancia y agregar el puerto 3306 al grupo de seguridad."
      ],
      "metadata": {
        "id": "FOz5u5KBMBwF"
      }
    },
    {
      "cell_type": "code",
      "source": [
        "try:\n",
        "     instances = aws_conn.describe_db_instances(DBInstanceIdentifier=rdsIdentifier)\n",
        "     RDS_DW_HOST = instances.get('DBInstances')[0].get('Endpoint').get('Address')\n",
        "     print(RDS_DW_HOST)\n",
        "except Exception as ex:\n",
        "     print(\"La instancia de base de datos no existe o aun no se ha terminado de crear.\")\n",
        "     print(ex)"
      ],
      "metadata": {
        "colab": {
          "base_uri": "https://localhost:8080/"
        },
        "id": "ZgbGw3y4MD0D",
        "outputId": "1624581c-2650-4118-fa89-5918ffd0ab9d"
      },
      "execution_count": null,
      "outputs": [
        {
          "output_type": "stream",
          "name": "stdout",
          "text": [
            "dw-moviestore.c6j34omip28z.us-east-2.rds.amazonaws.com\n"
          ]
        }
      ]
    },
    {
      "cell_type": "markdown",
      "source": [
        "Creamos las tablas del DW con la importación del archivo que contiene el script."
      ],
      "metadata": {
        "id": "A_NQxkk-YVWB"
      }
    },
    {
      "cell_type": "markdown",
      "source": [
        "![image.png](data:image/png;base64,iVBORw0KGgoAAAANSUhEUgAAA4YAAANACAYAAAB3wnOkAAAAAXNSR0IArs4c6QAAAARnQU1BAACxjwv8YQUAAAAJcEhZcwAADsMAAA7DAcdvqGQAAP+lSURBVHhe7N0PeFzVeSf+dyz/x5L/YWMZGzBoDBZiU5zNE2cmAUIIrGSnUdJGyf42VE1IR2mXRlrvz7v1VlnsJw5O140rPcuvGymU4CRtU7UNysaS2pBACEgp0Lh2GIvGI2NokIRsbCzJWP81v/Oee87MndG5M1eakTSj+X78XM+957733pmj0dW8c8491zMwMBCmWTY4OEj5+flqCaYL9Zca1F9qUH+pQf2lBvWXGtRfalB/qUH9pQb1lxrU3wyEDThZdMNtXHd3t5pLLN3HXShxqD8zt3GoPzO3cag/M7dxqD8zt3GoPzO3cag/M7dxqD8zt3GoPzO3cag/M7dxqD+zRHGLVH4IAAAAAAAAOQqJIQAAAAAAQI5DYggAAAAAAJDjkBgCAAAAAADkOCSGAAAAAAAAOQ6JIQAAAAAAQI5DYggAAAAAAJDjkBgCAAAAAADkOA/f5FDNz5rBwUHKz89XSzBdqL/UoP5Sg/pLDeovNai/1KD+UoP6Sw3qLzWov9Sg/mZA3eg+RrrvsN/d3a3mEkv3cRdKHOrPzG0c6s/MbRzqz8xtHOrPzG0c6s/MbRzqz8xtHOrPzG0c6s/MbRzqz8xtHOrPLFEcupICAAAAAADkOCSGAAAAAAAAOQ6JIQAAAAAAQI5DYggAAAAAAJDjkBgCAAAAAADkOCSGAAAAAAAAOQ6JIQAAAAAAQI5DYggAAAAAAJDjPHyTQzU/awYHByk/P18twXSh/lKD+ksN6i81qL/UoP5Sg/pLDeovNai/1KD+UoP6mwF1o/sY6b7Dfnd3t5pLLN3HXShxqD8zt3GoPzO3cag/M7dxqD8zt3GoPzO3cag/M7dxqD8zt3GoPzO3cag/M7dxqD+zRHHoSgoAAAAAAJDjkBgCAAAAAADkOCSGAAAAAAAAOQ6JIQAAAAAAQI5DYggAAAAAAJDjkBgCAAAAAADkOCSGAAAAAAAAOc7D96xQ8xFubwjpNq6np4c2b96slpzZ99fX10ctLS20clUBLV+2jBbneWQ5QDqNT4RpaGSYror33oc/fA/dfPPNao2zdP9+ZHrcTH5/E8m1ONSfmds41J+Z2zjUn5nbONSfmds41J+Z2zjUn5nbONSfWaI4D9/kUM3PGrdPVGtqaqL1126gsaUFdHXJahrLW0ETHm7cRHII6RSmvPAkLZkYopVj/bR4dIAuvX2BKioq1Hpg0/39hViov9Sg/lKD+ksN6i81qL/UoP5Sg/qbvoxrMfybpr+la6/bRJdW3kBji5apNQCzb8nkMK1799d08cJb9NDnP69Kp0r370emx+EbNzO3cag/M7dxqD8zt3GoPzO3cag/M7dxqD8zt3GoPzO3cag/s0RxGXWNoWwp3HgdXbjmZiSFMOfGFi2nC6u20foNm+g73/mOKgUAAAAAWPgypsWQryn8+T+9SJfykRTC/Fo6OUxrB8+R7wO7aOPGjao0ai6/ubGbrzh842bmNg71Z+Y2DvVn5jYul+sPYxXAbLGPT/Cxj+2JfFZI9/sZ5z8zt3GoP7NEcRmTGD7xxBOUX3gzXVpxvSqJ+ov/Oabm3Fm3aSl98OOvU8G6DbRsxUpVCuDeuqE3aaDnNXrooYdUSdRc/oLazVccTqxmbuNQf2Zu41B/Zm7jcrX+vv3t71DB6tUYqwBmwdTxCQb7++l3fufBtL+fcf4zcxuH+jNLFJcxXUn5Gz0+eZts/401dNvONbTjvWutaaea9Lx6vPXONTL2ptvy6fTLL9DApQtqDwDTM7R0DV2TX6CWAAAgWzz+F09Qwbr1sgcSf9k8vHiVSArzxBokhZAOHvl+4vcVv7/eyd9GBWvX01888YRaD5C9MiYxXL5sKY3lLVdLsSq+uJG+XbeZjv1ZIX3raCE9/vVCavzTQvo/f7KJHvvaJqp7dBP96aFN9L++som+emAT7Sq9hi50v0HDQ1fVHgCmZ2TRctn1CAAAsgfGKoC5Zh+fgN9/ANksYxLDxXmL1Dd6U3nCYRq8Ok6nXx+gX77WT//660Hqe2eYXnm9n069dpneujRCr5y7TCe7LtPo2CRNjI2rLSGXDQ9cpL5XX0o4cYzJpHgv8nsSAACyA19TyLe6eueaG+U5HGCuTHoWi/fdVvn+O3/+vCoFyD4Z9snX3M1jUiSGE2IaFknf1eFxGhqZoJExvvB3kt4V04go58erQ6M0ODREY6Ojasu585df/zJ98cPbKfjiz1QJzLdl16ym82f+hbpP/sw4nf/VCVqy0qm7KLocAQBkEx5ohq8pNLUU8lgF05me+nOP7Hk0gp5H4NLoouXi/ZdPP/zhD1UJQPbJiiaRyYkJmpgkGhsXSeB4mEbHxml0IiyTw5HRcVk2MjopykdpeGScJsanN1gNLEyevMW0+Q6/Wppq83s+RHmLl6glAADIZhirAOYbxieAbOcZGBiYMippurkZJee5556j7lW3qqVY6ws20123LKHQm1doSCSAi/OI1haspDffvioSwgnauH4VvXnhKo2NDtGNm/LpX14bpB8ee4R2PfAJ2lq0Q+0lFrfsPfZHX1BLRLfcvpN+d/+f0Jc/+1E5v++x78nyIw9/hs6ePkHfePaMXOaWweeP/42cZx/a82kqvKmImh77qiqxfOW7Tyfclz4+b6/3Z38OjNf9p//6FTnP31zqcqbX2ffzng9+VM7r5wpCOEz/+qPv0tVLfarAsnLtRrrtgQfFb4Bzy+D1V35Fd999t1rKXW5HuQIz1F9qUH+pyaX6+8kzz9LbBV6a8CxWJVGFG7fRbxZb5ZPiUw9/2Ww9huX8uJgfnxCTWB4dJ3r2V1fpu0f/MOHnCIB4i8LjtGEgRB+598OqJDU4/6UG9Td9GXO7iuPHjzsmhmtXbqQPeVdQqFskhiOcGIZp9eqV1H1+iEbGODG8ht4U82NjVmJ4qusdavnLrzie0HUyFZ+0JUsMn/n7YzIBrHj4j+ne36qUydqPvve4TNB0wvjw1x6nkvffFUnkkiWGjJf19jpex3KCyXhfOhm0P4+NW7ZFXgvHMySGsQbP/5pCP4km88x7bwXlX3eDWjLjxHDPnj1qKSrdvx+ZHofhns3cxqH+zNzGof7M3MblUv1ZnyO2i7mpX/ht3nAT3bPNQ/92/iqNTYQpL28Rrb5mCfW+M0xjIitcv3oF9V7izxRhKrq+gH72qyv01//7vyAxnCvdx+jIZ79KZ2//Y/rKY5W0QRXPzBv0zMMfpabTO8XnIevz13Tw2AP93WfVktnq62+h5QXr1ZJdWHx2OGP87GDn9n2P85+Z2zjUn1miuCzpSjouTuSkpgnZpXR8nGiUv92bmKRRXhaPfMNRPuFP8MoETr1gJVulD/6BfGQ6eUuk9/Uu+fiLZ9vk44brb4y06M0UJ3uMWx3Zez9cKh/tOPlk3CLIOBlk+vlonBAiKZwqf+NWWrPFql+2Zqs3aVIIAADZKHvHKphrwa9vl2Mj/OWLqmAOzeexk8H4BJDLsiIxHBcZoThn09DoOI2OjNDwyCgNDQ/L+dHRERoaEvNjIyKOE0hODEXGOAvu/4zVwsctc3xC44lb72ZT35tvqDmSLYN8TN3S2HMuJB/Z5m1eNQcm1995D3kW5YlpEW1+z12qFAAAcgHGKgC3MD4B5LLsSAxFosfTsrwJWpI3SXmLxLI4eS8Wj0vywmp+khYvWSRP/GHxB2A2cAuhbpXTLX269XAucDdVfXye3LRygmXZqjW0wfsbtGH7Tlqev1aVAgBALpgQHw709YQ8ifwwck0hP3KPJFmmy/m/hH5Gfym/IP4MHXnY+qKYpyN/r77M5a6Rqix2HXdztJYjrWUvWqOaf/HhY9H5r39Z7d8qv2Df39dto5/HH0ev0+UPi/0Ynt+Fv/8MPXZcztLzf2StSypNzy3xsbvoR6b6lHSd6+kz9Ey3WhVzLO5GqsoV3UIZmezP02D9tttp5brr1FIUj0+w/qZitQSw8GRJi+EYLRFJ36ZrV4mpgK5dm08rViynjdfm08b1+bTymhVivkBMq8mTt5TCk+LMnoDuktn2nT+Xj4yv8ePEj+lr9Zh9nmP42kGmWw91S53uCnr+zXPyMdm+pkMfy/58+Xnw8wH3NpV8gDbdvkstAQBArpgcH7eSQjXwDCeJY2ErKbQSQvu8Fe/We/fzl7VPU8Xt4u/8Yx+NJnx79Je5j9OHxOLZx/67SGRupDs+vFOufv4FlSi9afX+ueXD98hHSSRO7xHbPsyXqp3+Kn35MNHvqmPQ8T+3EiJOhvi6PHWcrzws9nv8C7HJ1OkQFcrnp5+DdWnKht/6nrVv4UNfs75sdi3F55bw2A7P10r8vkDP8zWIIt6q7xPU9FmRHL6kjkWfpocj66zNmE5Eb3n4aXmsb3z3j+kWtc6RxyN7GsWTZQkGrQPIdlmRGL59aYhaO35Nz/xzD71wqo9+/ss+evFUL/3ilz30L6d76ZenuykY7KbOzjfpdPAcDV0dUVua8eAw3Ppm7xKqu2XygC5Ml/OgLnY8CAyX64Fl9DWGPBgNL/OgMLyeJduXW5xk8iA09ufLx4fpWbx0uZwAACC3pHusgigvbbyeH6MJXw9fAnJ9Je37r/qyhbvoPTIROkG9b3JS9gcy6aHjT1OQ3qBXnuUvjXfSe3dZXyhLez5KJeLhupusfXLSGD8gS/B7nAyJ5OqD1nE2bLG+qD77ui0xvL2U7lDPr1AmS9FLUGYsXc/NxOH5XvinNrm/6LF0fZ+gtrpvWOse/oJ8XvH6Xre+lD/77E9J3nwk5mfjDOMTQC7KjhbDyV9T+7PfpR/+9deopel/UevfHqG2vz9C//D9P6UfPXWUnm7+M/rx/z1KP/m/fyanjh//uUymlq9YqfYwFSeH8psjNelumZzgxZfzI+MkMH6dnY7V8Yn2pY9vTyx5mR+ZjuU4Zu/GqifeNn4/AAAAEGsuxiqIT37s3Rd110mLThT/hk79/U/pF9ztcc8f0L0yIXLDSjA13R3zi3+kRt8+Z/Vcmh9z99x0fQ/2XpSPm7fYEmubks+oFkJu3VQ/j9guqs4wPgHkmqxIDAvWbaDb3/dBOWy024njeTsAAADIbXMxVkGkS+hNN8qk0N59UXed1Eo+aI1T8PxjsS1rM6G7Y0amx6wvmDPBbD43Xd/5hdZtI2RLrQm3EKrj658Dtx66gfEJINdkRWK4bMVK2WLG9xJyO3E8bwcAAAC5Ld1jFUz1M/rRY1O7hFqtWG/Q+fiGsvd/wXYd3KfpPe9Xs9OgW8Ke/84xq4sk42vxkgysoumuoI4JVQqSPbfpHlt3v410B7V1wS2t+aI8ln1dr23wmeDXo4PURFoPt1m3/XID4xNALvF0d3dPucH9fDhx4gQ53eAeYD7wDe537rT+eAEAQGZL9Dnind5JWrUyjyYmJmhyYpLC4bBI/kg+TooZa9lD4n8Zz2MV8GUp3AOJv2yeikfI/AI9r5YsO6niu9+zuoTqwVdU+S23n6CzIlnhFrT/pJJA3aooB6nR17zxyJ/c7VKV8cApXxYJJ7c87vstUjdut+0n5jgKb/uZc1Z55Ibxppu+6zJriVvUEkrXc5OvNe7Y3/1jF883vs6j9a2fiy636tvaNlLPWlpuou8Mnx0gm3nEyXBKYpjuO+z39PTQ5s2b1ZLZ8ePHkRhCRuGT+549cf1/hHT/fmR6nJvfX7ZQXm+641B/Zm7jUH9mbuNyqf4SfY7gkbxPv/xCZGRxN7jnEV+Wwo9T6SSFR8L8inHQk8T09rZkEhYEp88Odm7f9zj/mbmNQ/2ZJYrLiq6kAAAAADOVcWMVvPi01fIVGYVznnHrnhqYxTx9RgUCwEKWUS2GAJkGLYb4xs2J2zjUn5nbONSfmdu4XKo/9DyCTIAWw6nmKw71Z5YoLmMSw4MHD9IjjzyilgDmn9N7ci5/Qe3mKw4nVjO3cag/M7dxqD8zt3G5VH9IDCETIDGcar7iUH9mieLQlRQAAAAAACDHITEEAAAAAADIcehKCuAAXUkt6Iph5jYO9WfmNg71Z+Y2LpfqD2MVQKZAV9JY8xWH+jNLGMeJYbyBgQE1l5jbOL5XYjIHDhxQc2ZXzv2/4Stnq8LjY++GJycnVSnA7HF6T6b79yPT49z8/rKF8nrTHYf6M3Mbh/ozcxuXS/WX7HMEwFxw8z50+77H+c/MbRzqzyxRXFZ0JX33zD20dKKDluS9QiO/9NLli2dpfHxcrQUAAAAAAIBUeDhrVPOzxk3T5tGjR43d9obfaqQly07Q5FBIPNsiynv7p9R9tYiu8X6H1q5dSx6PR0Um0FVP/kqiY+3VVKSK3PD766e9DSwc3JV07969ail3ue2aAGaov9Sg/lKTS/Xn9DkCYC6l87MDzn+pQf3NgGo5jJHuJks3TblOTe/Dfd8Oj7396fDEW/eGJ0LvCU+cuDn8q598MPzaa6+Fx8fHVZTF56sLh9R8jFCd87oE9DYz2TYiwbF9ovr5R0AUCLeqZV+dLVJt+7BPx8VOMbGQduhKakFXDDO3cag/M7dxqD8zt3G5VH/oSgqZAF1Jp5qvONSfWaK4jO9Kumzjg/Ru3xs0OfIuha8M0uDwIL1ysdLYUtg+S617s7bfUB2JxI9C4QYq5QJfgEqaKqm+S66OqG4PcwJPIlFU8dZyezXaMgEAANx49/V99O5rX6SJ8avybygAAMTKjttVrPpd8uQto6ErlyjY937atHkHrV69mhYtin363PUzklNx91GRPHIC6fHWUIcqdtZGVTpeTFVtqlhw3K/HL5M4Xl9fZd62vlIcu6OGvKLcH5/xTVFM+2pLqOaIbQcAAACQEoxVAACQXFYkhkuXLiXyEE3QYupf+vt04403yj7DnIQ5qRLJYEmrraVNlTup95cR6XgxNcgmvKmqvJ1Uq2LCoQpqqhRJo0j8OstVWWuAGg9FE8nqY9FWPlctfKUN1EplMcklAAAAzAyPVbB8w21EK5aTZ2kJLV+yiq6craaBgQH5d9sV/lLY/iUxAMAClBWJoU4AF4WHaO2aVTIpXLx4sSxzEhTJ2D6H5M6kidzFB6mRylTLoGyJ7Oik8/ZjeYuTJqHJlO6ro6AtuQQAAICZ8SxaQeHJy5SXR5T37otE4+M09O4A9ff30+TkpIqyLMjkL0FSG+0BVUX8fTQvx/Rusm1b79exsVPy3lAAkC2yoyupEvYsojAlTghnne0aP2tqSDkRnKKomo5VNNGRFrUMAAAAM5IJYxVkKrdjHTCMdwCw8GVFYrj8ut+locu9dNmzk1asWEF5/LVfEiUdTdSiTmxdLU1JrzGsoBpyc2lfSYe7uBgdnRRSs24VVdcS1bi5NhIAAAASmoOxCvz+KqqytarpS0K66v2RMj02Abe+RS8Z4TEO9JgF0X1UtXVFWuliLi8xjHXA+LmbxjvAWAcA4FbWtBhOXP8yjRc+QZs2bbKuOUyioVWc2LzWybGysyRpqx5fCxgsm3pCjdcQio3zJOt2UlRNtQGr+2n8Cdkvu6LyydrqwhGrVLyGgJoHAACAmZqLsQqoI0jFx1Q8jzdQZv1tL6put8pkuZV0VdeK9c3qL39bMzUGakk2vOl9yO35Bsxq3nZ5iXGsA17hMN4BxjoAALeyJjHkb/ZuvvlmKiwsdEwMY7qAiBObPhG3NzQk7x4iErh2Fc8TDz6jt4nZNi4uLNb1xa+PO1ZpgxUbf0KO7sfqwjHlOfJrSLJvAAAASEwngLM5VgH5Kmi3/gNdWk4BCtIZzszsLXxljWLHZ6iL1zc2y8SxrbmRAuXqQHofPF6BfV6utJjGOpC9kuzPN8XxDjDWAUBu8vBNDtX8rBkcHJQn4USOHj1KjzzyiFqaLdxdo0ycUuP5qC7Ubn1bB6AcPHiQ9u7dq5Zyl5vfX3CG+ksN6i81uVR/iT5HDPc9SUsmvkXvvvYvFFz0D3T77bfLL5zjcXfMY+oLWPu8TO64AS/Bl7Mx8fLzxiEqFp8tmrx+qtCfMWz7CVV5qLm8laismcrVF8SRfdiPF3fs2ONEOT7fRM89wb65C+wRqqBgU9y2ifYHaf3sgPNfalB/MxA2SPcd9ru7u9WcswMHDqg5gMzg9J5M9+9Hpse5+f1lC+X1pjsO9WfmNg71Z+Y2LpfqL9nniMHT3vAbL9wdPnHiRFh8YFSlsXy+unBIzQfIF65TC6E6X5hs60zs24ZbA5F4e3nMfkJ1YZ/4GObTBxEisbzONC8ExDaBVrVgE3P8+O0pEDZsMmXfMfsQW/CxprzuuG0glpvPs27f9zj/mbmNQ/2ZJYrLqlFJAQAAAGZitscq4Gv8eIAXq8soUatqUastiZbH7KdoN1X4fFQR6X/qDsY6AIDZgsQQAAAAFrxZH6vAdgsHPXYA0+MMTNlP2xGqIdt1iUJknX1MgfjxBXg5chwxqXVTYmzLaRvrgMU/HwBYMJAYAgAAALjC1w7aWusik586pjlSixx0phYJFgBkDiSGAAAAAK6UUkOklc0+tVO4b3pJHrfi8QjoAACZAokhAAAAAABAjkNiCAAAAAAAkOOQGAIAAAAAAOQ4JIYAAAAAAAA5zsM3OVTzs2ZwcJDy8/PVktnRo0fpkUceUUsA8+/gwYO0d+9etZS73Pz+gjPUX2pQf6nJpfrD5wjIBOn87IDzX2pQfzMQNkj3Hfa7u7vVnLMDBw6oObO3+vvDh1tawr3vvBMeHR1VpQCzx+k9me7fj0yPc/P7yxbK6013HOrPzG0c6s/MbVwu1V+yzxEAc8HN+9Dt+x7nPzO3cag/s0RxWdGVtLe/n/7u5En6wgMP0OMvvkiv9fSQSA7VWkiPLqr3e8hT1aaW3eP7N9VP8/5NAAAAAACQOTI+MeSk8KlTp+jzd91F1+blUfV999GTnZ10trc3M5LDrnry++tFWqVxghWfKKmkKyaOyB93c9yYbdqqbOvEpBK22GMJxuOL+OkcS+iqr6SaklYKy5sqxd/AV8fby6vEkiXcWkI1lXHPCwAAAAAAskZGJ4Y9Iin8vkgKPyeSwhWqLF8kh/vuv5++8eqr1JUJyWHRbqqgJmrRWVFXi1iqoN32u9zKsoD4Z4tjvjoK6ZvjhsRevFay1VXvJ08ZUavt5rmt1BxJxBKa5rEsbXSkhqhun/1OuwHb8dupWryetir5pGRZqC5IZbp1sXQf1VENHXH1BAEAAAAAINNkdGL45Asv0Kf9/khSqK0TyeFv33kn/ZVIGvtF8qhxy1l9VbSlS+ctMtGKtHRFW8v8/iqq4tY1Gata2mzbSdwiZ9g2qoh2VxA16Sws1ElUsVuURnW1NImyfVRe0hGNi1e0nUrULIfXhRrInqaVNsQuO5nusaS2Zmr0xSWzBs2NASpXT6JIvGhf8IxqJeQ68FHwjMPxAAAA5lnfwAB9rbWV3rp8mcbGxlQpAABoGZ0YPiSSwsefeYYGJyZUieX0xYvU/PzzdO+qVTQ0NKRKhY4a6ixXrVytAWo8ZHVvLKpuVy1fXF5CNbppqyNIxcdUbFklkZ5X27EqbyfV6m25pc3QZbJoewl1dIbkfFtzI5Vsj0kLZaJXIbKu0vIAdTS1TNlekslZMXnFbFNHCcXswk68Rm8kURWTt4Y61KqZHIt1nQmSLy6ZJWqkMnUM/9Rs2EouOzrJetWxdQAAAJBJMFbBXMBYBQDZLqMTw/Ui8fvkrbfS4aefpksqOeSkkJPFe1esoPXr18cOQ+uro0hvSG8x+dRsTKtfWSORbunSrWQca5/ndUrQliDJJMyWDEWUllOgkbt6dtGZYLRVTbJ3LeW4DlsXT3uSd6iYQu3VVnJmS9qmsHcJlclqne11zuBYRqXUEDlGK5XUVCY/YXO9RVoQAQAAMgPGKlATxioAgCQyOjFcvHgx3bRpEz24YwcdFMnh83199MSzz9J9K1fSli1baOvWrVRQUKCinfm9Il0KGRIpN+ITsbCpS2cplQeCdKZNJGYl5THruWtnRyQpKxNppq2Lp943PydbwlliT+imYSbHSs5LxaYK6zpDQXsCG+qkjpLtCZJNAACAuYWxCtQ6MWGsAgBIJqMTQ7Z06VK6pbCQqkRy+KOXXqLd69bJhJCn1atXU544wSdlu35OJk/WrCslItFyc6IqLS+hmrIaKoltLqSWpg4KqJOgnFoNXTyLqqm9lahMfXu2r46oJuaEyyfT2OWpZnYsWcTdQO1xbVXR6yz5D4Tq2loeaKRmVS7r0ZYIyu6oxY7tnAAAAHMOYxVEYawCAEjGwzc5VPOzZnBwMLbLp8HRo0fpkUceUUtT8Td6fPIeHh6mVatWyZbC+KSQT+jHdBdJPhHzZYNiOSRO8tyDlPkCAaJgsSyv1PG22Jh53oCX7dfx8Tdmel0M7h7RTOX2FsX4fUkcd4iKQ+3yekX7Ov7DIw4lTubttLuF520pbMDqnhHzGpk+xjGiyhkeq7ooGsff6MW/Zk42Zc8QuT9uiZSl1Bp5rfzH0EudtTpuYTh48CDt3btXLeUuN7+/4Az1lxrUX2pyqf5MnyP6Ll+mb738Mv3ne++VLYUaX5bCPZD4y+aioiK64YYbZDkncCX6bx53xTRdesHlzeXW32SR6FXw386QKCsLWn9Ted62XZWnKvrZwPi5QLDts018Zmkut/895b+xcqMp+475TGB7vpXimLXGHk7Wa5zyBXnks830j8XL/Jmiko5Ru/wQweyfF3j3Ibkupi7iPzfZ6iCbpfOzA85/qUH9zUDYIN132O/u7lZzzg4cOKDmYD6E6nxhzgBnpDUQFmf9cEgtLhRO78l0/35kepyb31+2UF5vuuNQf2Zu41B/Zm7jcqn+TOfssbGx8K/eeCO8v60tfHF8XJYF3347XNPUFD5+/Hj45MmT4UuXLsly5rP/LQvVRZd5Xnxk4o9NclLlMetN80LMdnIKhKf+tW0NB2R5KFzni1sfsz+O84Xr1M5Nz0mW2+bjTVnn+NzdHYvxZwiR/KmleNH9WK9R069Ziau3bOXm86zb9z3Of2Zu41B/ZoniMr4rKcyNoupjVBcsm9loYvwt6TH1LSIAAECGwFgF0zOTYyWHsQoAsgUSQ1CKqLpdnPBn0IVDX1QOAACQaTBWgQVjFQBAMkgMAQAAYEHj5LBIJIdf2rWLvF7v9JJCobYkesunys6SabUYNoTqKFimB58Rk9/htgx8mynxb+otr2y34mLxt6PSShuskT49fmrZ3a7mo8cto9iWyClmeCw5mE58nLc4+pq9ItlttVpJSxtkRinLvTUl1Br5MtpKSmPvAw0Acy5skO6+rG76+OIaQ8g0uMbQgj76Zm7jUH9mbuNQf2Zu43Kp/vA5Yn5hrAILrjGcar7iUH9mieLQYggAAAAAKcFYBQDZD4khAAAAAKQIYxUAZDskhgAAAAAAADkOiSEAAAAAAECO8/AFiGp+1gwODlJ+fr5aMjt69Cg98sgjaglg/h08eJD27t2rlnKXm99fcIb6Sw3qLzW5VH/PPfecmgOYX3fffbeaSw3Of6lB/U2fh0egUfMRbivSbVxPTw9t3rxZLZnxh3AkhpBJnN6T6f79yPQ4N7+/bKG83nTHof7M3Mah/szcxuVS/R0/fpzWrVunlgDmx6VLl2jPnj1qyczt+x7nPzO3cag/s0Rx6EoKAAAAAACQ47ImMewbGKCvtbbSW5cv09jYmCoFAAAAAACAVGVFYtjb309/d/IkfeGBB+jxF1+k13p6aHR0VK2dXV1dXeT3+9VS7uI6qKqqUkvueTweWYcAAAAAAJC5Mj4x5KTwqVOn6PN33UXX5uVR9X330ZOdnXS2t3fOksOZMiWVvByfKHGZPY6TKfsUH9/W1hazXids8cdyOn58mX1fPMUfr76+nkpKSqihoUEuO8Xby7TW1laqrKxUSwAAAAAAkIkyOjHsEUnh90VS+DmRFK5QZfkiOdx3//30jVdfpa4MTw6Liqy7terEST/qcmZPwvS8z+cjHhOIp1AoRF6vV5YzTtLKysoi6w1jBzkyHYslOh6rqamhffv2qSWL/fj8ejg55SSQl+vq6iLJammpdaNbTmYBAACyzdpbfPLv5C1rVQEsaJ2dnRQMBmlyclKVAOSOjE4Mn3zhBfq03x9JCrV1Ijn87TvvpL8SSWO/SB41TnbsrVa6ZSy+XCdFvJ4TGF2ukxd7vD1JcrOfeBUVFdTS0iLnOeniZTtex2XcIqfj7OxJJGtqapL7sdMteckkOxaLPx7XCf9BjC+P19jYGEkCd+/eLU+qGh/zzJkzagkAAGDu6MQuMt1RqNYATMUNDr/4xS/oBz/4Ab3++uuqFCA3ZHRi+JBIuB5/5hkanJhQJZbTFy9S8/PP072rVtHQ0JAqJZnE6VYre/LE5bp1i8t118aOjg4qLy+X5bzdoUOHZHkq+4m3fft2+e0Ta25ulst2nOhxIsXb83w8nZhpfCynJI3X2RNXe1LLkh2LxR+PE7r4ZJbpY3ALZjx+fvxcNHsdAAAAzKV3znZQx6t91kLfq9TxSq81D5DAwMCAvDcmfx68cOGCKgVY2DI6MVwvEr9P3norHX76abqkkkNOCjlZvHfFClq/fn3MfTg4odGtVvHsyZJOWuzx9iQqlf3E43JuTWPcimaP0y2OnEhxOe+Py+wJHier7e3tMo7Zk7Z4vE4nrjp51ZyOxRIdz8R+DO5mqvfjhOvK3oIIAAAwr9beIv9m+u64g+7gRzlfSMsjq1WZmHZcpwo1vW3cdnqbOwqtvSwvvCOy3mkbFt+iqbeHzMBJIX9pzknilStXVCnAwuQZGBhwf5HaDLm54eLRo0eNNxPnJn0eaIavKeTuo7KlUCSFW7Zsoa1bt9Lq1aspLy9PxnKXTp3UcLLCLXq8bC+3cxM/3f2YcDdTbqXjFkN7t09ubePEyo6vz+PWPN4fH5uTKk7ANE7eOOEztRrGPw/7c3c6VnV1dWQ70/F0iyDHmfC2x44di9nOflzGJ9T4154N+Ab3e/fuVUu5y+0NU8EM9Zca1F9qcqn++IO74w3uOTHjDI9bDM++E10ePEcnXumlFSI5s1Z30FmKjeXELbJuqJDu2LmN6NwJeqV3OLKfQbVsxQ6K1W/Syp076Dref4jI67BNiLy0c1t+ZHuYfydPnqRTp06ppVjLly+XX64XFBSokqn4Bvd33323WkoNzn+pQf1Nn0d8mJ+SGLqtSLdxPT09tHnzZrVkxh/CTYkh4+SQB5r561/+kj58zTV07bXXysTQnhQye9JkT064nLsC2FvrmD2Rio/X++HESCdqbvZjwokRDxgTvy1vV1tbGynjON2dVe9Pb6t/TDrBs//YOPHkpCv+edhfk9Ox9Dqn49nj9DLj/dgTSZ38cjk/R+46qhPBZMllpnJ6T6b79yPT49z8/rKF8nrTHYf6M3Mbh/ozcxuXS/V3/Pjx6SeGhuTv0jpbIihDo8vdy++QidwUer+0nArv2ElWSB+92nGWhgqdtzlxdUvMOiSI88+UGPLnvxtvvJHe+9730qpVq1SpGSeGe/bsUUtmbt/3OP+ZuY1D/Zklisv421WwpUuXUlFhIX1p1y6ZiMS3FGqcePF6/gXmR42TPE52uJwnToQSse/Hfm3cdPej6WRMPzJOqpi9jOe5W+fwcPSPApdxyx4fj7fh5Eov6ymZRMfS67T448XHcb3oOuB5rivGSaAu58TV3jrIiXX8tZUAAADZihM4/tsYmWRSyFbQSofPZaZthntfiV7/KORv20k+DH+aUTZs2CA/C3ErYLKkECDbZUViyDg55F9OTgrXrl07JSlk/IvLrVc8ccLCo28ybvnT5Tzp1i/9yDhGL9v3wwmOLnezHyccb2c/nh3H8WhYdpwMcjlvY1/Wk07C4venj5HoWKZ18cfjRPHIkSNynsvsx+a60uzlmr2FEQAAINMNXR2UjyuXT73Wb3j4qnzM33Y9mdK3tbfsoOtkS+Gr4v/raAdfX5hkG3rnrJUonjhH1pEhE3B3UU4G+Utv/vwJkAuyJjF0w37rCf5FtrdawcxxosiDx3D9Thf/HPgaRAAAgPkgB3fhvqDsuh3WYDAJDPeG6JzI0GTrnc/qRhrBSZxM4ETSFzNgzBoqvEN3OT1L74h/3dZOaOeWqw7bLI8OUMPTzm2Uz9ckRlofYT4sW7aM3ve+99HHP/5xuummm1QpQG5YUIkhJ4KmVitIHbcqziTR5p+DbnkEAACYa/J2FfYunHy7Ct1Kp5IwHWMtDlPvK7Z4NUXyteFeeiVu3Su9lyPb6DjZTZTX8/GM2wxHY/QkYnGF4fzasWMHFRcX06JFC+ojMoAreNcDAAAAAADkOCSGAAAAAAAAOQ6JIQAAAAAAQI5DYggAAAAAAJDjPAMDA7M+SoubGy4ePXrU8Qb3APOBb3C/d+9etZS73N4wFcxQf6lB/aUml+rvueeec77BPcAc4Rvc820u0gHnv9Sg/qbPEzYM3+m2It3G9fT00ObNm9WSGX8IR2IImcTpPZnu349Mj3Pz+8sWyutNdxzqz8xtHOrPzG1cLtXf8ePH1RzA/NqzZ4+aM3P7vsf5z8xtHOrPLFEcEkMAB0gMLTixmrmNQ/2ZuY1D/Zm5jcul+nvqB/+XLhZspwlPnioBmFt54XFaPxCiT3z8N1WJmdv3Pc5/Zm7jUH9mieJwjSEAAABkveGREVoyMaSWAOYev//4fQiQrZAYAgAAQNa7OjhIK8f61RLA3LtGvP+uDg6oJYDskzWJYd/AAH2ttZXeunyZxsbGVCkAAAAA0cc+tocWjw7QkslhVQIwd5ZMDFPe6CD95m8m7kYKkMmyIjHs7e+nvzt5kr7wwAP0+Isv0ms9PTQ6OqrWQu7qonq/hzxVbWrZPY/HT/VdagEAALLexo0b6dLbF2jdu7+mReFxVQow+/j9tu7qr+mdi2/Thg0bVClA9sn4xJCTwqdOnaLP33UXXZuXR9X33UdPdnbS2d7e9CeHXfXk99eLdCMDzOZzmbJvTrDiEyWVdMU9B79HlEWmuG3aqmzrxKQStimvw3h8ET+dYwld9ZVUU9JK4YZSsdRGVcZ4e3mVWLKEW0uopjLueQEAQFarqKigixfeog1XztFStBzCHOCWQn6/XTzfS5/61KdUKUB2yujEsEckhd8XSeHnRFK4QpXli+Rw3/330zdefZW6ZiM5zAVFu6mCmqhFZ0VdLWKpgnYXqWUmywLiny2O+eooFA4TD2YbDom9eK1kq6veT54yola9Tkyt1BxJxBKa5rEsbXSkhqhuHyeFWsB2/HaqFq+nrUo+KVkWqgtSmW5dLN1HdVRDR1w9QQAAyBYPff7zNHj5Eq0dPEfrht6kFRNXVAvirN+2GXJCWL6flo8PyvfXOpEUXum/RA899JBaD5C9MjoxfPKFF+jTfn8kKdTWieTwt++8k/5KJI39InmMim014hwgpmXK1lIlExkdq8rqK2uoo6OGvKLMX9/luK3fX0VV3MIlj6Fau9TxIjhe79/W2sX7qK/iMnuSM1X8c+FjRPfPr1M8/+uizyPm+A7Hjiqi3RVETToLC3USVewWpVFdLU2ibB+Vl3RE4+IVbacSNcvhdaEGsqdppQ2xy06meyyprZkafXHJrEFzY4DK1ZMoEi/aFzyjfqZcBz4KnnE4HgAAZK0HH/ws+T6wiwZ6XqMlb3fRhoEQXX/ljJh+hQlTitMZ+X5aeumsfH/5fR+gz372s+qdB5DdPN3d3RnxFdo3v/nNKfeM67t8mb718sv0n++9V7YUaqcvXqQnnn2Wdq9bR0VFRXTDDTfIck6eOmvDJHsWKpyIHWuvtpIeTpgqSS5XisSsNmwlLm1VVUScxNjWc7zztn6qCLVTdaiKPGVBkRCp+UPFFFLxVWL/5Wr/sdt6qKQ19jkaxT0X2U2zudzqNqnmfY2HrOfBAVwmG8caqNnh2HI/mm1/bSJRbS63PydOROVGU15XTJ3wPtQ6e33G4yS1Q81HcGug3M/0j8XLnNhX0jFqly+ecbJcRo1qyVcXkutifg4ypjm6bKsDE76P4e/93u+pJQAAAACABSxsMDAwoOYScxvHyWcyBw4cUHNRY2Nj4V+98UZ4f1tb+OL4uCwLvv12uKapKXz8+PHwyZMnw5cuXZLlzOerC4fUvBZTFqqLLAdkn5JAuNVaY7GtZ07bRsrt8fHbWn1WbJN1rJh9JhK3v7DYOqD20RqgcEDMTF3vC9eJAqdjx9L7C4XrfInqIbpfFrNv++tN8LqmrHOsN3fHYqE6X1gkf2opXnQ/us4s+jUrU+o4luk9ydL9+5HpcW5+f9lCeb3pjkP9mbmNQ/2ZuY1D/Zm5jUP9mbmNQ/2ZuY1D/Zm5jUP9mSWKy+iupIsXL6abNm2iB3fsoINPP03P9/XJlsL7Vq6kLVu20NatW6mgoEBFT0+DvA6tnJpld8vE3TpnxH59nJzMrWnulVJ5oJGa29piukcauTo27y9IZ9paqKmkPGY9d+3U3Vg9shXO1sVT7ztUR76OTgpZpVTSEXd9oEszOVZyXioWWeUUXWco6CsWa5VQJ3WUbLdaJAEAAAAAcljGj0q6dOlSuqWwkKpEcvijl16S3Uc5IeRp9erVlGfrYlphGkzEllDIJETNV8kL70pFghiiOp9IkHRSY09AHLZ1o0QkOykPbBKXDJXuq6NgWRkF6/ZNTfRs19y5PXZpeQnVlNVQSUyW2UUtTR0UUAO2yKk1QB1NLeraPKWomtpbicpUUi2eGtXEDA7DPTWTJdwzO5Ys2l4SG9dWZbvGUiS7HSW0XdSFlUzrYvEztCWCXWeC5CuOpIkAAAA5iy+fOHz4sFoCgFyU8Ykh4+SwSCSHX9q1i7xerzEpZNXHOHHSg65Yg7Ec45Eo1XJlZwlFGpJqvCrOS00Vx6zr9EQCUisSCY7nAV8ct3WhIRT7XOJvxZBU3HOxynZThc9HFXrElUhLm5j4+kJ1/Z3rY5eWy7FAY/NCHiG0jmIG++Q4U4tgaYM10qfHTy2729V89LhlFNsSOcUMj2Xl9HFx3uLoa/aKZLfVaiUtbZAZpSz31pRQa+R6QispLeHsEQAAIAcdOHAgMv30pz+l559/PqYMAHKLJ8zNNHEGBwcpPz9fLTlzG9fT00ObN29WS2b8TVX84DMQJ24AlpjBWXIQD0Dj7ax1HDwmobi6NHF6T6b79yPT49z8/rKF8nrTHYf6M3Mbh/ozcxuH+jNzG7fQ68+e/D333HM0Pj5OH/nIR1RJ7Ho7t8fF+8/MbRzqz8xtHOrPLFFcVrQYLlyxt9eITqZbTIjo5kYK1OZuIhivqPoY1QXLIjfSnw4PjyZ7DHUJAAC5y946eM8999CHPvShmDIAyC1IDOcVX+Nou74uMqlbUMQpbYi9zUV7DrcWWoqoul3U1wxaDJ3qGAAAAAAgFyExBAAAAMhB9tZBXGMIAEgMAQAAAAAAcpyHb3Ko5meNm4sh+aJngExz9913q7nc5fZiZjBD/aUG9Zca1F9qcqn+9K0q9u/fLx/TAe+/1KD+UoP6m76MGZX0+PHjtG7dOrUEMP8uXbpEe/bsUUtR6f79yPQ4jOpl5jYO9WfmNg71Z+Y2DvVn5jYul+qPR+IeGRmhRx99VJU4c3tcvP/M3Mah/szcxqH+zBLFoSspAAAAAABAjkNiCAAAAAAAkOOQGAIAAAAAAOQ4JIYAAAAAOe6RRx5J68AzAJB9FnxiuPYWH/l8PrplrSqAnNHZ2UnBYJAmJydVCQAAAAAAmGR8YqgTu8h0R6FaA5DY6Ogo/eIXv6Af/OAH9Prrr6tSAAAAAACIl/GJ4TtnO6jj1T5roe9V6nil15oHcGlgYEDeJ7O1tZUuXLigSgEAAAAAQMvOrqRrb1Gth3fQHbaWxOWR1apMTDuuU4Wa3jZuO73NHYXWXpYX3hFZ77QNi2/R1NtD5uGksK2tTSaJV65cUaUAAADA9zHUN7kHgNzkGRgYmHKD+3Rzc8NF/rDueIN7Tsw4w+MWw7PvRJcHz9GJV3pphUjOrNUddJZiYzlxi6wbKqQ7dm4jOneCXukdjuxnUC1bsYNi9Zu0cucOuo73HyLyOmwTIi/t3JYf2R4yy8mTJ+nUqVNqKdby5cuptLSUCgoKVMlUfIP7u+++Wy3lLrc3TAUz1F9qUH+pQf2lJpfqTyeF6RyABu+/1KD+UoP6mz5PWFDzEW4r0m1cT08Pbd68WS2ZHT9+fPqJoSH5u7TOlgjK0Ohy9/I7ZCI3hd4vLafCO3aSFdJHr3acpaFC521OXN0Ssw4JYmYxJYYej4duvPFGeu9730urVq1SpWacGO7Zs0ctRaX79yPT49z8/rKF8nrTHYf6M3Mbh/ozcxuH+jNzG5dL9ccthiMjI/Too4+qEmduj4v3n5nbONSfmds41J9ZoricvF0FJ3AdHR3RSSaFbAWtdKhP0zbDva9Er38U8rftJB+GP81YGzZskK2E3AqYLCkEAAAAAMglCy4xHLo6KB9XLp96rd/w8FX5mL/tejKlb2tv2UHXyZbCV8X/19EOvr4wyTb0zlkrUTxxjqwjQ6bh7qKcDJaVlcnkEAAAAAAAYmXH7Sq4Lyi7boc1GEwCw70hOicyNNl657O6kUZwEicTOJH0xQwYs4YK79BdTs/SO+Jft7UT2rnlqsM2y6MD1PC0cxvl8zWJkdZHmG/Lli2j973vffTxj3+cbrrpJlUKAAAAAADxsuN2FfYunHy7Ct1Kp5IwHWMtDlPvK7Z4NUXyteFeeiVu3Su9lyPb6DjZTZTX8/GM2wxHY/QkYnGFYebYsWMHFRcX06JFOdljGgAAAADANXxiBgAAAAAAyHFIDAEAAAAAAHIcEkMAAAAAAIAch8QQAAAAAAAgx3kGBgam3OA+3dzccPG5555zvsE9wDzgG9zzbS5yndsbpoIZ6i81qL/UoP5Sk0v1d/jwYfm4f/9++ZgOeP+lBvWXGtTf9HnCgpqPcFuRbuN6enpo8+bNasns+PHjag4gc+zZs0fNRaX79yPT49z8/rKF8nrTHYf6M3Mbh/ozcxuH+jNzG4f6M3Mbh/ozcxuH+jNzG4f6M0sUlzGJ4VM/+L90sWA7TXjyVAnA/MkLj9P6gRB94uO/qUqi5vIX1G6+4nBiNXMbh/ozcxuH+jNzG4f6M3Mbh/ozcxuH+jNzG4f6M3Mbh/ozSxSXMdcYDo+M0JKJIbUEML/4vcjvSQAAAACAXJAxieFVkb2uHOtXSwDz6xrxXrw6OKCWAAAAAAAWtoxJDD/2sT20eHSAlkwOqxKA+bFkYpjyRgfpN39zajdSAACAhejgwYORAWgAIDdlTGK4ceNGuvT2BVr37q9pUXhclQLMLX7vrbv6a3p3cIA2bNigSgEAAAAAFraMuo9hRUUFXbzwFm24co6WouUQ5hi3FPJ77+L5XvrsZz+rSgEAAAAAFr6MSgzZQ5//PA1evkRrB8/RuqE3acXEFdWCOOu3W4ScE5bvreXjg/K9tk4khVf6L9FDDz2k1gMAAAAA5IaMuV0Fs+/v/Pnz9MMf/pBWriqgFcuX0eK8jMthYQEYn5ikoZEROdDMvffeS9u2bVNrnKX79yPT4zDcs5nbONSfmds41J+Z2zjUn5nbuFyqP77GcET8PXz00UdViTO3x8X7z8xtHOrPzG0c6s8sUZxnYGBg1pvi3D5RMJtO/ekLx/fv3y8fAe+/VKH+UoP6Sw3qLzWov9TkUv3NxucHvP9Sg/pLDepvBrjFMB4ni264jevu7lZziaX7uAslbjr1d+DAATklkumvN91xeP+ZuY1D/Zm5jUP9mbmNQ/2ZuY1D/Zm5jcul+uPPDiIpVEuJuT0u3n9mbuNQf2Zu41B/Zoni0D8TAAAAAAAgxyExBAAAAAAAyHFIDBeAAwcOyImvD/jpT38qJ13GEwAAAAAAQCJIDAEAAAAAAHIcEsMFQLcM8khi99xzj5zQYggAAAAAAG4hMQQAAADIcY888ghudQWQ45AYLgC6ZRDXGAIAAAAAwEwgMQQAAAAAAMhxHr7JoZqfNYODg5Sfn6+WYLpQf6lB/aUG9Zca1F9qUH+pQf2lBvWXGtRfalB/qUH9zYC60X2MdN9hv7u7W80llu7jLpQ41J+Z2zjUn5nbONSfmds41J+Z2zjUn5nbONSfmdu4XKq/AwcOhPfv36+WEnN7XLz/zNzGof7M3Mah/swSxaErKQAAAAAAQI5DYggAAAAAAJDjkBguMAcPHpQTAAAAAACAW0gMAQAAAAAAchwSQwAAAAAAgByHxBAAAAAAACDHITEEAAAAAADIcUgMAQAAAAAAcpyHb3Ko5mfN4OAg5efnqyWYrunU3+HDh+Xj/v375SPg/Zcq1F9qUH+pQf2lBvWXmlyqv9n4/ID3X2pQf6lB/c2AutF9jHTfYb+7u1vNJZbu4y6UuOnU34EDB+SUSKa/3nTH4f1n5jYO9WfmNg71Z+Y2DvVn5jYO9WfmNi6X6o8/O4ikUC0l5va4eP+ZuY1D/Zm5jUP9mSWKQ1dSAAAAAACAHIfEEAAAACDHPfLII7gMBSDHITEEAAAAAADIcUgMAQAAAAAAchwSwwWGu4LwBAAAAAAA4BYSQwAAAIAcd/DgwcgtKwAgNyExBAAAAAAAyHFIDAEAAAAAAHKch29yqOZnzeDgIOXn56slmK7p1J/uBoIhp6Pw/ksN6i81qL/UoP5Sg/pLTS7V32x8fsD7LzWov9Sg/mZA3eg+RrrvsN/d3a3mEkv3cRdK3HTq78CBA3JKJNNfb7rj8P4zcxuH+jNzG4f6M3Mbh/ozcxuH+jNzG5dL9cefHURSqJYSc3tcvP/M3Mah/szcxqH+zBLFoSspAAAAAABAjkNiCAAAAAAAkOOQGAIAAAAAAOQ4JIYAAAAAAAA5DokhAAAAAABAjkNiCAAAAAAAkOOQGAIAAAAAAOQ4JIYAAAAAOe6RRx5J683tASD7ePjmj2oeFoCjR4/Kx71798pHAAAAAACApNSN7mOk+w77nHy6MZd39rfL9Ljp1N+BAwfklEimv950x+H9Z+Y2DvVn5jYO9WfmNg71Z+Y2DvVn5jYO9WfmNg71Z+Y2DvVn5jYO9WeWKA5dSRcY7grCEwAAAAAAgFsezg7VfMTg4CDl5+erJWdu43p6emjz5s1qyVm6j7tQ4lB/Zm7jUH9mbuNQf2Zu41B/Zm7jUH9mbuNQf2Zu43Kp/g4ePEgjIyP06KOPqhJnbo873frr6+ujlpYWWrmqgJYvW0aL8zwqAgDGJ8I0NDJMV8Xvy8c+toc2btyo1ljScT5AYihkehzqz8xtHOrPzG0c6s/MbRzqz8xtHOrPzG0c6s/MbVwu1d98J4ZPPdVMBatX09jSArq6RDzmraAJD3dsQ3IIQBSmvPAkLZkYopVj/bR4dIAG+/vpd37nQbU+PecDdCUFAAAAgHnzV3/911Swbj1dyr+ZLq24noYXrxJJYZ5Yg6QQwOKRvxP8u8G/I+/kb6OCtevpL554Qq1PDySGCwx/48cTAAAAQKb79re/TRsLr6cL19xMY4uWqVIASGRs0XK6sGobrd+wib7zne+o0tQhMQQAAACAOcfXFBasXkPvXHMjTcoWQgBwa9KzWPzubKX8gtV0/vx5VZoaJIYAAAAAMOd4oBm+ptDUUvgX/3NsWtNTf+6hC91v0MjQVbUHgIVvdNFy8TuUTz/84Q9VSWqQGAIAAADAnOPRR3mgGZPtv7GGbtu5hna8d6017VSTnlePt965RsbedFs+nX75BRq4dEHtASA3DC1dQ9fkF6il1Hj4Jodqfta4HSUHzKZTf4cPH5aP+/fvl4+A91+qUH+pQf2lBvWXGtRfanKp/mbj80Oy+vvJM8/S2wVemvAsViVRhRu30W8WW+WT4pPqxKR+DMv5cTE/PiEmsTw6TvTsr67Sd4/+Ie164BO0tWiH3A4gFywKj9OGgRB95N4Pq5KZw+0qhEyPm079HT16VM4nusl9pr/edMfh/WfmNg71Z+Y2DvVn5jYO9WfmNg71Z+Y2Lpfqbz5uV3H8+HHqXrVdzE0dfXTzhpvonm0e+rfzV2lsIkx5eYto9TVLqPedYRoTWeH61Suo99IQjYyFqej6AvrZr67QX//v/zKtxPDIw5+hs6dP0DeePaNKZs9cHguyz/DARervPquWzFZffwstL1ivluzCdP2VM3T33XenfD5AV1IAAAAAmCfmW1JMhsM0IabhsUm6OjxOQyMTMgkcGpmkd8U0Isr58erQKA0ODdHY6Kjacnb85de/TF/88HYKvvgzVQKQPsuuWU3nz/wLdZ/8mXE6/6sTtGSlU3fR9N3WBYkhAAAAAGSUyYkJ2WV0bFwkgeNhGh0bp9GJsEwOR0bHZdnI6KQoH6XhkXGaGB9TWwJkH0/eYtp8h18tTbX5PR+ivMVL1NLsQWIIAAAAABllQmSF+npCeU0hT+qaQn4ck/O2cv4vCR61lFv99MRdO7X4dTw98/fH5Dp+fP7438j5x/7oC3Idi9+GWxW1RMcCMFm/7XZaue46tRS1cu1GWn9TsVqaXUgMAQAAAHIcj02QSQPXTY6PW0mhGniGk8SxsJUUWgmhfd6KT4QTtS9/9qNynq/z4+mW23fKZe1Dez4dWceaHvuq3O7e36qU69jDX3tcrtf709tUPPzHMnnkJNLNsQCm8Hjo+jvvUQtRskysmwtIDAEAAAAgo0xOjMtWQWuakF1KOfcb5WRQZIqjvCwex0XmyIPTTCRJDF/5p5/KR07gTDZcfyP9p//6FbVkJYms78035GO8H33vcfn4ng9aCeDGLdvkY+/rXUmPBeAkf+NWWrOlSC0RrdnqpfzrblBLsw+JIQAAAABklHGREY5NEg2NjtPoyAgNj4zS0PCwnB8dHaGhITE/NiLiOIHkxFBkjAlwwsZ0AmeiB5jhSXcdTUZ3LeVH1nMu5OpYAE64hdCzKE9Mi2jze+5SpXMDieECw11BEt2qAgAAACDT8TWDPC3Lm6AleZOUt0gsj43SYvG4JC+s5idp8ZJFsqtpeCJxYlh4k9UKc/7Nc/IxHieFnAxyKx93/dQthsnorqV62vfY95IeCyCRZavW0Abvb9CG7Ttpef5aVTo3kBgCAAAA5Di+j6G+yX0mGB8boyUi6dt07SoxFdC1a/NpxYrltPHafNq4Pp9WXrNCzBeIaTV58pZSeFJkhwncscu6dusXz7bJR2YaEEa38nHLn118snf/Z6wWwrbv/Ll8ZHxtISeYbo8F4GRTyQdo0+271NLc8QwMDEy5wX26ub0RKpih/lKD+ksN6i81qL/UoP5Sg/pLTS7Vn04K0zkATbL6e+6556h71a1qKdY7vZO0amUeTUxM0OTEJIXDYZH8kXycFDPWsofE/zJ+6OoIdfz4zxPe4J4HhuEBZTQeEEbfdN4+YAzT67hFsOT9Vnc+fZN6ZtqGcUsjX6uY6FgA6Xb9lV/JG9ynyiN+saYkhm5PhG7jenp6aPPmzWrJWbqPu1DiUH9mbuNQf2Zu41B/Zm7jUH9mbuNQf2Zu41B/Zm7jcqn+uMVwZGSEHn30UVXizO1xk9Xf8ePHHRNDTrpOv/yCfHSLB5C5/X0flI8AuUQnhqmeD9CVdIHhEztPAAAAANmqYN0GmeRxC6DbieN5OwCYGSSGAAAAAJBRlq1YKVv+uFuo24njeTsAmBkkhgAAAAAAADkOiSEAAAAAAECOQ2IIAAAAAACQ4zAqqZDpcdOpv6NHj8r5RDe5z/TXm+44vP/M3Mah/szcxqH+zNzGof7M3Mah/szcxuVS/c3XqKQAkB7pGJUUiaGQ6XHTqT8khlPh/WfmNg71Z+Y2TtdfX18ftbS00MpVBbR82TJanOdRETAfxifCNDQyTFfFz/FjH9tDGzduVGssC+39l8xCeb3pjsul+puPxJCPmejzCgC4w79Le/fuTfl8gMRQyPS46dQfEsOp8P4zcxuH+jNzG8f19+Mf/4QKVq+msaUFdHWJeMxbQRMe7smP5HB+hCkvPElLJoZo5Vg/LR4doMH+fvqd33lQrV9Y7z/8/k7lNi6X6g+JIUD2SltiODAwMCUxTDe3JxAwm079HT58WD7u379fPgLef6lC/aXmO9/9Lm3eeiNdWnkDjS1apkohkyyZHKZ17/6azr/VTf/xM59RpQsDfn9Tk0v1NxufH5LVH3+ZjcQQIHU6MUwVWgyFTI+bTv2hxXAqvP/M3Mah/szcxH3729+m/LXr6e1Vt9CkJ0+VQiZaFB6nDVfO0eDli/Tggw8uiPcfw++vmds41J+Z27hk9YcWQ4D0SFeLIUYlBQCYBXxNYcHqNfTONTciKcwCk57F4me1lfILVtP58+dVKQDMp3df30fvvvZFmhi/SoZ2DABIMySGAACzgAea4WsKTd1H/+J/jk1reurPPXSh+w0aGbqq9gCzYXTRcvEzy6cf/vCHqgQA5su7Z+6hpRMdtCTvFRr5pZcuXzxL4+Pjai0AzAYkhgsMd8lAtwyA+cejj/JAMybbf2MN3bZzDe1471pr2qkmPa8eb71zjYy96bZ8Ov3yCzRw6YLaA8yWoaVr6Jr8ArUEAPNh+K1GWr7hNqIVy8mztISWL1lFV85W08DAQOKWw6568vvrqUstptts7hsgEyAxBACYBcuXLaWxvOVqKVbFFzfSt+s207E/K6RvHS2kx79eSI1/Wkj/50820WNf20R1j26iPz20if7XVzbRVw9sol2l18gWw2G0GM66kUXL5e1EAHINX6OkB6CZb55FKyg8eZny8ojy3n2RaHycht4doP7+fpqcnFRRMzTLyeN0+T0e8sipitrUsr/e9uzU8/1Dv46LnWJiAVKExBAAYBYszltEEw7XFnrCYRq8Ok6nXx+gX77WT//660Hqe2eYXnm9n069dpneujRCr5y7TCe7LtPo2CRNjLnpPvUz+ssPb6cvyimDR9bsPkZH+Dk+fIymtH+++GXr+X/9Z6pgZoYHLlLfqy8lnDjGhK8H5Z8dAMyfZRsfpHf73qDJkXcpfGWQBocH6ZWLlTIRWmjaQ3Xk89VRKNxApVzgC1BJUyXF53vV7WHZWhqOxFvL7dVFKgIgdfjrBwAwa8wfYibFH/MJMQ2LpO/q8DgNjUzQyBjfcH2S3hXTiCjnx6tDozQ4NERjo6NqS2fBr3+BnqedVPHdM/SNZ7+nSqcv+HUrufzLF1WBCzPZZjYtu2Y1nT/zL9R98mfG6fyvTtCSlU7dRXFvSYCMsOp3yZO3jIauXKJg3/tp0+YdtHr1alq0KO6jK7eo6RY0bw11RIr9tpY1fyTRqq8UMR015BXlsrXNvr0tLqG2qthYh33U+z1Uxc2AUhtVudp/Me2rLaGaI5ENAeYMEsMFhruC8AQAmWtyYoImJonGxkUSOB6m0bFxGp0Iy+RwZHRclo2MToryURoeGaeJ8TG1pZM36Pw5fvTSxutlQU7z5C2mzXf41dJUm9/zIcpbvEQtAUAmWrp0qfyeZoIWU//S36cbb7xRDrHPyZddlUgGS1ptrWmqvKi63SrjqTWaaFUfi7a4cWtblbeTanVcqIKaKpN0M+UksIyoNdxOurHOaR/VtQFqbFYJXlszNQZqI9skVNpArVRmSyoB5gYSQwCAOTYhssKJybBMDnkS+SGNT/BjWD6OyXlbOf+XQPDrH6Wm0zz3N/SY7oqpu2zapiN//4aMl3S3TT09fIxO//1n6LHj1urn/8gqT+aCaZtkx5a66EcPJ1qvxO/LZTfT9dtup5XrrlNLUSvXbqT1NxWrJQDIVDoBXBQeorVrVsmkcPHixbLMLiiSvH2yD2YceyteWaMIPGNM+ILUSGU6jlscOzoppNZNwS2NMglU3T4Vx32UllOgsVleO9jW3EiBctMTNSvdV0fBQxjsBuaWZ2BgYNZvDOP2RqhgNp360xeO79+/Xz4C3n+pQv3NzHPPPUfdq25VS7HWrtxIH/KuoFD3Fdl9dHFemFavXknd54doRGSFG9dfQ2+K+bGxIbpxUz6d6nqHWv7yK7TrgU/Q1qIdai92b9AzD3NyyF1Jv0f3cqshJ1Tf20b7/utdYoGvP9RdTcX6N0VS+Ed/Q3T7H9NXHqukDbz+4XN0v5jv+/p2meh96Gtn6D+9X+48Ke5KGrNNomOTWPfZr9JZvXy97bn/oZea/rd4Xnsep2/wtrwfjlXLnIR++bETdMvDT9O+37pRHjuRwfO/ptBPxP5svPdWUP51N6gls+uv/IruvvtutZTd8Pubmlyqv9n4/JCs/o4ePeo4kvpw35O0ZOJb9O5r/0LBRf9At99+u+xKGo8HZjnWXk2yIY6TwUqSy5UeP1WEVKuerbzIPh+/fRIcW1vRRGWdtRRuiCZ5ifbRVuWh5vJWorJmKo9LKKUEz4e7wx6hCgo2RdfHxwMwfYP7VHnC3O4dx+2J0G1cT08Pbd68WS05S/dxF0rcdOqPT7Is0S0rMv31pjsO7z8zt3GoP7NkccePH3dMDFcvW0c+b75KDMdo8SKiNatX0a8vcDI4Rteuu4Z65Pww3SASw1dCb9M//M3h6SWGcezJ23tecE7+piR5LiTbJmb9FpXsRZJSq9VRJnzv20VnX/6nSGI4Zb/cyskJrU4cXXjt+Wa6/Kb1nfuarV66+YMfl/OJ6MQwm99/Gn5/zdzG5VL98QfLkZERevTRR1WJM7fHTVZ/fMxEn1eudG6nS+9sposr/4y8Xi+tWrVKrYni6/aKVQLIiZS3qYJCImmqjEuwdLlMDG2tflUeD/cLJVue50gnbSGR7B0qDkUGfkm4D3m8GqK6aHyMhIkqX5dYRo3c9VWXITEEA50Ypno+QFdSAIA5Nj42QWOTREOj4zQqPogNj4zS0PCwnB8dHaGhITE/NiLixmlsIkwTSbqSOuHESnfB5ARrLqXz2LqLqkwK2Tl5QaUr1995D3kW5YlpEW1+j7tkEgAyw8T1L9N44RO0adMm65pDgwa+ftBrdeOs7CyJXGNYW2INMBNfTkXVVBuwun7y4DMNoToKlqluoDyJxCxZ983ShlYqqfFGbhWRcB9Fu6nC56OK3eY0jpNGazAc63YVsUrF6wuoeYDZh8QQAGCO8TWDPC3Lm6AleZOUt0gsj43SYvG4JC+s5idp8ZJF8hrE8MT0E0Pd2sbdLr/x7Bl6eI9aMQfSfWxuMeT9RKbHKtWa5JatWkMbvL9BG7bvpOX5a1UpAGQD7jp68803U2FhoWNiyAO1yEFfxNTe0EDtqiWttEENBhNXzvQ62YInEsV2FSenBC1x0X2IhE1vzxLto+0I1VAFOeSFtu2sFkz785T49dnL+FgJniNAKpAYAgDMsfGxMVoikr5N164SUwFduzafVqxYThuvzaeN6/Np5TUrxHyBmFaTJ28phVO4ofPmLXwtnh611FLywU/Lx+e/o+8l+AY983Vr/rqbdsqSnjcdBoMxcNrGdOypfkY/euyEePw0lcZdN1jymT+mW8Rj9HkKfN2hywFotE0lH6BNt+9SSwAAiXD3TVvrX2RyeSuLOHLQmVokcpAdkBgCAMyxty8NUWvHr+mZf+6hF0710c9/2UcvnuqlX/yyh/7ldC/98nQ3BYPd1Nn5Jp0OnqOhqyNqS/ciSZXshvnf6RdWseX9X6FvfE0kh6e/Sl+W3T0/Sk0qedvwW39CFbcTnX3so7L7phvx2yQ8thY5th6Y5itUolZFXF9J+74r9hWJFZMcuGZ6Fi9dLicAgOSs1sBI619kit6eYjq4ddLN9YsAmQCDzwiZHjed+sPgM1Ph/WfmNg71Z5YsLtHgMxe636DTL78gH93acP2NdPv7PigfYXZh8BlnuRaXS/WXiYPPAIA7GHwGACBLFazbIJM8HmXU7cTxvN2c4m6buqXOOH1GBQJAtuMEDbe6AshtSAwBAObYshUrZcsf33rC7cTxvN2c4q6c9kFfpkzfU4EAAACQ7ZAYAgAAAAAA5DjPwMDAlGsM081tX3QwQ/2lBvWXGtTfzDz33HOO1xhCZtPXGC4E+P1NDeovNcnqj8dFwDWGAKnT1ximCoPPCJkeh/ozcxuH+jNzG4f6M0sWl2jwGchsGHzGWa7F5VL9YfAZgOyVrsFnkBgKmR6H+jNzG4f6M3Mbh/ozSxbHiSFkLySGZrkWl0v1h8QQIHulKzHke7NMwd1L3XAb193dreYSS/dxF0oc6s/MbRzqz8xtHOrPLFncgQMH1BxkG/7ZZfv7T8Pvr5nbuFyqP37f79+/Xy0l5va4yeoP50mA9EjX3y0MPrPA8DcGPAEAAAAAALiFxBAAAAAAMk7fwAB9rbWV3rp8mcbGxlQpAMwWJIYAAAAAkFF6+/vp706epC888AA9/uKL9FpPD42Ojqq1cdqqyOPxyMmJ319PXbZH17rqp78NQJZCYggAMA/efX0fvfvaF2li/Cpf661KAQCAk8KnTp2iz991F12bl0fV991HT3Z20tneXkNy2EZVZUGqC4Xn71w6jeSx3m8lsPGTv97a2h8pqxKvTC1X8VxUW5Uo04luJF5PflK7sp6XbR0fI9nxxUZWTNzrmd7zsJ47ZB8khgAAc+zdM/fQ0okOWpL3Co380kuXL56l8fFxtRYAIHf1iKTw+yIp/JxICleosnyRHO67/376xquvUld8cth1hoJUQtuL1HKGq263EthwqI58vjoK8byY2qutF9AeKW+gUi7wBSgQPBST7B0K+sinFsm2D2tqJ7UrqvI2UYVKmMPhVirpDCU9PnW1UBOJY4r/W+yZ4XSeRytRGVpZsxISQwCAOTT8ViMt33Ab0Yrl5FlaQsuXrKIrZ6tpYGBA/kF1xe230y66VwEAZJInX3iBPu33R5JCbZ1IDn/7zjvpr0TS2C+SR63KW0Md1EhlfK4T58WYc+M0WvJi2Fva5P51sT9yTrW3zNVXipiOGvKKcv8f/qGt9czWejdjxVReQdSksrS2IzVUUiEKXLEnzKXU0CBTzYS6WpqIKvZReUlH5JiWaTyP0nIKdHRSSC1C9vDwkKVqfta4vd8NmE2n/g4fPiwf9+/fLx8B779Uof5m5ujRo8b7c42c/w7l5bXQovELonIvcgVT1zubacm2b9MNN9wg1uWpSJIfaI61V9OUL8L5Q0slmddFtFGV5xAVh6LfHruSYN/8Ycf6gBSg1nADHRLLVBeyfdMc3bbF76Ea/WnKxmePz1D6flALAX5/U5NL9Tcbnx+S1Z/pPNl3+TJ96+WX6T/fe69sKdROX7xITzz7LO1et46Kiork+VKKO2fFnDdt6ypVuX5MdBaq4nNba5hkHuV0TuQv3prLKcxBtpgjnioq1619Ttsyp3Vx5dbr2S7220zloWI6xOuOEVWqmMrIeVnhlju1LXf1LGsUM4FW63naGY/P3UhlIVWHxOs7VBzZV9LnYatXTqC9TRWRbWH2pe3vVtggHffBsMN9lMzcxk2n/vg+JsnuC5TprzfdcXj/mbmNQ/2ZJYtL9Ht4+fSu8Ngb7w+P/8vN4csdG8J/1/TN8Llz58Lj4+MqIolQXdjnqwuH1KIRx1Ag3KoWXUu077h1Pl8gHPD5wnW6wLStm+eaYdJ1Pyi7+YrD76+Z27hcqj9+32fCfQzHxsbCv3rjjfD+trbwRXVODL79drimqSl8/Pjx8MmTJ8OXLl2S5dKU85LtfGNbF/+YiNM+5Lz46Mwfn+VkL9f7t6+Xk8N5OO55R8SV6/nWgLW/AO/MfjzTPuK1BqznIjdWTMePKWsNByh6fk/6PCKvV0xunhOkVbr+bqErKQDAXFv1u+TJW0ZDVy5RsO/9tGnzDlq9ejUtWhR7So7pAsXf7squSWKydW1yEtO9Kmayd23iVsXoOh5XIKZLVNI+UMW0r7aEao5gmAEASI/FixfTTZs20YM7dtDBp5+m5/v6ZEvhfStX0pYtW2jr1q1UUFCgoueW337NHl+jp8pjTLnmT7Uepqh0Hx8vQOUz2Vlpg3gerRRobE44KAx3I9Xnf4+nTPwFie9OmuB52F83WgqzFhJDAIA5tnTpUiIP0QQtpv6lv0833nij7G7FyZkTTvRKWtUfXacPJDYNcQMLRKbWaCJX7y+T3aX0Ou5pVH0sup2rLp/iA0crlcmkEgCyF3fpzJTLUPgceUthIVWJ5PBHL70ku49yQsgTf4lm73I/he3aNpnoqPnpKOmIDrwSsw9fBe1Wp8Up+1bHLRGJ1ax8V1ZUTe3TTDL99hMzD9LjKyavWpyqi1qaOrhR0fb3IkAdTS2x12jO4HlA9kBiCAAwx3QCuCg8RGvXrJJJIX9LnkhQJGv7ZvqX2N7ayBecBM/IP/RNlMI+bfgb5OAhjEAHAOnDyWGRSA6/tGsXeb1ed0mhcKwuGOkpUdlZkvRLNJMG/gLNO3UftSW6NS1u3yJZqg1YPTSCDz9MwTJ1vuXJ3vPDBT/39pCtdi5v+RBp4dNTtFdIRbAsWs6tnccStOTJ0Ujj/ibIQWTiRieFBQ2JIQDAPAl7FlGYEieE6eCq+1MqxIeiYxVNdKRFLQMApAEnhxs2bJBJ4dq1a81JIbdg2bouFlW3R1q82hsaIuviHxOSXS+n7qO0QZ1H48qZXtf+v/83tasYOTkdL+55a9FtrVY54/O1bRtzLDlFBxyL3JoirlyKP77x+ZRSg9ou6fMwrYesg8RwgeGuIKaREAEgcyy/7ndp6HIvXfbspBUrViT9Bpw5dm1yw6H7UwU5dHmawTDjRdW1RDXJr30EAMgMsddYR6d03GICIDshMQQAmAcT179M44VP0KZNm6xrDpNw6trkhlP3J76e0N7lSV6OUhTtEhU/+EziLk6l4jkG1DwAZBse7l7fsiI3cGuYvUXNoWUNIIcgMQQAmAd8rczNN99MhYWFjolhTNcch65NjmxdfBy7P3GMKudJ3+Yq0iUq7tNR0i5O/Bzjy4zdkwAAACDTIDEEAMha6AoFAAAA6eHhmxyq+VkzODgoR92DmZlO/eluIJky5HQmwPsvNai/mTl69Ciu981S3KVu7969aim74fc3NblUf7Px+SFZ/eE8CZAeafu7FTZIx53z7bq7u9VcYuk+7kKJm079HThwQE6JZPrrTXcc3n9mbuNQf2bJ4pL9HkLm4p9dtr//NPz+mrmNy6X64/e9SArVUmJuj5us/nCeBEiPdP3dQldSAAAAAACAHIfEEAAAAAAAIMchMQQAAAAAAMhxSAwBAAAAAAByHBJDAAAAAACAHIfEEAAAAAAyTt/AAH2ttZXeunyZxsbGVCkAzBYkhgAAAACQUXr7++nvTp6kLzzwAD3+4ov0Wk8PjY6OqrUOuurJ76+nLrU4q9qqyOPxyGmuzNlrg5yFxBAAAAAgx/GN5tN5c/tUcFL41KlT9Pm77qJr8/Ko+r776MnOTjrb25s8OZwTbVRVFqS6UJjvB67K5le930pS4yd/vZVK+iNlVeLZW8t6naSTak547Qkol3v8pEPd7ucPkzwfyEwevvmomocF4OjRo/Jx79698hEA5sc3v/lN+UHLSf+li/T8D54i/56P06o1a2jJkiVqDcy3gwcP0u/93u+pJQCYLabzZI8tKVyhytiliQk6+PTTVLVjBxUVFtLSpUvVGhtOSiqJjrVXU5EqmhV8HG8n1YYbqFQVzQVOuJK+Nqc6iCv3+6uohIJUfKydqrnAtj5U5aHm8jA1iBfXJuYPFYeoXQbFxiXbj9zC6flAWqXt75Z1n/tY6bhzvh0nn26k+7gLJW469XfgwAE5JZLprzfdcXj/mbmNQ/2ZJYtL9Hv4zttvh3/yl0+Gr7Q/G37q618LnwudCY+MjKi1yYVCobDP51NLkG78s8v295+G318zt3GoPzO3ccnqz3Se/Orx4+EL4+NqKdbP3nor/Mc/+EH4/PnzqkQI1YV94uMsf6SVk68uHJLFvmgZ+cJ1XCjU+SgcaLXmw+HWcMC2boqYfQdEtCUQKROTOJ4Tn3ou1n709iHxHNR8zP5tz8OhPLK/1kBsvB1vq+Ps4srlPO9HV4Z9vZ6XzyP6uqXp7IfFL8OsSNffLXQlXWD4m7dErRQAML8uX7xIJ/6xlXy3bqdFYyP04W1b6BdPNlLP6+emdJHy+/1qbv6l47nYuxPp5fr6ejnPurq65HF4ssfqyR4LAAvTQ+L3//FnnqHBiQlVYjktzp3Nzz9P965aRUNDQ6qUqMpbQyWtVpdOkYSQSKikoup2q4yn1hKqOcIdH4mqawPU2GzNU1szNQZqrZYuA/u+Q3VBKquytmvg4/jqSCQ7FG6vlmUmJR2dFBKPXS1NVCKySeuwIeqkYvKKuSrZ6qieY6iCmiqtLpxO5RK3wJURtYZVC10qShuolcpIvayoomqqLamhykrxvFtdtIo67QeyDhJDAIA5cvni2yIpPC6SwiIKD12lySuD5Bnop7vXrKSX6/+Eus+9FpMctre3q7n5l47nEgqFxIcpn/yww3i+qalJJoR2fCz5QcwWz1N1tfMHMABIDXdFO3z4sFqaP+tF4vfJW2+lw08/LbuPMk4KOVm8d8UKWr9+PeXn58tyFhQJ2j5T5sIJlP5iqaxRBJ6xkqvScgo0Nsvr49qaGylQ7pz22PddtLuCfGo7t8oDQTojDhrqLKHyfcUU5Myw6wwFS7bLbpVBaqQy/RxFEtqhEkmncuqoIW+au7CW7quj4KGpg9pwOVGFuW4NnPYD2QWJIQBAmv3t3/6tmov1s+bv0/tvupHCVwZo8vIlmrh4gSYuvEWTg/1027JF1NH019Tf36+iY1vpOHnSLWdeL3/XnJi95a2trS1mXrPvkyfNPs942em58KQTO27R02X2+ERqa2vpyJEjagkAct3ixYvppk2b6MEdO+Q1hc/39dETzz5L961cSVu2bKGtW7dSQUGBinbm9zZRhRocxt6SKFIYkbA1UrM4FzY3BihBXpgybzFRZ0gcJ1hM3qLdVBEUiWWok0r0QXWrY2RSCV+C8lZby2VaFFXTsYomOtKilmcqXfuBeYXEEAAgCf4mnadkOCH8wAc+EBkEKt5d5Z+kZ1/+Zxq99LaVFJ7vpdGBfjp/5V36+cQSKvTfHdNFyo6TwdbWVvkhgVvSkuno6KBjx47JbcrKyiLzhw4dUhGx+6yrq6OqqipZHggEIgkkP/KyHW+nP7Dwc6msrJTlNTU1kfKSkhJZlkxpqfUByZ6wZoKPfOQjjgm+HbewuHlvAIB7PLDMLYWFcqCZH730Eu1et04mhDytXr2a8vLyVCR312yiFtVMxV02O6xZkURV0G7V1TKmXJCtW+K8GKzbl7DlraSjhlQPVGsfgfJptdRxK6M46VKwYjcViX+82NxMVKy+27Pv386pnHmr22W3zXSO7llUXcsn8Jg6mol07QfmDxLDBcbtB1gASB97QsgjAv/85z9Xa2KtWr2G7thTTj858UsavdBHY4MDdOHdq9Q+vpiuv3/PlC5SdtylUidRbnB8UVGRTOLs83b2fe7evZsaGxvlfHl5ufjwIj69CPy4b98+OW+nWwZ5n5yEalzGGhoa5KMbvH97wpoJHn74Yfnz5J+rmwQRANKLk0MeffRLu3bJ84wpKWQNfP2g1zofVXaWRFoG+Ro5rzpP2cslbr0T578KnTk64GsJg2XqXFdTQq08TOd0FG0nzpL0cXixMVgcSVjt+5eTuk2EU7lW2tBKJTXeaSWHftkllevEus1ErFJRj7FfADpJ134gMyExBACYIVNC+KlPfUqtnYq7SBVuvYF2Pvh5evbcr6lv8Ap1iKRwi0gKp9NFarZxshgMBuU8P3JSaWe/7k9PTM/rDzNu8f4rKiqopSVz+iB94hOfkD9P/rkiQQSYH5wcbtiwQZ4b165dOyUplEobIuee9oYGale3RShtiJ6f7OVS2xGqoWiLoqOiampX+4h052Rc7ur2CyJRsg8Sw8/Vvl3M/sWk1zmUR4/J+xWvyzT6jMNzi38dU2JMz20W9wOZCYkhAMA0cYLAXQ3dJoR2/EFn803b6N9/6b/R6fVbqejjn3LsImXHrXL6Wr50JVC8T92Fk/dp7zLKiRp3LeXHePbt7PSoofyhgZNH/Xzd4IFluCtqpuGfKxJEgIVFDjpTq5OVNqrSLXMxU/Sm7omluj1A5vCIP+DWV702g4ODjt2Z7NzG9fT00ObNm9WSs3Qfd6HETaf++IPLT3/6U7rnnntU6VT8Acd+XKeupyMjI7Rs2TK1FBV/O4z/8T/+hzEunt5f/Pbxx3c6rqa31/WXrOtsfD07HT/ZcTXUX+7VH/9Osdtuu41+8pOfyC6fv//7v0+/8zu/k7D+4o9lx6OP8kAzw8PDtGrVKtlSGJ8U8gAuejRQTsT4WkHGCRy35CUaKVRvy8kZXwMYP8942d691P7nQK/TZfbnEr8dJ4G8jj8MaXzNYvwoovb1vF/7Phm/Ru5Saj+O/fnOFf6Zmt4H/PPkpJDPsxcvXpRfDpw+fVr+3BKdcxnv79FHH1VLFtN7x+l9z+zvJ32+T8b++5vovZ/ouBpvb99fove+U/3ZOdWzCepv9uuPz3P8xUd8nIn9dSSS7PMLP4f41wUA08e/S/Gfr5wk+v1dxCvjJ2Yqj58QZ57mM47fFHxi5z8CThOzb2eK4YmZyu3b8uQUFz/puPjtneKcJr0dM20fPzH7st5eT05xThMzbR8/MVO5fVuenOLiJx0Xv71TnNOkt2Om7eMnZl/W2+vJKc5pYqbt4ydmKrdvy5NTXPyk4+K3d4qzTxMTE3IaGxujyclJOc9M2+spGTddpOwJEXfv5GSKJ75+L1mypNdzN03TPONlvU+e7PQ6LdF2ep29zHRrCft6Zt8n49cYf5z4mLkU/zPlnzcPDsQ/f34f8PuB8XJ8bPzE7O87p/cOM5XzZN82UZx9ssfZt+fJKc5p0sc1bR8/sfgyvZ19e1OcaWKm7U1xpnKe7NsmirNP9jj79jw5xTlN+rim7eMnFl+mt7Nvb4ozTcy0vX3izw779++fEmeaTPszTcniACC9TL9n8VOiOP4DPUU67pxv193dreYSS/dxF0oc6s/MbRzqz8xtHOovHD5w4ICctKampvD73ve+8K5du+S8iT1+Nonzu3EKhUIqAqaLf3bx7wP+OfPPO/5nLj5Iu/pZz9f7Gb+/Zm7jUH9mbuOS1d9cnScBFjrT3y0nieJwjSEAwDTxdWfcpZRb6Of7ujNxHjdO3NoGqeOfK/98+efMP+/pXE8KAACQTZAYAgDMEAYmWbieeuopJIQAAJBTkBgCAKTIlCBCdnvssceQEAIAQE5BYggAkASPmudm5Dx7ggjZjbsKu0kIebAOjKoIAAALARJDAIA0QwsTAAAAZBskhgAAAAAAADkOiSEAAAAAAECOQ2IIAAAAABmnb2CAvtbaSm9dvkxjY2OqFABmi4dvcqjmZw3fST8/P18twXSh/lKD+ksN6m9meHRSDEqSnQ4ePLhgBhDC729qUH+pSVZ/ic6Tvf399P1Tp+jTfj9948c/pk/ddhttKyykpUuXqgiDrnryVxIda68m3Mk1/fz+etRthkrb362wQTrunG/X3d2t5hJL93EXShzqz8xtHOrPzG0c6s8sWdyBAwfUHGQb/tll+/tPw++vmds41J+Z27hk9ed0nuy5fDn8/z33XPiqWh4YHw//UWtruPP118MjIyOq1CBUF/b56sIhtZhtMu65x9VnsudX5yNubJoy+eqsrXyRskC4VS3rdZI+XmsgTPZjcTn5whzqeh9iNtnzWUjS9XcLXUkBAOZB/6WLdPxbj9M7Fy6gixQAgNKjWgo/d9ddtEKV5efl0b7776dvvPoqdfX20ujoqFqzsLRneWtcdXuYG5xIJGckkjMS6Zdcbq+2XlV7pLyBSrnAF6CSpkqq75Kro0obqLWkho60WYttR2qI6o4R78b1PoRkzwemQmIIADDHLl+8SL/4h+P04VuL6LnvPEHdb7w+vQ863F3KX0+Gv4MJzWQbAIC59OQLL8juozop1NaJ5PC377yT/kokjf0ieYzg86HHQx6evDXUESn2W2Vy8kcSh3q/h6pUwiFSDqqyrYvH58z6Kr2P6HYx59K487HfX0VV4hhWfJc8nn3bRPR+nI6biKvj2uvKUyVevcXpePWVoj47asgryvyqklqm+bwSK6Z9tSVUozNAm9J9dRQ8JOpDPOdDjQGqdUzmnPcB04fEEABgDnFSeOIfW8l363ZaNDZCH962hX7xZCP1vH5uSnIY8+EjjVLab4KkNP4DBy/rDxOS2vYP1QeW+CkmFgBy0kMiKXz8mWdocGJClVhOi3Nn8/PP072rVtHQ0JAqJaoSyWBJq61lSJUXVbdbZTy1RhOH6toANTarJKKtmRoDtbIlykgkRZ3leh9iO05U1CpHHUEqPqbiy/iCx2lsq83Sce11FaoLUpnO7ByOV30s2tImW9lm8ryS4dZBKpuaZBZVU21JDVVWNonnrFoHnTjtA6YNiSEAwBy5fPFtkRQeF0lhEYWHrtLklUHyDPTT3WtW0sv1f0Ld516LSQ5nq1vRrO3XZRcfdO8BACfrReL3yVtvpcNPP02XVHLISSEni/euWEHr16+PGdAmKM4h+0xZg711rKxRBJ6xkpjScgo0Nssvr9qaGylQniDlsO/bWxxJOhPyVdBuPpVxvH1ernRplo5rr6ui3RXkU/Xg+ngzeV4uRFoH1bLG5UQV0WMm4LQPmB4khgAAc+Rnzd+n9990I4WvDNDk5Us0cfECTVx4iyYH++m2ZYuoo+mvY7pIxbTM2T/k2LpLOeMuUipeTPZvUh33q7pU8XqnbkymrkXO0MUHAKZn8eLFdNOmTfTgjh10UCSHz/f10RPPPkv3rVxJW7Zsoa1bt1JBQYGKdub3NlFFyPYllCoXKQSVBxqpua2NmhsDlCgvhDlSVE3HKproSItanol07AOQGAIAzJW7yj9Jz778zzR66W0rKTzfS6MD/XT+yrv084klVOi/O6aLlJ1Tdykn9f4yIh0vpgaHDz9V3k6qVTHhUAU1VYqkMUF3oSldi5JBFx8AmCa+JcUthYVUJZLDH730Eu1et04mhDytXr2a8vLyVCRRSUcTtagTVFdLU/RLM91qJsSUC7J1qayMgnX7EndRdNLRSSE1G7/vTFYizu36ezr5vAPlyV+/7bXOpqLqWqIaN196OkvHPnIdEkMAgDmyavUaumNPOf3kxC9p9EIfjQ0O0IV3r1L7+GK6/v49U7pI2Tl2l3LQRO7ig9RIZbrFkFsixYeA82nuLoQuPgAwXZwcFonk8Eu7dpHX6zUmhayBrx/0Wuewys6SyPmKr0/jng3x5VLRbqrw+ahCZ47TdIyvz3PadwZrCHFCbD1vb00JtTp9Y6jxdX4B629EOq4B98u/MfxziQ58E1UqfpYBNe8sHfsAZ0gMAQDmCHeRKtx6A+188PP07LlfU9/gFeoQSeEWkRROp4tUWqnWP92yGA43pP9DDrr4AMAMcHK4YcMGeW5cu3btlKRQKm2InL/aGxoi11CXNkTPa/Zyqe0I1VC0RdFJzDbiPKaX7QPbxO87Mm+Lj5lPQMfExE5z24TH5WX1vPlcr9PCRMfT9cg9RBLFxXBYF3/sKTH8s0xyjGnvgyV6rhDDwzc5VPOzZnBw0PFbcEgO9Zca1F9qUH8zc/ToUXrkkUfUUiweYIYHmnnx7/6GNn7gQ3TttdfKxDD+23C+1u+Y+mPGQ6oXh9rl6Hk8DLu3qYJCCf7Q8VDlnbWxXUj1/ipj9uuRXU5NcXLffA0iD3BnX5bdT6MfKiLiYmP2I695LKNGTkSd9p0hDh48SHv37lVL2Q2/v6lB/aUmWf0lOk/OprYqDzWX6/OeOjfJNXY+qlPn3PSa6fHm+nlCNknb3y2RdU+Rjjvn23V3d6u5xNJ93IUSh/ozcxuH+jNzG4f6M0sWd+DAATVnNjIyEj5//nz43/7t38KXLl0Kj4+PqzVRPl9dOKTmw60B/hJPTr5AIHadSagu7FPxPAVao/uL2TYujsS6jfHr447VGrBifXWxzyC6n0BYHG7qc+TXkGTfmYB/dtn+/tPw+2vmNg71Z+Y2Lln9JTtPAoA76fq7ha6kAADzwE0XqZiuLw7dpRxx15lIlxvrm3G9Tcy2cXHcBacvfn3csexdi+zS0U0IAAAA5gcSQwCArBV7S4roZN12AgAAAMAtJIYAAFmrlBoirXT2CdebAAAAwPQgMQQAAAAAAMhxSAwBAAAAAAByHBJDAAAAAACAHIfEEAAAAAAAIMchMQQAAAAAAMhxHr7JoZqfNYODg5Sfn6+WYLpQf6lB/aUG9TczR48epUceeUQtQTY5ePAg7d27Vy1lN/z+pgb1l5pk9YfzJEB6pO3vVtggHXfOt+vu7lZziaX7uAslDvVn5jYO9WfmNg71Z5Ys7sCBA2oOsg3/7LL9/afh99fMbRzqz8xtXLL6S3aefKu/P3y4pSXc+8474dHRUVUKAPHS9XcLXUkBAAAAIKP09vfT3508SV944AF6/MUX6bWeHhLJoVrroKue/P566lKL4EzXE+oL7JAYAgAAAEDG4KTwqVOn6PN33UXX5uVR9X330ZOdnXS2tzd5cgjpwUm2x0MeNfnrrfRRllW1yXmtrUqUTUkwu6jeH1vulISayqPHriJ9NC7Tz0NSXwT8IR8nEh+dYmLBFSSGAADzoP/SRTr+rcfpnQsXaGxsTJUCAOS2HpEUfl8khZ8TSeEKVZYvksN9999P33j1VepCcjgnqrxNVBEK8yVnYmqlks6QtcIXoEDwEEVyLpGcHQr6yKcWI7paqIlErPi/ZQb5WXuojny+OgqFG6hUlfGxS5oqo8dWqtvV84xsYy23VxepCHALiSEAwBy7fPEi/eIfjtOHby2i577zBHW/8fr0PuiguxQALFBPvvACfdrvjySF2jqRHP72nXfSX4mksV8kjxH2li1vDXVEiv221iN/JJngVqxog1cbVdnWxePzbD23hqn96O1izr9x52O/v4qqVAtWVZtqNbNtm5D9tcS0lEXnrecslmNio68h+pytbZzqIbkS2h7Jq0qpoUGnZ8VUXkHUpLK9tiM1VFIhCuJ0tTQRVeyj8pKOSGzqimlfbQnVHHFTmTATSAwBAOYQJ4Un/rGVfLdup0VjI/ThbVvoF082Us/r56Ykhwsy+UuQ1MZ/IHLqNsQl+sNW/ISuQwDZ7SGRFD7+zDM0ODGhSiynxbmz+fnn6d5Vq2hoaEiVcsuWSExabS1Gqryoul21dompNZpMVNcGqLFZJRZtzdQYqCXHhqWOGuos1/sQ2x1ycU7uCFLxMRVfVkmk511sa38toboglalssjbQSPopW8+5nJq9nVSrX1+ogpoq1f4jz9lqaXOqh2TKxTHL+LxqyGi91bVUUnNEJqeHgnW0b7daEdFFMi/cXUSl5QHqaGpJXm9ulTZQK5W5S7Rh2pAYAgDMkcsX3xZJ4XGRFBZReOgqTV4ZJM9AP929ZiW9XP8n1H3utZjksL29mnKpI8yUrkMO3YYYug4BLEzrReL3yVtvpcNPP02XVHLISSEni/euWEHr16+PuQVGUPz+74v0NbSxt6iVNYrAM1ZyUlpOgcZm+eVTW3MjBcpNGyv2fXuLp3aXNPFVkMiHrHj7vFyZmP21FO2uIJ96npxc6WS2rTlIdSIoSCpx44lbSjs6SXb2jK8Pp3pIorRBnWPLm61tYzKxUitx5ES21vB3SnYjVa+d67tjZt1JnZTuq6OgmyQdpg2JIQDAHPlZ8/fp/TfdSOErAzR5+RJNXLxAExfeosnBfrpt2SLqaPrrmC5SMS1r9j/utu5STuzdmXjSf9NN3Yqcula56hJlf17G7kyx29RX8geYGvKKsuSte+g2BJBrFi9eTDdt2kQP7thBB0Vy+HxfHz3x7LN038qVtGXLFtq6dSsVFBSoaGd++zVytpZEndQ0t7VRc2OAEuWFGaN0H9UFOUkUzzmoEi7bF2LWZLsWz8a5HlwqbRDbtkaSaY2TMx+Z64+7kerzvMdTJlLYdHYnFYqq6VhFEx1pUcuQNkgMAQDmyF3ln6RnX/5nGr30tpUUnu+l0YF+On/lXfr5xBIq9N8d00XKzqm7lCPdnYnjZZcmq3umqVuRY9cqF12iqpJ2Z4rdpvpYtIXPVeseug0B5JylS5fSLYWFVCWSwx+99BLtXrdOJoQ8rV69mvLy8lQkUYmtNUomJNZstOVOiCkXZItTWRkF6/YZk6mkdOucEL/vVJSI86b+HkzuN1Cunl8R7a4IUnNVMwUrdssWOntsQgnqIRG//aTbdYaCvmLyqkVJJGftxmSUu5F2UED/vVJ/A9LanVQoqq4lqkn+JSlMj4dvcqjmZ83g4GBMsz9MD+ovNai/1KD+Zubo0aP0yCOPqCXL+Pi4HGjmF09+k+5avVy2FHJS2D6+mLbcv0d+G37DDTfQ2rVrZTy3uh1T3Unt87KVjvO0BF1NY+JlK+AhKg61UzWJbe0tjpyktW+nI55mKhd/5EUgNYuEjscZiOzDfry4Y3NrYewf5gC1iv0ccnq+iZ57/L7jj3+MqDJ+20T7m6GDBw/S3r171VJ2w+9valB/qUlWf6bzpB13redeFMPDw7Rq1SrZUmhPCqW2KquLpOALBIiCxfJ8EBLnMlUcU26dJ7gHhDxxOF9fKDidd8XG5K2xznzx+3Zz3nTEcZHzs3UujSRech1/EafKYmIFeS6vpkr7cxb4VhKmetBx8fEa9xBRL1HwUR3//RBBsX9blKSv1fobxC2HUdHXF/t3RP0NiZTZ4uKPzT/7Q8Xydcsy47FzQ9r+bolMfop03Dnfrru7W80llu7jLpQ41J+Z2zjUn5nbONSfWbK4AwcOqLlYIyMj4XO/+tdw0x98LvzL//JQuOFLXwwfP348fPLkyfDFixfDInlUkeGwz1cXDhnmw6G62GWD2PWt4QD5wnWiwKceJdt+WgMUDrRyXEBEWyL7sB8v7tixx4mKKU+wfYwE+w7V+cKBOsO2ifY3Q/yzy/b3n4bfXzO3cag/M7dxyerP6Tw561oDYZFIpfW8ATCf0vV3C11JAQDmEHeR2nzTNvr3X/pvdHr9Vir6+Kccu0jZOXaXcoO7h+ruRA7dimbatcp1dyY7Wzcst9BtCADSRQ46Exk0hVuzotdDR6fp3NphOub6eADuITEEAJhjnBxev+1m+kjgD8jr9SZNClkDXw/otT5AVHaWuLjGUF/4L6YyolbVtaa2JFoes5+i3VTh88nhxaejIcQJpToOT/4kI8UVVcuh13k0vfjBZ2S3KPm87ffs0kpFHQTUPADAzPGIm5Hb8vG5RV8LFzMl7mY6c3N9PAD3kBgCAMwDTg43bNggk0K+ptCUFMbcrkKODGd9gGhvaEh+K4uYEeui16lEhiCP30/bEarRw4srkXU8yIBpnskBCKL7DKt1U2Jsy/o5xA8+E92P9Xxj9sG4DuLL4p8PAAAAzAgSQwCArOXcJaljml2SYrtWAQAAQK5BYggAkLWcuySF+6aX5MV2rQIAAIBcg8QQAAAAAAAgxyExBAAAAAAAyHFIDAEAAAAAAHKch29yqOZnzeDgIOXn56slmC7UX2pQf6lB/c3M0aNH6ZFHHlFLkE0OHjxIe/fuVUvZDb+/qUH9pSZZ/eE8CZAeafu7FTZIx53z7bq7u9VcYuk+7kKJQ/2ZuY1D/Zm5jUP9mSWLO3DggJqDbMM/u2x//2n4/TVzG4f6M3Mbl6z+cJ4ESI90/d1CV1IAAAAAAIAch8QQAAAAADJO38AAfa21ld66fJnGxsZUKQDMFiSGAAAAAJBRevv76e9OnqQvPPAAPf7ii/RaTw+Njo6qtQ666snvr6cutQjzqYvq/R7yVLWp5ak8Hj/V44eVUZAYAgCk2d/+7d+qOQAAmC5OCp86dYo+f9dddG1eHlXfdx892dlJZ3t7kyeHC8GUBJeTLHsSpZKuuCTY7xFlkcmQdLVV2daLSSRtUxJpY3I99XjJjtVVX0k1Ja0UbigVS21UFYmtEkuWcGsJ1VTGHwvmExJDAIAkeLQvnpLhhPADH/iAHGkvGXSRymwf+chHXCX4hw8fdvXeAAB3ekRS+H2RFH5OJIUrVFm+SA733X8/fePVV6krF5LDot1UQU3UojOmrhaxVEG7i+zLAfHPFsN8dRQKh3lgSQqHxB680SSsq95PnjKiVr1eTK3UTB1qfUKm4yU4FieCR2qI6vZxUkgiqZQHtmJbicp0glm6j+qoho44NyrCHENiCACQIntCyMNF//znP1drzGbURSpF6F41PQ8//LD8efLPFS3AAHPnyRdeoE/7/ZGkUFsnksPfvvNO+iuRNPaLc2gEt3Dp1ihvTSTRkYlQpJUq2qLFLV/R3o3ckuXcnZHPm/VVeh/R7Zz27fdXURW3rMlY1cpm206yP1/HYxfR7gqiJp2FhTqJKnaLUktXS5NY3kflJR3RmHhF26lEzTLepC7UQFaqZiltaCCfmk8k6fHijkVtzdToiyaynR0BKtcHLi2nQEcnheQCv04fBc84vAaYc0gMAQBmyJQQfupTn1JrzabVRcrt9TJu4wyiH1Csb3t52W//pGLbt/6QEz/FxC8Qn/jEJ+TPk3+uSBAB5s5DIil8/JlnaHBiQpVYTl+8SM3PP0/3rlpFQ0NDqpSoSiSDJbo1KlQXSXSKqtsjLWOyy6JqlqquDVBjs8rUOIEJ1FK1zrjiddRQZ7neh9jukHUudNo3dQSp+JiKLask0vNqO1bl7aRavS23tDl0pSzaXkIdnVb61NbcSCXbI2mhTPIqRNZVWh6gjqYW4/ZWclZMXrXY1FFCkV3YidfotZ/Tbcm1xcXx4o7VdSZIPlsiSxSkaO7npWJfdNn+OmH+ITEEAJgmThC4q+F0EkKWiV2k2vmDlOwSpL5J9gWopKnS+C12dbv+MKO3sZbbHT9VZT/+uSJBBJg760Xi98lbb6XDTz9Nl1RyyEkhJ4v3rlhB69evj7lpflCci1SPxVj2lrmyRhF4xkpouMWqsVl+EcYJVyDSlGVg37e3ONq65rRv3UrGsfZ5XqcEqZHK9LachEVaz+JEnmcXnQnaWtzs3Upl65ute6c9yTtUTKH26mhyZkvcYti7hOrzu1olOR0v0bHiNMiupirW46Uae5LK9aPrD+adh29yqOZnzeDgYMwvMUwP6i81C73++Bqn6di/f7+asyTbnhOVpUuXqqXpbx8vG7d/4YUX5OP27dvppz/9Ka1bt052NeRWJaftly1bRo888ohasjza0kKB//AfZEthvOf7+ugfX3yRqkXisWHDBlnGLXQ16qtbX12I2ne3kD/ybW6AWlUyZ4/buG0jnT933loQf97rQu3y23Bu9Ttm+sPNH3D4i221TsbVdpK3udwaNCBuvWQqW0D4msGRkRG1FMXvnaeeeooee+wxunTpEt1zzz105swZue6DH/ygfExkPt679t/f+Ti+3WxvH78+HfD3NzXJ6o+/bIk/TzJ+33IvCv7CjLuPypZCkRRu2bKFtm7dSqtXr6Y8dR6NObfZzk2VHj9VqPNf/DmrrcpDzeV8sVszlesvxQymu+9KHW8/XtyxHc/FBm1VfjpTLpKq5u3ULgdx4cP5yatP+Ir8+yCeTGTffEzZMhl9bdxltlg/Z5spzyfu+Todj5paHI/F21TSMfOXhnH7lwPi6L83MGP8d4u/wEzVIv6FjZ+YqTx+Qpx5Qpx5Qpx5SjWOExD7xOLL7JPejpm2j5+YfVlvryenOKeJmbaPn5ip3L4tT05x8ZOOi9/eKc4+8QcQnpYsWUKLFi2KfCAxba8nk+l2kao+Fm2Z4z+w9i5ToboglakLV+xxfa/1Rb/5tXdxmo7SBmqlstjrYnJQ/M+Uf94rxIdT/vnz+4DfD4yX42PjJ2Z/3zm9d5ipnCf7toni7JM9zr49T05xTpM+rmn7+InFl+nt7Nub4kwTM22vJ27V5STDFGeaEGee5jrOCX+ZcUthIVXt2EE/eukl2r1unUwI45NCVmJrMeNr4SIpjO0at5hyoXRfHQXLyihYt88xKUwowb6TKelwP9hKabk4h5eJ8360uZBamjoooLvOyvO8oXtnUTW1c95rGwFUvGSqiRkghnOyqiTP3cXxDMeS3UONXVy7qL6yJvZ6Se52Wmxsy4QZMP2exU+J4viHPAW3IrrhNq67u1vNJZbu4y6UONSfmdu4hVZ/Bw4ckJOTdB8X77+pdd7U1BR+3/veF961a5ecNzH9jMbGxsK/euON8P62tvDF8XFZFnz77XCN2Mfx48fDJ0+eDF+6dEmWS6G6sEj4wiLhk+zzch0Fwq16Xq+T5cQ9QaxJlcdsa+d0DF0et14ylS0g/LOLfx/wz5l/3vE/8/379yf8fdTm6/2cK7+/+nc03cfF+c/MbVyy+kv2uzMyMhI+f/58+N/+7d/kuXFcnTdjtAYi5ztfIBA5N4n8xVhuCYXrfL5wXZKTWMw2tvOe074j8fZzZPz5kpfVtnKyr5uiNRzQ53lmPPdyjPVa4teF6nziGNHXaS3bji0yvin7S/TcJet4tDHRsaLPSbL/jGIqnX8OFBZPA1KUrvMfrjEEAJgmvu7sJz/5ybSvO1u8eDHdtGkTPbhjBx18+mnZffSJZ5+l+1aujHSRKigoUNEz4/c2UUVIfbMbf63IdBRV07GKJjrSopZz1EwGGAKA9OCWQ+5az+fGtWvXxrQURpQ2RFqz2hsaqF11USxtUOfBuHKp7QjV2G//4CBmG24ZS7LvSLwtNmae8bLaVk72dVOUUoO9q2v8viSOsbqIxq+zBsmJdh+NGTSHp4bSqftL9Nwl63jhvkTHKrVaKHXTqP1nZO9eKn8ODteIwrxAYggAMEMzGZhkOl2kJNvABPYuSLL7UqA8+oFBx6XQxSleUXWt+MseP0JdbuBrCZEQAixMctCZWp3Y2G++bp+cb2MByRVVH6O6YJm8ib4TT1mQ6o7FJ54wn5AYAgCkyJQgJsLJYZFIDr+0axd5vV7npLCommoD1gh2fEuIhhBfF2N9aPHWlFCrvljfFtdhGymusrMkaYuhHMxGbhN77YmllBpaA2o+t/AAM0gIARYmbvGLjnXCLWC2VrTINHWgFpiOImsk6wSDyqCOMw8SQwCAJHjUPNPIefHsCWIyrrpICbrLkux+w916Ih9aYkfSs3dt0pOxi1Oc+P1NieMuQPFlxu5FCwt3FXaTEPJImG7eGwAAAJkOiSEAQJqhhQkAAACyDRJDAAAAAACAHIfEEAAAALKa2+7eAADgzMP3mFHzAJAFeHAT5uY6Npg/3/zmN/FBNUsdPHiQfu/3fk8tAcBswXkSID3S9ncrbDDXNzjV0n3chRKH+jNzG7fQ6k/fyNlJuo+L959ZsrhkN26GzJWuGwXbzVccfn/N3Mah/szcxiWrP5wnAdIjXX+30JUUAAAAAAAgxyExBAAAgKzG3ah4AgCAmUNiCJBlMMgCAAAAAKQbEkMAAAAAyDh9AwP0tdZWeuvyZRobG1OlADBbPHyhoZqPGBwcpPz8fLVk1tfXR83NzbR67XpavmwZLc7zqDWQ6cYnwjQ0MkxXxc/5Yx/bQxs3blRrYrl5H7BMj+vp6aHNmzerJWcL5fWmOw71Z5Ysjru1oWU3O/HPjkf9zeb3n5Yrv7+6G2m6f244/5m5jUtWf4nOk739/fT9U6fo034/fePHP6ZP3XYbbSsspKVLl6oIg6568lcSHWuvpiJVNBv8/nrjMZzKs1sX1fu9VFPSSuGGUlU2lcfjp7pQO1UvrBefNdL1d2tGLYbf/vZ36Of/9CKtu+FWGll3C71d4KXuVdvFdCumjJ+2y5/X6LoiKth8M7X//J/kzxMAAAAgE3BS+JRICj9/1110bV4eVd93Hz3Z2Ulne3tpdHRUReWwtiqRiHmiU1WbLObEtEvOKZwox5Rxkifi4+L89n2JBK/etrKrvjIuKWyjKnu8Ona4tYRqKuOOD1ln2onh43/xBBWsW0+X8m+mSyuup+HFq2jCkyfWoMUwO3jkz4t/bvzzeyd/GxWsXU9/8cQTaj1kOv5WSH87Dtmr/9JFOv6tx+mdCxfQRQoAQOlRLYWfE0nhClWWL5LDffffT9949VXqyvHksKveT54yotZwmG85J6dWahbpmgtdLdREAfGviVrsGZyvjkJ6f6EKavJWqf210ZEaorp9tpbCtmY+uDp2iOqCh6xEsnQf1VENHXH1RCBTTSsx/Pa3v03rN15HF665mcYWLVOlkM3GFi2nC6u20foNm+g730HLIcBcuHzxIv3iH47Th28toue+8wR1v/H69D7oTPkW2IHtW2W3XO0XAGCWPPnCC7L7qE4KtXUiOfztO++kvxJJY79IHiP4fKhbr7w11BEpFgmULre1gnGLmWrkErj1K7aFzM5pH0SddIRb3lyW83m1vorLVMJlf872OL1e4udmX7a0NIlELdRA9k6dpQ2xy066eOOKfVRe0kFNMZmhTdF2KlGznAQ2+ipot717aGkDRXuUhqizo4S2y/VFtLvCR8EzDvuFrODhmxyq+YTOnz9PrwRPy5ZCJIULz9LJYVo7eI7+3R0ltGHDBlW6MLi9FiJbHD58WD7u379fPs62hVZ/c+Xo0aPGa2c4KTzxj63kE0lh+MoAjV56m378i5P03t/5Am2+aVvM9TP8YcJ4vYqr62j4Q8UhKp7mNR+Ox3SBP+hYH8oC1BpuoENiWXyCoXb9BGzPu0V8eKrRn+BsfPb4eaKv1VgIcuX3d7bOizj/pSZZ/ZnOk32XL9O3Xn6Z/vO998qWQu20OHc+8eyztHvdOioqKqIbbrhBlnO3Rm7BksmK07mRvyRrLre6QzrNJ2OL9YtkrkKdWzl59DZVUEgcs9Kx3EMl+jkKnPCVi3OkXLQ955BIHpvLVZzDc+PksVZvGyd6Drbh1kBZH9yNVB6IqkNi34eKVXnceZ+Pq9aJDaiSjhnOyeq6ww7rXB95LtOpT0irdP3dcj34zBNPPEH5hVb30Xh/8T+n1w1q3aal9MGPv04F6zbQshUrVSnMt3VDb9JAz2v00EMPyWW3fxAzPW6hDR6gu5E6XbCf7uNi8AWzZHH8c4r/GV2++LZICltEUridwkNXabL/HZp4+zyNXuijZ8/9mv79l/4bXb/t5sSDKzA3iSHHeDsdP0A4SSUxjH9efn8VlVCQivmDCBeYnreb1zLH9B/YbH7/aRh8xsztcXH+M3MbN5PBZ8bHx+k1sR1fU/j/fvSjsqWQk8LHn3mG7lu5krZs2SKTwrVr18r4mHOW/Xwiz4HRFsRogsRfmjXLxEzMRBMxE4d9VMYfU51rD7kpF6YmcCrBsiVWbVV+OrNv6hd7ic7RU9bF10fkXBv7xWHM84nUE2/ulBhqcV9AxhwD5lK6/m657kq6clUBXV2yWi3F2v4ba+i2nWtox3vXWtNONel59XjrnWtk7E235dPpl1+ggUsX1B4gEwwtXUPX5BeoJQBIt581f5/ef9ONsqVw8vIlmrh4gSYuvEWTg/1027JF1NH01zFdpPiPfKRTDv/BFX+8Zdcj+wcVB1UyppHKOP66m6PbxnR74j/qujzavapFdnmKLXPuUpVIMe2rLaEaXHQCAC4tXryYbtq0iR7csYMOPv00Pd/XJ1sKdVK4detWKihI/lnF722iipC+bq6OfKqcqJTKA43U3NZGzY0BKk/wzZnzPlJkv6ZPTuoLPL5OL8jXC4rnFozrwqmUdMRdH+gSdyPt6KghrzyHl4m/DrbupPr58Gvs6KSQVeoC12UHdeoNQp3UUbIdSWEWc50YLl+2lMbylqulWBVf3EjfrttMx/6skL51tJAe/3ohNf5pIf2fP9lEj31tE9U9uon+9NAm+l9f2URfPbCJdpVeQxe636DhoatqD5AJRhYtl7ceAYDZcVf5J+nZl/9Zdh+VSeH5Xhod6KfzV96ln08soUL/3TQ0NKSiY3Gix12R3H5AaeAY9cc+cP6jVKs/gPDAAmrkuHq/HMEg8uFEfmsuPjh0lquy1gA1HrJii6rbI3Fy9Dm3yV5pA7VSme2aHgCAxLjXxC2FhVQlksMfvfSS7D7KCSFPq1evpjxbF1N7oiSTH2tWJDvRxCqmXCjdV0fBsjIK1u1L3KMiwT40WR4on7Ifp3JWIs6z5lMoX6cXpOaqZgpW7DYmWOKpU01kcBhLW9XUaxFjdVFLUwcFbOd7Pr93NLVEv3xkRdXU3kpUpq5tLNpeMiWmq74q5svF5kYfFXutpa4zQfLpBchKrhPDxXmL1OijU3nEG2zw6jidfn2AfvlaP/3rrwep751heuX1fjr12mV669IIvXLuMp3sukyjY5M0MTautoR0Gx64SH2vvpRw4hiTSfHz5Z8zAMyOVavX0B17yuknJ34pu4+ODQ7QhXevUvv4Yrr+/j20fv16x+4dQZHk2QeGm46gbjnkiVsS1TfCTWTYp/043uJoAmpvsSxrFDs9E/uBIgH5IUwlmAAAbnByWCSSwy/t2kVer9eYFLIG/qLKa52bKjtLIues2hLdOhZbLhXtpgqfjypMTXI2jvuItLx5rOsIdV9Up/I4/MVdsMyKk5Otd0jR7goKilNsrUP3Tf6SLlQXjJ7TxVRG5gQ0Qo5GGne+Ly2ngKn1sbRB7d9P9d6pMUXbOTHVx+YvF3V3Vyv5LLFGooEsNc0swDyy3aRIDCfENCySvqvD4zQ0MkEjY3wT9Ul6V0wjopwfrw6N0uDQEI1lyDDDz/z9Mfrih7fTX379y6ok+y27ZjWdP/Mv1H3yZ8bp/K9O0JKVTl0wcMsRgNnEXaQKt95AOx/8vLymsG/wCnWIpHCLSAqn00Vq2py6LU1DSl2qiqrpWEUTHWlRywBpxtepOV13DdmLk0MeEI/PjXxNYXxSKIlERp/b2hsaqF1d31baoM93seVS2xGqIXNXTTunfbSrMjnZ9utYbj8245Y5h1hrXeJzdEwPDp5UAmo8DpfpR1VsKaWGsJXUxa+z9s/rSq0WSnvzpq2+eYrkvrJOZ/4FJmSGtDQPTU5M0MQk0di4SALHwzQ6Nk6jE2GZHI6MjsuykdFJUT5KwyPjNDGeGffsuve3Kukbz56h//Rfv6JKsp8nbzFtvsOvlqba/J4PUd7iJWoJAOYaf9Dh0Ud5oJnT67dS0cc/JT/0OH0brjl2l3LBqdtSxXTuOeWiS1UiRdW14tNF8msjAQBmW1tzIwVqdTIUe611dHJ7LfXCVlR9jOqCZZEb2TvxlAWp7lh88gnZJi2J4YTICicmwzI55EnkhzQ+wY9h+Tgm523l/F8CwRd/FmnJ40eejjz8GXldol6Ob+XT5XriWMbb8TLvk+l9cLn9OPZ1eoo/hv35mNZnivXbbqeV665TS1Er126k9TcVqyUAmC+cHPLoox8J/EHCLlJ2Tt2l3HDqtlR9LLY80d/9hN2yFDl6n+xKZbrepVS8hoCaBwCYP9wSGO3lyS1ntta3yKS7SOa6IqpuF/Xh0C1WQ30tDOlpMRwft5LCsJUYcpI4Jn6prOSQJ/u8Fe/G88f/RrbofWjPp+ns6RP05OH/LpdvuX2nXMeJnE7muIzX6fVf/uxH5br3fth6I59/85x8fOWffiofdbnGsbwNH4v3UfHwH8tjcHdTxo+8zOW8/ivffVqWZyTxwe36O+9RC1GyTKwDgPnnpotUTPceh+5Sjuxdh5y6LcWV89/9mP3a9pGwW5YS3ZfVDWpKDL+G+DJjFycAAACYa2nqSjouWwWtaUJ2KeXcb5STQZEpjvKyeBwXmeOYmCZcJoacpLHCm6yPDPHJHDMlenqe192xy0qQfvGs9f117+tWvwBdrv3oe4/Lx/d88KPyceOWbfJRx+tHvZ8N19+Y0V1Q8zdupTVboh+11mz1Uv511s1gAWChQBcoAMb38NL3MgQAgJnxDAwMTLnBvclzzz1H3atuVUuxrlm0mj5w2xp69Y3LNDo8TIsWeWh1wUrqeXtYJIljtHb1SjlK6cTYGG3dvIZOnzlPT//9/6JdD3yCthbtUHuJ4i6ej/3RF2RiyMkXt9Y1PfZV2VrH1wVyN1BuQXz4a4/LlkD7OtP2Op5b+nTr4r7HvhcTx7hFMJ6O1S2KdvZjZqKRK5eps+VbYi5MO8o+R8vzrZvBJnL9lV/R3XffrZYWBrc34gUz1N/MHD16FINhZCl9o+CFIFd+fw8fPiwf9+/fLx/TBee/1CSrP5wnAdIjXX+3PGHu9xPH9It8/Phxx8Rw2eQqmRj+21uXaXh4ROyV73u4jC4NjtH4xISYX0L9V7m7aZg2ri+gV3/VSz9u/vqsJYbx8fZle7kpMeR9lrz/LrnshK8t5FidNGayN088K7uPbjF0LTXhxHDPnj1y3u0fxEyP6+npoc2bN6slZwvl9aY7DvVnliyOT9L4wJOd9B/YbH7/abny+6tbC9P9c8P5z8xtXLL6w3kSID3S9XcrLV1Jx8fGaMmSRbTp2lViKqBr1+bTihXLaeO1+SIRzKeV16wQ8wViWk2evKUUnpxUW6ZOJ4O6iyfT87q7qH7kpJDFdyNl93/mC/Kx7Tt/Lh8ZtxLqAWb4kZeZjt28LfNv4rmp5AO06fZdagkAAAAAAGCqtLQYvtM7SatW5tHExARNTkxagw+I3I8fJ8WMtewh8b+MH7o6Qh0//vO0tBjq1j3uImrHg8PwdYCa3sbeyhd/HFN3Ub1OtxJq2dBaOBNoMcz+15vuONSfWbI4PmdC9uIu9dn8/tPQYmjm9rg4/5m5jUOLIcDcSFeLYVoSQ06oTr/8QqRFzQ1O2m5/3wdjkjeYf0gMM//16g9ATn9M031cfDAySxbH58x169apJcgmly5dQmLoIFPjkBgmNl9xSAwB5ka6EsO0dCUtWLdBJnncAuh24njeDgAAAAAAAOZXWhLDZStWypY/7hbqduJ43g4AAAAAAADmV1oSQwAAAACAdOobGKCvtbbSW5cv09jYmCoFgNmCxBAAAAAAMkpvfz/93cmT9IUHHqDHX3yRXuvpodHRUbV29vj99dSl5o266pPHzERbFXk8Hjmlfd9zoovq/eL5V0XvEjAdHo+f6rPzhS8oSAwBALLI2lt85PP56Ja1qgCm6OzspGAwSJNpvDUSAMwdTgqfOnWKPn/XXXRtXh5V33cfPSl+r8/29s5Jcjj32qiqLEh1obA4v9epsjSwJZtyEknblKTWmOiqJM9W7rfvx5DEddVXUk1JK4UbSnVBzDb+yAbitUbKq8SSJdxaQjWVs5Bww7R4BgYGpoxKavLcc8+pOVjoeDS+hcTt6GnZ4vDhw/Jx//798nG2LbT6myt8zjSNSsqJ3Y7r1AIbPEcdr/SqheT09n2vdtDZd1QhxDh58iSdEh8qCwoK6M4776SbbrpJrXFHj0q6EOTK7+9snRdx/ktNsvo7evTolFFJe2xJ4QpVxi5NTNDBp5+mqh07qKiwkJYuXarWpBcnScfaq6lILU/BCU8lJY6ZLt6nt5Nqww10KNnxXeqq95O3poRaxT5VqibyxCoqCxZTyL5/0+uRZZ1UQkEqPtZO1WJFTL3Ynq+1b072DlFxyIq1iqqoihrIyhOj67cf8VBzeViWy+fYWauSSU5GvdRZa62D6dGjkqbK9e0qMKRwbrD/nN3+Qcz0ONyuwsxtHIZrN0sWl/B2FWtvIZ+V3VHHNLM7JIbJ6cRQ27BhA73vfe+Tj27gdhXOci0O9WfmNm4mt6t4tKWFAv/hP8iWwnjP9/XRP774IlV/4AOR3+dIwhKTrHCScYS2t4t5WV5DHTLaR3U6eXEoj+yPW9tkK54oJ3us4KuTyZU4iEi+dGl0H9zaFk1wDElTHG5Ba1TzRNsoFH5NJmBWche3f4fnEr/rer+fs70px5yS+MokMDYx5ONW0jGq7fTSoeIQtYudxG7Hr6mZynViyHV1KC7hjME/D3kQ6vRWRbeLO7Y+Lh8Ppkcnhqn+/qIrKQDAfONE0ecj3x130B38KOcLaXlktSoTU0xrI9Pbxm2nt7mj0NrL8sI7IuudtmH2Y/Gkt89mFy5coLa2NtmKe+XKFVUKAJnoIZHQPP7MMzQ4MaFKLKcvXqTm55+ne1etoqGhIVVKVNLRSSHx2NXSRCUBombZNzFEnVRMXjFXJZPFMHE7SDhUQU2qu6JTucQJSxlRa9hKrKpEIlbSqmPrRIpmKaput8p44q6QR6yOkdW1AWq0nohImpqpMVDrmBSyBt4nJ3hiPz6fSDgV0/6dnku8po4S2m46ZkcNeSNdOcVkTzKlLhJVSRW7i6i0PEAdTS3RetH4Nfms+mVdZ4Lkq9jtkBQKXS3URBUkdhmraHvk52ctllBHp16C+YDEEAAgY7xNoY4OerVPzOZvo+v5OkKRxMlkkFsX9TpteSHdIVYOnjsh13XwSrGdVyRz75y1YvO3ealw+Vq6fls+cbfVE+JvrtM2nDzysSLrxPRK77A6WHbjD1Gvv/46tbS00MDAgCoFgEyzXiR+n7z1Vjr89NOy+yjjpJCTxXtXrKD169fHtHaUB4J0RmQuoc4SKt9XTEFOyLrOULBku0xUgtRIZfYkSCUiTuUycYrpJiliRdK2z9S9kRNIvY+yRhF4xkqiSssp0Ngsr59ra26kQLlpYxcM+292ei7xbIlbDJWARhLO+OTSnsTx6+hoohZ+UfaEMmHrYDxOZsUej7mI9xaTT9chzAskhgAAmeLqMMWnYWvXWU2EfZem9htdvvZa4o9H+dt2Wi18qjkxf6V1Zc47Z0/QucF82rZzB11HffQqX8uYZBum1y2E1kKNP8zwtYa7d++W1x4CQGZavHgx3bRpEz24Y4e8ppC7jz7x7LN038qVtGXLFtq6dWvM77DIJagz1EbNQZEIFe2miqBIyEKdVKKTsfhESCd8Ccpb64JU5mJ0TT8nPCG1fUyCVSoS1kZqbhPPqzFAM80LTfs/b61KqkQndNPELa8dkSSwTKTPHdTEO9L1xc/D1sqXWJJutJzA2xNY8XPrUAk9zI+0JYbvvr6P3n3tizQxflW+gQEAYG7YW/jkFLn4cAWtNF9GYNxmuPcVqwVRkQniAhj+lK9FKi0tldcNrlq1SpXCQsLX1+jrryH78cAytxQWyoFmfvTSS7R73TqZEPK0evVqyrNdf1i0u4Lo0CEKyq6MRcSLzc1ExSrbKBFJjurhGcOpnHmr26mVyiIjadqTLJk4WbMiWYp2j4wpF0r31VGwrIyCdfsiLY/TZtj/vS4TPnF4qvFGR/1kPPhMbLfReNyNtIMCuqsqT61x3UmLqqm9lajMNqKo7AIa3+VUtnZOTQqthNmal6/JlgjKLqn6BwfzIi2J4btn7qGlEx20JO8VGvmlly5fPEvj4+NqLQCkE1+oj4GgcsfQ1UH5uHL51Na74eGr8jF/2/VkSt/W3qJaCjteFf9fRzv4+sIk29A7Z61E8cQ5so6cvbhVgZPBMvHhzO3AMwCQGTg55NFHv7RrF3m9XmNSKBVtJ852+Jo4vdgYLI4kVHz9XrBMdYHkyW9dS+hUrpU2tFJJjVcmhw18fZ/XiqvsLIm0DNaWRLtX2sslbr30+SLPayZM+7c/l6nXB0bx9YkhbvlU2/NURuWxzzGe7EYa11VVdSc9H1s5at/qthX2LqeKlch2RJ+rmLguuV7FhnJZjpoaGYLUSkpLjBdGwlxJeVTS4bcaacmyEzQ5FBJ7K6K8t39K3VeL6Brvd2jt2rXyB59MV1cXVVZWUnt7uyqB+WL/Oc/XKGbpjsOocmZu41B/ZsninEYl1aOKRvDtKt5cGTNKaezIo8up8I6dxJcI2kVGJeXrDHduk91DtcFznfT2tcVyGx3H1w/uVNcZdvB1hlO2OUEh8loxGl+T+ErvlO6tme7VV1+V33TfdttttGjR9L//xKikzjI1TrcWpmNUPjuc/8zcxs1kVNIFI+lInWnAx2guj947cB7F3npiBuaivhYw/l3KiFFJPYtWUHjyMvEXOHnvvkg0Pk5D7w5Qf3//lJsL+3no3AyRjueivwHRyS8/1tfXy3nGCS8fhyd7rJ7ssQCQG3hQmJgunHzdn26lU11AdYy1OEy9r9ji1aRCxepeeiVu3Su9lyPb6DjZTZTX8/GM2wxHY/SUhUkh27FjBxUXF88oKQQASAc56EytPcnh6+2mfhY03Sw+kbYq27Y8cmqG3PSvqPoY1QXL5E30Z8LDtwZxM0ANzKqU/2ou2/ggvdv3Bk2OvEvhK4M0ODxIr1yslG/YeJnUIpiO5xIKheQADbrRleebmppkQmjHx+IYezxP1dXRIYkBAAAAYGEobYi/UXspNajPf7GTw8AsDni/0W3VgDkZoYiq28VzmmGiOt16gNnhGRgYcDVSzNGjRx2b+/v/rYFW5f0VDZ37JZ16+4NEG/5Iflu7Zs2amASRW850QsbJE/cZ1zhhSpSs6RY+/ha7tbWVDh06FJnnQQVY/D75l4bxc9DzjJftx4vfjhO4oqIi2aJXU1Mjy0zPj7ezd4Hl51hbW0vNzc3U0NAwZX38cibSTdELidsuL9ni8OHD8nH//v3ycbYttPqbK3zPPMcb3ENG011JF4Jc+f2drfMizn+pSVZ/iT5bAoB76fr8nvI1hmzorW/R0skn6cprndQ+cIz+3b/7d7Rp0yY55LCdPTHk5EwndW4SJo7nhI0nHkhAz3OCaNonJ3WdnZ0yQauqqqLy8nJZzjc55sQtGAzGbKerwf5c7OW8D96XnSkx5Hl9PE42szExxDWGic13HP+MmNPvY7qPi2tszJLFOV1jCJkP1xg6y9Q4fV7ENYZm8xWX09cYAswh/l3KiGsMGSdQbFF4iNauWSUPFp8UxuMWON3S5wbHcyseJ1v2eTv7PvleVY2NjXKekzROBhk/7tu3T87b8WvgiffJLZGafm3xSWEivH9OWAEAAAAAALJBWq/MD3sWUZgSJ4TzgZNFbiFk/MhJpR0nlNwyaJ+YntdJo1u8/4qKCmppaVElAAAAAAAAmSstieHy636Xhi730mXPTlqxYsXUe8wYcKscd61k6UqgeJ/cVZTxPgOBgJxnnKhxF09+jGffzk6PGsrJISeP+vm6wQPL6OsTASA3cZdETNk3AQAA5KK0tRhOXP8yjRc+Ia8t5JuSJsPXAnK3TW6J42sB00Fff8j75KTM3v1Tdy01jQRq344nPdAN70OXcUIZ39Kou53yehN+jQCQm8YmJumta4qoe9WtmLJoeuuaW+TPDgAAINekLTFcvXo13XzzzVRYWOiYGNoHXeHunbqrJidwyQZk0es5OTPNM17W++TJTq/TEm2n19nLTAmlfT2z75Pxa4w/TnwMACxMwyMjtGRiSC1BtuCfGf/sAAAAck1arzFMB91CFz9NpxsnAMB8uzo4SCvH+tUSZItrxM/s6uCAWoJswSNbYnRLAIDUZFxiaG+Fs0/c2gYAkC0+9rE9tHh0gJZMDqsSyHRLJoYpb3SQfvM3f1OVAAAA5I6MSwwBABaCjRs30pWBflr37q9pUXhclUKm4p/Ruqu/pncHB2jDhg2qFADmU9/AAH2ttZXeunyZxsbGVCkAzBbPwMBA7MV4Do4ePYpuGjlA3yBzIXF7I95scfjwYfm4f/9++TjbFlr9zbXvfve7VLjlRnrnmq00umi5KoVMwi2FnBT29b5J/89//I+qdGHA729qUH+pSVZ/iT5b9vb30/dPnaJP+/30jR//mD512220LcE4Funi99fTsfZqQj81yCbp+vzuCXM/zTimX2Q+IBLDhc/+c3b7BzHT43p6emjz5s1qyVm2vF7+GTGn38d0H3eh1V8y6Y7j+vvJT56h/IICGluaT0NL19CISBAnPXxbH/f3R4V0CtOi8AQtnRiS14EuGR2kK4MD9NnPflatX1jvv1z4/dXnRf5glM7j4vxn5jYuWf05fbbkpPApkRR+7q67aIVYHpyYoEd/9CP6neJiumWWk8NMTgwz9bnV+z1U06EWbHx1IaIaL1mrAtQabqBDHvF3T5S3V6tX0VVP/kqyXldbFXkOFVNIv0Ze522iilA7NXk9rvazk2roMYfnEoldgPh3KR3nP3QlBcgy/EcUX9Jklwcf/Cz5PrCLBnpeoyVvd9GGgRBdf+WMmH6FaV6mM/JnsPTSWfkz8fs+EJMUAsD86VEthTopZPl5ebTv/vvpG6++Sl29vTQ6OqrW5Jb2DE1Yq9vVmCChOvL56iikxgfhRKw9UtZApRzsC1BJUyXVm8aULG2g1pIaOqJuLd52pEYkf8eI8zm3+0n0XMAFUVlTcPfSeAcOHFBzsJDZf86m94FJpsd1d3erucQWyutNdxzqz8xtHOrPzG0c6s/MbVyu1B//7eIp3cfF+8/MbVyy+jN9tvzq8ePhC+PjainWz956K/zHP/hB+Pz586okHBYf/sPiw39YJAJhHwXCrbI0FK7zqXlZTtw7Tky+cJ0Mdi6P7K81EBtvwLF1Ab0PCgesg0f3wfg4atknnlPAp2P5OcZul0x0P+bjOuHjRGNawwH9uhzqIFTni+xbl0ePqevYwPZaI+LK5DzXrX5C8dvoZfncbMea6X7U4kKXrvMfWgwBAAAAICM85PfT4888I7uP2p2+eJGan3+e7l21ioaGoveILenopJB47GppopIAUbNsbQpRJxWTV8xVeTupVrUahUMV1FRZT9zI5FQucbfEMqLWcLtsrXLUUUOd5WofrQFqPGTbh0lHkIqPqdgy7j/pcrt40zxuda2IsSqGqK2ZGgO18nU51UFRdbtVJvdfQjXchBc5pmqxSwW3DFIZVamnFKOommpLaqiyUvw8W5McK9F+YEaQGAIAAABARlgvEr9P3norHX76abqkkkNOCjlZvHfFClq/fn3M9VHlgSCdEdlMqLOEyvcVU5AToK4zFCzZLrtdBqmRyvR9sb011KESSadyToC8MmFykQD56mifDvIWk0/NOvJV0G5+Uhxrn5crp2G6xy0tp0BjM3H+1NbcSIFya2PHOuDEWJeXNYrAM9RlP2YalO6ro6BDQsvriCpcHS/RfmD6kBgCZBm+wFgPtAAAALCQLF68mG7atIke3LGDDork8Pm+Pnri2WfpvpUracuWLbR161YqKChQ0TIvos5QGzUHi8lbtJsqgiIBCnVSiUp+OIkK6dYvOelr1JzLW+uCVLagmqFKRQLdSM1top4aA6SrxqkOrAFfVBlfq2dFp1dRNR2raKIjLWp5ptK1H5CQGAIAAABAxuBRR3n00SqRHP7opZdo97p1MiHkafXq1ZSXx6M6W4p2VxAdOkTBit1UJP7xYnMzUTH3IxVKOqKDmdg5lTNvdbvsoug3jpDigm55E7iLq2GQzDknW9bKyihYty/SEupYB7o1U5jN519UXUtUU5Py/tO1H0hjYoibkAIAAABAOnByWCSSwy/t2kVer9eYFEpF20UiRlShMhlebAwWRxKbhhAnRKpbJE9+q9uhU7lW2tBKJTXeGSWHx7jFUe23srNkdlrcpotbU32+SD0xpzrga/y8aXr+ftlFlfdXJbuyxiqlhtaAmk8sXfuBJMIGptFqTCNHaT2XL4cfe+45OYrUV/7hH8L/+vrr4ZGREbU2MZ/Pp+YgE9h/zukenWy+4hbaqHL8M0r0+5ju42JUPjO3cag/M7dxqD8zt3G5Un/6vJju4+L9Z+Y2Lln9JfpbBmnGI3jm0CiduSZd5z8Pr1Q5YkJHjx6dlZuQ+v1+am9vV0uzp6uriyorK2ftWPw6OjqmNmLX1dVRTU2NWooKhULyGzDxM1AlJL+Z4eVE+6qurlZLs0PfIHMhcXsj3mxx+PBh+bh//375ONsWWv3NNdRfalB/qcmV+put8yLef6lJVn9Ony0zSxtVecqoUS1F+agulGTU0hmZ6fESb7f9iIeay8PUoPuRwoKSts/vMj2MY8okTd/qdKuWwqtqWbs4Ph7+Ultb+LSLlsO5ajEUidicHMt0HKfjBgKBsEj25Dw/trbG3hlmrp6znf3nnI5vHuzmK26hfePLP6NE37Km+7j4xtzMbRzqz8xtHOrPzG1crtSfPi+m+7h4/5m5jUtWf4n+lgGAe+k6/6V0jeGTL7xAn/b7ZUuh3bq8PPrtO++kvzp1ivr7+1UpUX19faQfM7eKaVVVVZHytjar5zC38OkynjS9nV6v2fdnwq2F3ArH2/Dz4Hh9LMbl733ve2W5PqbTc+HldGhoaJCtiXycpqYmKi3F1zgAAAAAADD3UkoMp3sTUk6CRDIqp5KSElnGyVp5ebksa21tpUOHDsly7mbJy1zOXSg5eWS6i2VLSwsFAoGY5C6RY8eOkc/nk/vj7pi1tbXUzMNWCbwP3teJEydknH4uZWVlcr3u8skTdwHlJHM6dEKqJ3sSy6+Nj8PHBQAAgOnj7oiZ3yURACCzpZQYTvcmpIwTI8atZYyTNd1SxgmYZi/fvXs3NTZavaY5geMWu87OTtq3b59M7nhZJ5pu8b71PnkfnJzyMYuKrM7b+ti6dVAndfwcTdf/JaITUj3Zr3Pcvn27mgMAAAAAAJgfKSWG070JqU6MdJI1E8XFxbLVLhgMyiSOH3mZE7vp0i2OnCAm6sYZn9jxlC7cWsitk9NthQQAAAAAAEiXlO9jOJ2bkPK1fYwTK062El2rx61yupuo7jbKuPWQu5tWVFTIZX7kFj97a6OT+JY+bnHkxIy7c8bjY+sWRPtzSSeuD04KdVI6G8cAAAAAAABIJuXEkLm9CSlfY6hbCzmh0902TbgVkJM2juXtdNdTnahxgsi4K6ZuPUyE13NyyfvTCSqXcfKn98X71c+Pj627fNqfC0/JBrqJZ9+vnjgptg84w9cY8jEAAABgeniodp4AAGDm0pIYMk4ON2zYIJPCtWvXTkkKmb0rpr4fn/16O07U9DLP2+PteFkngpxYub03ISeX9mPrFjq9r/guo1r8c0l0PPtr0Ozb6ik+Th/DzrQvAAyyAAAAAADplrbEMFPEt8zpydRtlbug8uikAAAAAAAAuczDNzlU8wkdPXoUrRQ5gLvi7N27Vy0tDIODg1NGxwX3UH+pQf2lBvWXmlypv8OHD8vH/fv3y8d0wfsvNcnqD58tAdIjbZ/fwwamO+LzHfVh4bP/nE3vA5NMj+vu7lZziS2U15vuONSfmds41J+Z2zjUn5nbuFypP/7bxVO6j4v3n5nbuGT1l+yz5Vv9/eHDLS3h3nfeCY+OjqpSAIiXrvPfgutKCrDQYZAFAABY6Hr7++nvTp6kLzzwAD3+4ov0Wk8PieRQrZ09fn89OY+Znzt0PaA+cgsSQwAAAADIGJwUPnXqFH3+rrvo2rw8qr7vPnqys5PO9vbOSXIILnTVk982loe/3kofZVlV7O3X2qpE2ZQEs4vq/bHlTkmoqTx67Crio/Gyfg4SPz+1nTxOJD46xcSDhMQQAAAAADJCj0gKvy+Sws+JpHCFKssXyeG++++nb7z6KnUhOcwIVd4mqgjp0fZbqaQzZK3wBSgQPESRnEskaIeCPvKpxYiuFmoiESv+b5lBftYeqiOfr45C/3979x8b13XeCf9hqSiWrB8ryWotVzLsmiNXxPjF6wAFnBnAbQXVLsm+WyJIJ/sC6+UmTmb+2MYcECWwxhJQiHKrAASIId4skGGM1MQCWYANEqZrDrNWY9eVScAuGkjNmOpqaMfp+1Ky7EiWxMCyJCr3Pc+558ycuTx35g7vJTUcfj/BDe8989wf85C05uG59xwnT3LiN3He+FRf5byG/jl1neV93O25/tpT3W1FKAwBAAAAoCm8/Oab9KVkslwUavtFcfjFJ5+k74mi8booHrVyb5LswXJ7j9zeKLVe1bOVrCpYrO3abMbebuBzj3NvmDqO7iir6uEyeq6S4poyqvcqM6t6zIz96qq6Zv1eubessi4unDK87fP+Ktfs7rM4nlQx1XH1xeloua7qonzenZebqJN6U0RTqtqbHc1SPCUaPBZnpohSg9Qbny/HhtNJg0Nxyo4GTSbYoDAEAAAAgKbwvCgKX3rtNVq+e1e1uN65coWmz5yh47t20c2bN1WrKE/mF4j7qrjQiKeJpmVdUKIFUSjExFomtkBDqofIKaVoqs8t0vzaJS6quokKzhzV7FSaz9JCrzpGIU0TI8YxbOaL1DmpYrv7iPR6vf2UTEwUWQX3fKVckbpVRTmUnlDvW5idpol0L037vb/yNbs9bR39c26MfA/BC6tecc5uLiYtVW2sf4ji2VFZnI4UczTYo14oWyRZF/Z0UFdvmuanZgK9/7q68lSg7uCFNqyCwhAAAAAAmsIBUfh94fHH6dTp03RVFYdcFHKxeHzHDjpw4EDVFBi96SJdEFVFaSFOvYOdVOQKafECFeNHiWu6IqkChhdRWM2rQtKvnQunmCyq1C2KtSRE0aODYp2rb5f0SqRI1EJurLkuX6yvaJyvoydFiYlp2evHxdWEqgxnp4uUE0G+78+8Zmb2LHZPiJNcCFSkdeVVMdk77e5bVY11uYUjF7JD/fL7UEXeRqref1cvpefXdjupTddgjooBC21YDYUhAAAAADSFbdu20SMPPkjPHTtGw6I4PHP5Mn339dfpxM6ddPjwYTpy5Ajt2bNHRcu6ihZKszRd7KRYRw+liqJYKi1QvFdVP8YzZe6in0nzby8YvXGbQtcg5fh9i/9NF1XB5ff+PJLms4L8DJ5qD6wrL/YtUFoVqRoXaAlKk/42mLh3d54LcFmQdosSNqrbSYWOfppMTdHojNqGhqAwBAAAgE2NJ0nHROmtY/v27fTYoUOUEcXhq2+/TT3798uCkJe9e/dSe3u7inR7zmhkhIqpHuoQ/+PN6WmiTr6PVIiLAsR2d6RfO4v1z8lbEtc8aqXunRNkEaTWwzKvWR433auKPX7fRZrOTKs81H5/VXTPpdDItSbNwpl7aBPurbtlokCbsxajfBvpPKXVLbFyKUR4O6nQ0T9ElM1GlvetpI0nH1XrNX3nO9+p+R/dyzdu0F+/+Sb9x0SCDtx/P33mM59Rr8BmwvPjfe1rX1Nb0IzGxsbk14GBAfkVAABgM6r32ZJHH+WBZj799FPatWuX7Ck0i0IXD7YyQp0l9TwgDxoz0kmlOXULI98qybdS8jrjnjR+zae9LzlOk3JfPm43FXMl39EreSAXN1bg4/Fjg2KbxpMUy7pHTqTTRMVO2V4+thFbtS73qKHqmtNUMAsv+ZpxC2xVrLDq/bl4Kgm+g5TZrtUbr/HAOeotCgnKqfxX5USr+37d7yH3HFZU3h/f6lp5xW0fKbepbe95vT8HzHru1hDZ53dRqa9imxGfZ9T3c/HaNedbb7zhfLSy4vzlj3/s/Mv77zu3bt1SrzYukUioNdho5vfZ9nNg0+xx/MePIDbL++XvUa3fx6jP22r5qyfqOOTPLmgc8mcXNA75swsah/zZBY2rl79a/5YBQHD8uxTF72/oW0kbmYR0cXGRksmk2uK/Krjr3vZG8H7yoVfPMj4+bm3nc/FXk96udSwAAAAA2Gq4N2v1Z8PGpnZoxEafD6AiVGEYdhLSubk5tbZ2fAxR4FKpVKJEIlG+X7m/v79qWy8dHR2UTqfLxR5/LRQKcr3WsQAAAKA58W1UvABEr4vy6vNg9VJnKos12+jzAVSEKgwbnYS0r6+P5ufn5V8+uCDTvYTedk337umFt6OQz+cpm83S7OwsTU1NUVfX6kdjAZoVBlkAAAAAgKiFKgwbnYR0cnKy3BNn9sL5tcdisfJfSrgXjwvIRuhiUy/m7aq5XI66u7vluQEAAAAAALayUIVho5OQroUu6rhI5EKvEd5bSc1bV48eParWAAAAAAAAtrZQhWGjk5A2yvaMYFS4t5CfLWy0FxIAAAAAAKDVhCoMWSOTkDK/Xj9bO7fxc4BR0wPO6GcL1+McAOsFgywAAAAAQNRCF4aMi8MOURy+8NRT8pZPv6JQjwjKt4aag8z4tfNzhdyzp28nbXRKC+8zhrzwADbmgDP8jCGfAwAAAAAAYKtq40kO1XpNY2NjGAlxC+CeqIGBAbXVGpaXl0M/69pMTp06Jb+++OKL8ut6a7X8bTTkLxzkL5ytkr/1+u8ifv7CqZc/fLYEiEZkn98dC9uM+DyjPrQ+8/ts+zmwafa4paUltVbbZnm//D2q9fsY9XlbLX/1RB2H/NkFjUP+7ILGbZX86f8uRn1e/PzZBY2rl79a/5YBQHBR/fcvkltJAQAAAAAAYPNCYQgAAAAATefyjRv0zUKBPrh2je7cuaNaAWC9oDAEAAAAgKZy6fp1+v7Zs/TVZ5+ll956i967eJFu376tXl0/yeQ4Lar1ehqJ3RCL4813TbCpoDAEAACATY0HMMEgJq2Di8IfnjtHX3n6aXqgvZ36T5yglxcW6N1LlzakONxoG1rMNVg8jierR/fXS3J8kZLl7QzxxG9yO1M9BdxsRrQZ56vso5ckiUO512W08/FrndulYjzvp951VF+De+3gQmEIAAAAAE3hoigKfyCKwi+LonCHatstisPBZ56hb58/T4stWBzOzfVTh1pvNv1zDg9USU4pR4lEjkq8Lpa5/g6aK7flSU4Cl0hTujjiFnpMFHsjxQQl1KZkHMNd5kgcijKxKUqVdFuB4gulmueWFmdoisQ5xf/PmJVhveswr6FA1L2RhXmTQ2EIAAAAAE3h5TffpC8lk+WiUNsvisMvPvkkfU8UjddF8aiVe79kj5Pu/eGeJLVe1ROleqdqtWuzGXt7lQUaLfdqBTh2VbtYdA+WUZjw+jj3bqkYT8fXauYxY1maLzcnK+cxrmG8T8TMZykm2pNf/3rtHDSsk3pTRFOqSpsdzVI8JRoCidPRcnXcRfm8O994LYszU0SpQeqNz5fP6WrgOrp6KT2/QCW1udWhMAQAAACApvC8KApfeu01Wr57V7W43rlyhabPnKHju3bRzZs3VasoJ9SHei4S4mmiaVlIlUTJ1kkxsZaJLdCQ7h0qpWiqzy3C/NolLra6iQqqN8vXfJE6J91jlHJE2TrHzojCLV7Q7bnqnjRNFG0LvSqmkKaJEeO6LPyO2dE/57bJ48QpO+pWmP2Tld63+Ldu++dgjWL9QxTPjtKsyOFIMUeDPeoFTRWl5aJVFcW96Qnq5u26lbC2SLIu7OkQtV2a5qdmqq697nUoi+MjNJFwf1YAhSEAAABscjy5My+w+R0Qhd8XHn+cTp0+TVdVcchFIReLx3fsoAMHDlRNmt+bLtIFURGUFuLUO9hJRa4MFy9QMX5U3p5ZJFVw8MI9aqqQ9GuXhYss7NTtkbUkUiTqEqmjJ0WJOscuioJssN5BzZhYp714NPge0+xJ7J4QgRdWFX2+OQilyy3yuGAdstwia97GyYu6jbYrr7Z7p93rqVcgyttIVf5lr5/ndtJa12EUp7GpFJWa+FbejdbGkxyq9ZrGxsbwYPcWwP+wDgwMqK3WsLy8XPWPCDQG+QsH+QsH+Qtnq+Tv1KlT8uuLL74ov0YFP3/h1Muf32dLfoaQB5rhZwr59lHZUyiKwsOHD9ORI0do79691N7eLmP5lsnRo0NEIxdocK6HZpKjxJvTlCe+G5FvzZy0fPCv1T6UmqLuhSFy6tzOWHUMLsRUQTnic2zuHSsXIRzfRzKuz4hfdUwV4z2W5hff15akVEn1eJrH8TlvXbZr8bSVr4XbdXHtFyMP4GeWMm3T1KuLc8u5+fsey+obZ12JXEk+f1jvOhp635tEZJ/fRXW+im1GfJ5RH1qf+X22/RzYNHvc0tKSWqutVd5v1HHIn13QOOTPLmgc8mcXNG6r5I//7eIl6vPi588uaFy9/NX6bHnr1i3nnfffd4b+9m+dn/zkJ865c+ecK1euOCsrKypCKeWcdCLhiKJAbaaddDrtqE0nLT7qpgvuusmvPZHIObxrIU3lY/rRsayUSzikDuh/zkT5uvi69f7mccx1M8aPeUx5DZZjmu3ymJR2+PL8rtPKdi2eNuu1BokREuaFeM+16twlJ5fwXHshbX3vZcYx/K5hM4vqv3+R3UqKSUgBAAAAIArbt2+njkOH6IWnnqJYLLaqp7Cs4yjxiCv8rJnenCh2lm/xzJdyVOxWt0vyknSfafNr17ryBYpnY8bUCBbeWxJVD6PvOflZv5hq41s3ZXQ45jH7FuLlW0+H4pVrM9upo5+G1PN8xT//85o5qCcpbz/l8zQw5YP3GUM16E2q2F1p4xFKJ2v06MnbSD230FpvJ4WGqQKxiq2SrPVXnYvXrjnfeuMN56OVFecvf/xj51/ef1/+paemVdU/NAPz+xz1Xw7vVRz+4msXNA75swsah/zZBY1D/uyCxm2V/PG/XVH9xdyEnz+7oHH18lfrs2XL4x6uwN11ALVF9d+/0D2GUUxCyvcChy7w+d7hEMepN4lm1fDCcnH/wlE9MSbfE52hP647ISfA2mGQBQAAgI3Cn+1sn+san95BTrKu9+dRTwNMyeCK7hoAaglVGEY1CWkzTOxZdxJN7yhKagjjQnqCRtRvJQ95K37L6cf1jgUAAAAAm0AX5cuf/cylzlQWFuWRN+USYNTTsuiuAaCWUIVho5OQyl49/VcO495qs6eP192JPWtNTFr9lxMe0bZqwk4Oqtqv0qu36vghufeg99H47Dj1TaXsQwYDAAAAAAA0sVCFYaOTkDY2saf7lxTbJKFfd2cdVX8tceRwxOaEndwzZ56rlCtSt54PxXP8wLwPy5aL2S4a5ElNu+s8KAsAAAAAANCkQhWGjU5C2vDEnoJt8s1veUcisjDPJScdnZh2ewiDXIONKjp1Maon5GQdR+NqDQAAAAAAYPMJVRhu27aNHnnwQXru2DEaFsXhmcuX6buvv04ndu4sT0K6Z88eFb1G3oLMydt7Gu+ZWcpwByYPF9wXwSA6AAAAAAAAG6yNhyxV6zWNjY3RyZMn1VY1HmCGB5r5H//8z/SH999PDzzwgCwMvfPNZNqS1FlyH5RdHE+6c77M9VNfcpwmVQ8cPwOo1xk/S8i3jZoDN/EIogtD1W3ymUJ526m6BdXYT55rYYgcseE9/ip8nD5aFeO3Hx979OicOM+iuK5Y9XX5HKuZ8WiXAwMDaqs1LC8vV/Vcb3anTp2SX1988UX5db21Wv42GvIXDvIXzlbJ33r9dxE/f+HUy1+tz5YAEFxkn98dC9v8FvXmmuF5Cz/88EPnX//1X52rV686Kysr6hUDz9kiTslLIp0uz2Nozmdorks836HaRy78uqdNTwNTSLvbiZw4QlVM2tEzxaw6vpfP/IpV1yCXhMOnkdejYtxzVs7ld6xmZn6fo5gPxXSv4lptHir+HtX6fYz6vJjHyy5oHPJnFzQO+bMLGof82QWNQ/7sgsbVy1+9z5YAEAz/LkXx+xvqVlLT9u3b6eDBg/L20X379lX1FJZ15cu3hM7l8+VpKszpKlZNXdHRT3Pl20jFwq972nQPnR4GWE4LURVTGWim7tQYvJ8lpuoa5OL2fJrPGrrnNAa18TkWAAAAAABAM4msMAQAAAAAAIDNCYUhAAAAAADAFofCEAAAADY1HniBF2gtl2/coG8WCvTBtWt0584d1QoA6wWFIcAmwyO4YRQ3AABoZZeuX6fvnz1LX332WXrprbfovYsX5Sj4641HoQ869VgjsRuCR8Nfx2tquvcLkUNhCAAAAABNg4vCH547R195+ml6oL2d+k+coJcXFujdS5c2pDjcaBtacK1z8diIZFsbtcklQ7NqOzluXJlxrTxVnRtbvVTFQ2goDAEAAACgKVwUReEPRFH4ZVEU7lBtu0VxOPjMM/Tt8+flvNmtVhxu1RHs50o5SiRyVNIj+ifSFJ/qI1ut1z+nZgUo7+Nuy5kIIDIoDAEAAACgKbz85pv0pWSyXBRq+0Vx+MUnn6TviaLxuigetXLvF/cuqZ4nsUHjSbUu23UPU7JSdPi1a7MZe3uVBRot92QFOHZVu1jUtZs9eLw+nqnEZNw35M88ZixL8+XmZOU8xjWM94mY+SzFRHvy61+vnQM/3txY3i/38FWufZYygY7fSYNDccqO1nvTsF7aeJJDtV7T2NgYnmvaAvjh/YGBAbXVGpaXl2n37t1qa/M7deqU/Priiy/Kr+ut1fK30ZC/cJC/cLZK/tbrv4v4+QunXv5sny0vX7tGf/2P/0j/6fhx2VOovXPlCn339depZ/9+6ujooIcffli2Z0Qx2OvkKSYKodGFOFFvnvJdohBJXqDBuX4aVa/LHikuYPqIJmu094nCbHKSqC+2QEPm3NQWSVHspEruvNZciMWmUlSqec42ooKaf9t7TvGV+764wIrrGC7ARjrlMf36xTI+x6yK5+NM95LDQQFy4HcuLlptudHfg6rjDC1QTJ/TPL/Jc055fLFeEoXxdK94TzHLNQW4zq0oss/vjoVtRnyeUR9an/l9tv0c2DR73NLSklqrbbO8X/4e1fp9jPq8rZa/eqKOQ/7sgsYhf3ZB47ZK/vR/F6M+L37+7ILG1cuf7d+yO3fuOP/7F79wXpydda6srMi24i9/6WSnppxXXnnFOXv2rHP16lXZzgrphJMr8de0UyjlnES64Dj6q5AQH3X5425lEXF12931ehKJnCNO7eJz1ju2N15tm+1+MX584+X1GNdgtqt1v+v045cb+3EKTlrFFtLkqG9HNc/7q7p2Xve8LtnaILL//uFWUgAAAABoCtu2baNHHnyQnjt2jIZPn6Yzly/LnsITO3fS4cOH6ciRI7Rnzx4VTRTrJFoozdJ0sZNiHT2UKk7TbGmB4r2qd8p4Hs1dVM9WjfZCrkjdde/hrMHn2Po2z42QjE1RqqTOz8/lqfYqfjnw45cb63G6qDc9QdOz4nszkSb97Qiko58mU1M0OqO2YcOgMAQAAACAprF9+3Z67NAhyoji8NW335a3j3JByMvevXup3bjFtKMnRTQyQsVUD3WI//Hm9DRRZ8x9PT6fJdsja37tLNY/RwXqbmjEy8WZKZpP98rCyu/Y6fkpmgl+yEDixjHlNbirolhLUY+617Kqnc0vUEl8qZUDP7bc+B2nazBHxe5uKuYGaxecFh39Q0TZyjOTsDEiKwwxCSkAAAAARIGLww5RHL7w1FMUi8WsRaHUcVR2xaVUFcSbE8XOclGUL3FxogdGEUvSHejFr13ryhcono3VLg5FQcSDuPD+8vlC9Qyd7zkLccrGVJsxUEwY5jH7FuLlnsGheOXazHbujRtKT1C3aC/++Z/XzIEfb258c8k9uIlE+XvjleQcyBzqQYNMXeK9pdU6bJRICsN7NQkpAAAAALQmLg4PHjwoi8J9+/atLgolUUA47gAw7maeHHNgElEIzZm3OerXfNorU0fwcWtPh2A9LvM7J1+bbuOiJ37Uc07P1BV8HHPbxjjmXD5fju/Kq/N42pl+be7/+X/834NF5Rie3Pi939lRylKl59Krso97C+uq9+r9XrIgOYE1C10YbuQkpIuLi5RMJuW6/hoWH6f8Fw5jGR8ft7bzNfBXk96udSwAAAAA2Gx4qoXVn+0amt5BmTWmoWjrJip4R+n0Fd011Bfh+52eoPQQirjNJFRheC8nIZ2bm1Nr4fBx+K8VpVKJEolE+a8d/f39Vdt64SGS0+l0udjjr4VCQa7XOhYAAACsD57yAFNqwfpwe8f0Z7rKYvRSBmT24tUd6KVKdNdQX7TvN3DtC00hVGHY6CSkzPzrw+zs7KqeOe6RY2a77h3s6+uj+fl52fY7v/M7so3x65kMT7ZZOS7TvXt6iaqXMZ/PUzableeZmpqiri781AMAAAAAwOYVqjB8XhRaL732Gi3fvataXDwJ6fSZM3R81y66efOmanULOO5d03994IKKe9P0Nr82OjoqY7nw0u3xeFy2TU5OlnviDh06JNsYF4u9vb3lY4yMjMh2flhZn4978Rqli1BbYZnL5ai7u1teEwAAAAAQfeMb35CL5t0GgObVxpMcqvWaxsbGVt2msbKyIgea4WcK/+KP/kj2FHJRyMWinm/m4Ycflg8MMy6svLeAcq8eF3AaF34cw4UY46JO41juNeTXzWOZ634xZruN7XXb9WrcW8iFIRecfHupqd65mtnw8DANDAyordawvLxMu3fvVlub36lTp+TXF198UX5db62Wv42G/IWD/IWD/IWD/DXO/DeK8/etb32rvO1l+2wJAI2L7PO7KLxWsc2IzzPq29y6dctZeP9954XZWecfPvjAGfibv3FeeeUV5+zZs86VK1ccUTyqSMcRRZ9aq+BLEMWVXOev3hh+XV+m+boZZ677xdiObbK9Xiuer6lQKFhj6p2rmZnfZ9vPgU2zxy0tLam12jbL++Xvkd/vI4v6vK2Wv3qijkP+7ILGIX92QeO2Sv70fxejPi9+/uxqxYlCTy6M82due9X6twwAgovqv39t/H+iyKli+wsZV6J+f9XhAWZ4oJn/8c//TH94//30wAMPyN5C73wz3AM3NDRU9Uye2SvHzxXyM3u8zet60BaO0bdscu8iX7K5n7lu9tZxr6Mo0mSPXpQ9hnxtR48ele+DY7zvabP3GOrvc9C/lDZ73MWLF+mhhx5SW/5a5f1GHYf82QWNQ/7sgsYhf3ZB47ZK/vjfrr//+7+nz3/+8/TZz35Wtdrxv3Hm8XhfP7bzej8L8f63bt2qe17GcX/1V3+ltly289c6nnl+vj7udavHPJ7t+rUg76Ne/vj7wP7gD/5Axv3TP/1TeZuZ5+d9vdcDAI3j3yXuMQz739NI5jEMOgkpF3d8+6V+Zo9vx+TnB/X2wsKCinSfMdTtqVRKFnd6RFBuuyQK0Xr4+UK+Ho43b1cNyvuMIS9c9JkDzuj3BAAAAPcGFxe68AAAgDXiHkMvWxfjZu/u59s+RVGptsCP+X2OokvadK/icCuQXdA45M8uaBzyZxc0DvmzCxqH/NkFjUP+7GrFiSIdt5ICbLCobiWNpMewWZlTWHCvHk8zAQAAAAAAANVaujDkQlAUv+UFoBXwfeTeZzoAAAAAAMJo6cIQAAAAADbONyKcx/DyjRv0zUKBPrh2je7cuaNaAWC9oDAEAAAAgKZy6fp1+v7Zs/TVZ5+ll956S86bzaPg3ws8Aj3AVoDCEAAAAACaBheFPzx3jr7y9NP0QHs79Z84QS8vLNC7ly5tSHHII9A3WgxyvDmKvV54ijNzm+l2TZ+PR+s3z8vtHMtfWdDj1LoWgFraeGQatV4Tz5PDw0FDa9PzoLSSWvO1bEanTp2SX1988UX5db21Wv42GvIXDvIXDvIXDvIXTr382T5bXjSKwh2qjV29e5eGT5+mzLFjcoo0niptvXCBZc5HzYVW0Lmpvfsy2/EYT3nmnWubB07s7e2V06LxemdnZ3le70aOw2zXAq0pss/vPDSpl20YUx4GFVqf+X2OYthb072Ka7Xhxvl7VOv3MerzYrh2u6BxyJ9d0Djkzy5oHPJnFzQO+bMLGlcvf7Z/y/7rK684H62sqK1q//DBB85/+dGPnA8//FC1OE4ikZALf6TlqcnMda1UKsk2vWgcy1OZ6Xa9jz4GL7lczjfOhs/F8SZvG6+b06iZr+t1fc2mRo7DvNvQuvh3KYrfX9xKCgAAAABN4flkkl567TVavntXtbjeuXKFps+coeO7dtHNmzdVK9H8/LzsMRMFkpyaTK+PjIyoCKJYLCbbxOdeEoWe7IljvC/3znG7uQ8fQxRUsp176/ziwuAeQca3j5q45y8ej8uePj5XPX7HAVgLFIYAAAAA0BQOiMLvC48/TqdOn5a3jzIuCrlYPL5jBx04cKDq9lQu4LiY4uLPXDdxuy6genp6aGJiQq6b7d59TEHjGjU4OGgtMrmd6XPW43ccgEahMAQAAACAprBt2zZ65MEH6bljx+QzhWcuX6bvvv46ndi5kw4fPkxHjhyhPXv2qOjNjYvYVCpFMzMzqmVtojoOAApDAAAAAGgaPLDMY4cOyYFmXn37berZv18WhLzs3buX2tvbVWQwfCuovtWSi6d0Oi3Xa+F9NgLfqprNZtXW2kV1HNjaIisMMQkpAAAAAESBi0MeffSFp56St2+utShkpVJJPn/IUzZw8ZTP59UrdtwDx8VjVFM88PVzocnHswnyLCGL6jgAfiIpDJtpElIAAAAA2Py4ODx48KAsCvft22ctCvVUDFzM2dYZb/PAMXrRvDHmNhePevCZWnFette95/a+zs8SBjlHVMcB8BO6MLzXk5CWLY5TMjlO7hSgm9N4cvVkpLwkxxcpuao9SaJZfM1QZRyqWcqo7VrHgs2N53zCnKIAAAAAEKVQhSFPQvoDURR+2ZiEdLcoDgefeYa+ff48LW50cbjJ9c+pvwSVcpRI5Kik/io0199BZGy7yxxxcyE9QSOq2FscHxENeeIxrGoeCwAAAAAAwNDGkxyq9ZrGxsZW9VL8FT/A+8d/LHsKvXgUqf/11lvU//nPy9sAXNyj1U3uIMFE6YJD+dg4JWNZch/xTVPBcQsb7v2bnOsnWcZwb2Afye0+0Z6KZymrDiKPIXbgHrKsek44kSsRTc2oOPeYF8TrC0NurHsdI9RZcosrLz637RxscTxJMX0iSlBOHGOqL0Nx8a4mRHO6UKLOkZi8FnM/id9H+b26+1rrNOP96per8lFFvZdCiqZEXbgqxnKsWoaHh2lgYEBttYbl5eWqoa2hMchfOMhfOMhfOMhfOMhfOPXyZ/tsCQCNi+zzu2NhmxGfZ9T3+uDjj51Tr77q3FhZUS2u4i9/6Qz8zd84P/nJT5xf/OIXqtVxcglyRLFUJS0uQbeVcgmHqymWSOScklwTSrnydsKIdwppR1SBbpwRw6riGMfqBnPdwvccXuo4CUo4OQ7gbXPds1+a0k75rJ7rrWJ5ja+Jv13lxXhd5k2f16vWeSzM77Pt58Cm2eOWlpbUWm2t8n6jjkP+7ILGIX92QeOQP7ugccifXdA45M8uaFy9/Nk+WwJA4/h3KYrf31C3kjY6CekU5WjQ7EETiolKW0dPihIT0/IZOV9GPMU6SRRMdmYc6+qltDr27PQEpXs9F2KqdQ7ugdPP7HVPiDdwgRYTKerh7jiONdflDhVFmqBuvS/3HM4vUEm9VpdxO6hcjB7AjqNxtQZbAf9ViBcAAAAAgKiEKgw31ySkXdSbnqDp2VmankhTrbqwlmRsilIlVZzx83uqPRBvcadumw1nljLdPERxnLJ9m3vwHQAAAAAAuDdCj0rayCSkKcrSqKc7MD5faVucmaL5dK9bLBm9abJdrddUpweuazBHxe5uKuYG116Q6R5BIfB1KeZ7jUp5wJmuQcpZ8gsAAAAAAFBP6MKQBZ2EtH+SCzN1K6VYMqKIyZcqbbFsXNQ4bsk2mSuWb7vsW4jX75nr6KehtHurpu+UDB09lEokKKUruzUYimcp1sh1Gcz3KpdGptcQRaU+r7u401XEplLqttcOlV9z+goAAAAAAID6IikMWZBJSLl4mzNupZQ1YFVb5dbKjv65ctxcPk9z6pk6/VXifY3trryK7+cJPS2jcM6OUpYqPX5+gpzDvK7L+nUz1rOfVPVexeJ9XbPsW7WfXNwRTauOIY/vuT3Vdh0AAAAAAACGyArDzUAOOjOkiySe5sHsgavuiQMAAAAAANgqtlRhyL19lXkFuyi/qheu0hMHAAAAAACwVWypwhAAAAAANofLN27QNwsF+uDaNbpz545qBYD10saTj6r1mr7zne/QyZMn1Ra0Kp4f72tf+5ragmY0NjYmvw4MDMivAAAAm1Gtz5aXrl+nH5w7R19KJunbf/d39Ge/+7v06KFDckyLjZZMjtMkxmuQdC76kJOmEtnnd8fCNiM+z6gPrc/8Ptt+DmyaPY7/+BHEZnm//D2q9fsY9XlbLX/1RB2H/NkFjUP+7ILGIX92QeOQP7ugcfXy5/dv2cVr15z/9sYbzidq+8bKivOfCwVn4f33nVu3bqnWdVTKOYlEzimpTXN9q9O58M0J506UF1xi8JLIuVGyLV2Q61ohLdpWHafk5BLV7X7nsrVXzp12+Gy8ra9BMr638jzl+MpSFb9J8O9SFL+/uJUUAAAAAJrCRdVT+OWnn6Ydqm13ezsNPvMMffv8eVq8dIlu376tXoFmk4lNUaqkx+0oUHxBzTCeSFO6OFIZ4HFxnEaKidXTvi3O0BSJWPH/M2sYDHKulCNR+FFJj9Ivzhuf6rMOLNk/p66zvI+7zbMbbFUoDAEAAACgKbz85pvy9lFdFGr7RXH4xSefpO+JovG6KB61ZDJDmaQ7snxmdpHGy+sqgIkiJFkefb4y3zPfFjme0e2Vfcb7sjSv5o/Wc2PPWOL8+B2X28v1CV+T2g70Hmrxe3/Gujsav9iuiq2MxF+5ZnefxfGkiqmOqy9OR8t1VRfly6M+dlJvimhKVXuzo1mKp0SDx+LMFFFqkHrj8+XYcDppcChO2dGgydzaUBgCbDL8PAae9wUAgFb0vCgKX3rtNVq+e1e1uN65coWmz5yh47t20c2bN1WrMF+kzkmH+L7Eie4+Ir0+UinCMjFRhBTc3qBSrkjduuISxd9Cr9tu7tM/WelBkr1HPnG+Go6v/x5q8Xt/Q+kJmtb10Ow0TaR7aTq2QEN8XbyUUjTVp85Rvma3p82cT9wpBC+sesU5u7mYtFS1sf4himdHZXE6UszRYI96oWyRZF3Y00FdvWman5oJ9P7r6spTgbqDF9pbGApDAAAAAGgKB0Th94XHH6dTp0/TVVUcclHIxeLxHTvowIEDtHv3btkuJVIk6ghRdXSKYs5Yly+6iqLIG1QdVx09KUpMTLs9aUa7d58qQeO0huPrv4da/N4fF1cTqjKcnS5STgQVSRVuvIiCcn5+geTNnuY1M7NnsXtCnORCoCKNp4aTxWTvtLtvVTXW5RaOXMiW5xU3yNtI1fvv6qX0/NpuJ7XpGsxRMWChvZWhMAQAAACAprBt2zZ65MEH6bljx2hYFIdnLl+m777+Op3YuZMOHz5MR44coT179qhoqKlrkHJFLhJnabqoCi5RAOpn6dxFPYvnkTSfFeRn8FR7YF15sW+B0roIV7hAS1Caei0n5dtI9S28bW3dooSN6nZSoaOfJlNTNDqjtsEKhSEAAAAANA2ekuKxQ4coI4rDV99+m3r275cFIS979+6l9vZ2FRlMXBQb+k5IWXyke63FUBXdkxYl45jyOtR6WP7vr4N6UkWazkxTMdUje+jM2Jp0z6XQyLUmzR7CxQtUTHRSTG1KokCbsxajfBvpPA9cWilaCxHeTip09A8RZbOR5b0VRVYYYhJSgI3Bc9XwAgAA0Kq4OOwQxeELTz1FsVhszUUhy5dyVOx2b4uMZeNUKA+I4kMUL/x8Ht9yqQeficIkP/8ne8PaqG8h3ngvnI9a749vLS1OEA2pkTbNWLmYA+IYhuK6566xa00VuyvH5l7HyYBzHcrbSD23s6rbST8s9yLyYgyoY2lPyttjud0ceEfrorwoNqEGUZGvYpvfota8aTzfzLfeeMP5aGXF+csf/9j5lyDzzHjmiLkn/K6h0WtrhvcSEfP7HPV8RvcqrtXmoeLvUa3fx6jPi3m87ILGIX92QeOQP7ugccifXdA45M8uaFy9/NX6twwAguPfpSh+f9v4RVUj1jQ2NmYdCfHS9ev0Q2O+GR5F6q9efZX+Q2envA2A/+JjxQ+18sBLczX+khAkJgy/4zd63hrx/OCu2WXNXeTVf6jiYYljlKUcldT+PExx1tLPnciViLIxTxd4gnKlOYpqyhXuiRoYGFBbrWF5ebn6QfVN7tSpU/Lriy++KL+ut1bL30ZD/sJB/sJB/sJB/sKplz+/z5abA0//wM/BeUX7uaxio88Hm0lkn99VgVjFVkna/qqzpHoKP1Hb2pWVFeeF2VnnnVo9h0F62da7J24Degyr2jlOpFwUhxVy37STTiScnPcAluM2dF1rYH6f9c+B+I+2XDTvdhR/oTBFHddqf/Hl71Gtv7JGfV78xdwuaBzyZxc0DvmzCxqH/NkFjUP+7ILG1ctfrX/LACA4/l2K4vc31DOGjU5CKnvW9L3AfA9wudk+ieaqCUbN/etMtuk7MafPNQRqD3KcWviBW7632xgulx/ojXYiTwAAAAAAgMaEKgwbnYTUnIDTMYa+9ZtE0zvBaMZvUk4Lv2P6XYN/u/2cfvF1dRyleHlUqjVM5Fn1oK1YfB4aBgAAAAAACKpNFDarnjG03RPO96567wNfWVmh9y5epJcXFugv/uiPZE+hnoRUzzfz8MMP0759+2R8UhQx5efwuMdNP5fH62avGxeDut14do976Kp75tJU8Jl/RR7fcsw+n2vwbfc554jfe5ExFVXvWeJ7xKepl6+7aj9uH6FO8z5xy3FXHy9a5vdZ/xz84R/+odz+gz/4A/n17//+7+VXvX3r1i367Gc/K9eZ9+dEj6DpjfPD90ibP396fy+/43nP/xd/8ReBnhHRx/O7fq3e+/Dmz+/6tUbzx/nn3HvjtKDPxASNuyh+xx966CG15S/q87ZKHPJnFzQO+bMLGof82QWNQ/7sgsbVyx//++b3bxkABMe/S97Pz35q/f6G6jGMahLSwJNoBpyUk4WemFNr4JyBGHO6yHlhyj2AEU/kCS2rVlEIAAAAALAmothZxfZQYq0HhG/duiUHmhn62791fvKTnzjnzp1zrly54qysrKgIV5oqA6yUcglHFF1yIBVzQBWzXWw4CUo7eqyWtHfglhr8jul3Df7t9nP6xXtVDxZTMI5XcnIJz7EL6erjYPCZmoLGYfAAu6BxyJ9d0Djkzy5oHPJnFzQO+bMLGof82QWNq5c/DD4DEI2mGHxGCzoJaZ6f9Yu5z8aZk2X6TqLpmWA06KSczO+Yftfg2+5zTr/4VaqeCeRbRdV0FTUm8qzZaeh9xrDOIDwAAAAAAAD1RFIYMi4ODx48KItCfqbQWxRKXfnyLZlz+TzNqWfluvKVWzXNdqZf48Fn5KieKk4uNZ618z2mzzX4tvud0y/eo2pfx3h+kI+7ap8uyteJqT6e55gAAAAAAABrEFlheG/wgC1m7xl60dbDN77xDblo3m0AAAAAANjc2vg+U7Ve09jYGAa82AL0qEatJOjoaWCH/IWD/IWD/IWD/IWD/IVTL3/4bAkQjcg+vzsWtocS+aFGaH3m9zmKh1hN9yoOgwfYBY1D/uyCxiF/dkHjkD+7oHHIn13QOOTPLmhcvfzV+2z5wfXrzqmZGefSxx87t2/fVq0A4MW/S1H8/m7yW0kBAAAAoNVcun6dvn/2LH312WfppbfekvNmi+JQvbqxeA5pPKG0URZpPNlGbZlZtb0aHhlbPygMAQAAAKBpcFH4w3Pn6CtPP00PtLdT/4kT9PLCAr176dLGFIeL45uzGFx13VxkmUWUKro87y1Zb5yO2YzxulhE0bYqP9acrT5fvXMtjvdRNl4gRw7hb44lkhFbLodnBujznguigMIQAAAAAJrCRVEU/kAUhV8WReEO1bZbFIeDzzxD3z5/nhY3qjjcjDp6KEXGtGdyarQU9ejR6+V2WvzPMzVaIkclPdp9SRwhVinCFseT1NZNVDBGxC/QNM2r12uyna/GubgQHM0S5dRcbuNJeWI3tkDUrQvMrkHKUZZG/TsVYY1QGAIAAABAU3j5zTfpS8lkuSjU9ovi8ItPPknfE0XjdVE8aslkhjLcK9XWRplZ1UMl11UA494sS88T93CNZ3R7ZZ/xvizNq3mjeR5tNmOJ8+N3XFlkqTazt6zx9+B3K2UH9aSIpnQVVlogSvWUpz1bnJkS24PUG5+vxHh1HKW4WmW8S66Up6ppt/N5//m7DXXP5zkXzU7TRKJSyC7Mp6lXn1jO9b1AJbnB7zNBxQs+7wHWDIUhAAAAADSF50VR+NJrr9Hy3buqxfXOlSs0feYMHd+1i27evKlahfkidU5yj1KaJrr7iPT6SOVWw0wsS3HV81TKFalbV1yi+Fvo1T1SlX36J3OUUD1bch5tnzhfPvEd/XNum2yPU1Z3eQV6Dws0pPflnjafWyk7jsZpfsEtn2anJyh+tFwWyiIvJaqurt40zU/N2N+DLM46KaY2p+bjVD6ESRXObqEqFpHj6l7EAOfznGvxQpESRiFLVKRK7RejzkRl23yfEB0UhgAAAADQFA6Iwu8Ljz9Op06fpquqOOSikIvF4zt20IEDB6qnwNA9TLFOUcwZ6/JFV1EUeeruROroSVFiYtrtNTTavftUCRqn+cWbvX7dE+LCLrjFUpD3QBPUbRZh5d4zD+5Zk+9vkS4UjR4387ZS2ftm3N5pFnkjnVSa668UZ0bhVkUVzuVCtySKafWS5He+WufyyMtbTVVsW4yyZpHK+dH5g8igMAQAAACAprBt2zZ65MEH6bljx2hYFIdnLl+m777+Op3YuZMOHz5MR44coT179qjozSUZE6VSyaeQqsdbiDnVt3dWdFFvukgXZkVhFu8tx/Btnfr22La2blFmGrd36mPzNXkKzrhZQDbA93w1zrVKRz/N6ffL8WaRWlqg+fhR36IS1gaFIQAAAAA0je3bt9Njhw5RRhSHr779NvXs3y8LQl727t1L7e3tKjKYuChQ9F2bsmBJVwomX/WKlrUwnp+T1+GuBmK+h3q6euOU7c5SvNJdSDNT85TWA7nwUrDc3smFGA/yYjyHOZgjylYNEEM0m8nUufYA57OcS94ear3FdVE+91n1vCTfdtpp7cuEENp4kkO1XtPY2BidPHlSba12+cYN+us336T/mEjQgfvvp8985jPqFdhMhoeHaWBgQG21huXl5erbTqAhyF84yF84yF84yF84yF849fJX77Mljz7KA818+umntGvXLtlT6C0KeaCXSb4dkW/T5MfzvOscxNvlZ+DSVFC9beV9udmzz2ymjfhuz0ROlIeiWPGLs/E7bkkdkyXSaaJip2zva/g9CNzzpl9bhad5mKZe3atovWaOGaHO0px8XtF8jQfJEaeinHiNH7F0t41SMF2Qt3FWHa/WtUvu+SZ+M0Wly37nqlwTn1dOk6ESxt8H+bynxAP0xGhhyCE5qwVE9/ldVPGr2GbE5xn1/Vy8ds351htvOB+trDh/+eMfO//y/vvOrVu31KuNSyRyTkmtw8Yyv8+2nwObZo9bWlpSa7W1yvuNOg75swsah/zZBY1D/uyCxiF/dkHjkD+7oHH18lfrsyVsTaVcwuGuxpoKaUdUiqgVDPy7FMXvb+hbSe/5JKSbTPXEnpWhiG3DKLPqoY0rwyZ743lbvybxX2uS4/R1NeSxd6mKBQAAAIAGmJOvm4vfVBIQREf/JOWK3XISfT9t3UXKTZq9kRCVUIUhJiFdA/Ph4VKOimoo4jn5UC2/VnmYWHavT6WMh41LlFpw771eFZ9IU3yqb9V/jPrnKufSQy/zdqU7HgAAAAAa00X58uczc1G3QcIadbifXWvcI4ocr59QhWHjk5DqCT9Vrxj3atX6C4vP69W9aD7t4lyyud45PHhS0cofKfivQWKfHzd2Havep586IyqN8j3XVX8REb8seb+/kHTS4JAxJw4AAAAAAEBAoQrDxich1RN+ur1c9Sbr9Hvdb4LQvmycCqq9EHdHkwo6IajWP5SmiWlVXPHEm+khWuhq7Dq877NKeehesXBXeHmim9WKxuhVgXTlqUDdRmELAAAAAABQX6jCsPFJSI0JP4V6k3X6vm72AhoThMZlvNtL15V3i7LAE4Jq5YlBuS6coHRvV8PX4X2fVYzbOYMUqi4efUmdR/eE+ugarNyeCgAAAAAAEESowjD0JKRmkSQXTw+bz+t+E4S693r30rQs1tRtnPXOsQpPDDpB07OzND2RJjkFTIPXEVjHUYrXKFQrk4qq+62DnKOjnyZTUzQ6o7YBAAAAAADqCFUYsjCTkNabrNP3dZ8JQjPyIT9+GLhEuUSRLojNRiYE1WSvW3c3FXODsgBs9DoC41tVE53kNz2nnFQ0UI9itY7+IbGjMdcNAAAAAABADaELQ8bFYYcoDl946imKxWKBikKWL3EBpm6RtNwm6ff6ULzynF7fQrzSi5aNqdgYTaUm5YhF9c5h1dFDqUSCUqrqa/g6aql6xpCooCb/lJOWytcqA9bwM4yl1FQlXsSIi/KNrxDFcSGt1gEAAAAAAGpr40kO1XpNY2NjdPLkSbXV4mYz1DbSSSVVtG0lw8PDNDAwoLZaw/LycvWzrtAQ5C8c5C8c5C8c5C8c5C+cevnbUp8tAdZRZJ/fHQvbjPg8o37rKDhp8db57VcvCSdXEq+myUkXVOgWY36fbT8HNs0et7S0pNZqa5X3G3Uc8mcXNA75swsah/zZBY1D/uyCxiF/dkHj6uWvtT5bAtw7/LsUxe9vJLeSbj61JyXtyjtUY15NAAAAAACAlrJFC0MAAAAAaGaXb9ygbxYK9MG1a3Tnzh3VCgDrBYUhAAAAADSVS9ev0/fPnqWvPvssvfTWW/TexYt0+/Zt9erGSgYZuDAAv+NEdfzmoubgzvhPDdDWliQ5oQA0DRSGAAAAANA0uCj84blz9JWnn6YH2tup/8QJenlhgd69dGljisPF8dYs1nhwRT3SPS+iaFv1Pq3vXRV5RnvSPI6lwFsc76NsvECOfDZrljJmvCoWnUJ8TdOywfpBYQgAAAAATeGiKAp/IIrCL4uicIdq2y2Kw8FnnqFvnz9PixtVHLaYxfGkO02aMbZGgaaDzXm9OENTlBb/m6IZXcUlclTSxyqlaCpmTp82S6NZotygGrBjdppPrM5bolxxxC0kuwYpR43PNw7rB4UhAAAAADSFl998k76UTJaLQm2/KA6/+OST9D1RNF4XxaOWTGYow71ZbW2UmVU9W3JdBTDuBSv3WFUKGO4ZG8/o9so+4316rug2SqqusBlLnB9ZhKnY6t60BRpV1xekvXJ96pqr3ocRVzWnNffOrZ7jemZKFGqlPJljK3bl84Hm4F7knVOD1Bufp6lyZWjoOEpxtSqJQnAikSI1HTifyBjUsUQL83E6Kl/roJ5UgooXLMeEewKFIQAAAAA0hedFUfjSa6/R8t27qsX1zpUrNH3mDB3ftYtu3rypWoX5InVOOsRzjU109xHp9ZHKLYqZWJbiqseqlCtSt67sRPG30Kt6sox9+idzlFA9YnM8XL1PnJ+O/jnVO8bxccrqLjF9raK9lKPKbZS+7fq8bkGXiS3QkD4u99KpuKH0BE3rSpCLsnRvVQHIpsrFmIcqgMuFrMhVdS/ioiwqU6LK6+pN0/zUzOr3LgvBToqpzcULRUqkejxzgeuifZp61fthHUfjNL9QUltwr6EwBAAAAICmcEAUfl94/HE6dfo0XVXFIReFXCwe37GDDhw4UD1pvu6ZinWKYs5Yly+6iqLI03c1dvSkKDEx7faoGe3efaoEjdPMnr3uCXEBF9xiyuhFk9cxv0CyJPJtN84rFGmCus0CTsVxwTahKsPZ6WLlFk6TUbhVUQVwuZAVlWnV+5O3karr6+ql9Ly6ndQsKEc6qTTX7ykEvTqof47P0UvTZm8p51PnB+65Np7kUK3XNDY2RidPnlRb0KqGh4dpYGBAbbWG5eXl6n9EoCHIXzjIXzjIXzjIXzjIXzj18uf32ZKfIeSBZviZQr59VPYUiqLw8OHDdOTIEdq7dy+1t7fLWL7dcpKLEi7GuMPQu27G8A78mux5y9OItz3o/sZrNklR+KRK7tzYZnxf0OuwtQtV11GFe+NG6eicKLqSF2jQEpMR19Spr8mw6pie98e3xcay1X2IiZwoR6dm3BjjenU5yvv00aTb22oxm2mj6V41ZzgPiDPdqwapgbWK7PO7Y2GbEZ9n1IfWZ36fbT8HNs0et7S0pNZqa5X3G3Uc8mcXNA75swsah/zZBY1D/uyCxiF/dkHj6uWv1mfLW7duOe+8/74z9Ld/6/zkJz9xzp0751y5csVZWVlREa5EIueUeKWUs68LafFxN11w10u5hENqw4xZtT+lHbWLf5wP83V5PrW9qt1yHb7XJ5jvw4v3S6fTjijaVEs1eVzjPbGCiNfXVlb1/kpOLuE5Z8Hd5zfN/bjNPLaK0a+XcmmnclkF8T4S5W2+Lr9rhuD4dymK39/IbiXFJKQAAAAAEIXt27dTx6FD9MJTT1EsFlvVU9iIfClHxW73tsdYNk6Fer1THf3yuT2+bVMPPtOIoXjlNsu+hXjl1kzj9svYVIpK+jr82j3M9yGXZOVZR74FtTghzu3TS8fPPcrnK/W+Yumm3tq3xcrbSKtvZ9W3k35opqUrr46tbhE1bzkVOo4SZWP6vDw0qu655OcX5yluffgR7glVIFaxVZK1/qpz8do151tvvOF8tLLi/OWPf+z8y/vvy7/0wOaDHsP6tloc8mcXNA75swsah/zZBY1D/uyCxiF/dkHj6uWv1mdL2NzMnk9fnp5FWLum6TFcj0lIFxcXKZlMynX9NSw+TvkvLMYyPj5ubedr4K8mvV3rWAAAAADQ6jyTtpcXcxqKraujf5Jyxe7yZPY2bd1Fyk3anpmEeyVUYbgRk5DOzc2ptXD4OKIQplKpRIlEwh15SSz9/f1V23rp6OigdDpdLvb4a6FQkOu1jgUAAAAAra6L8urzX/WyeoCXrUmNQlrjtl3kqvmEKgwbn4Q0SZlMRv5FhXl767iXjvX19dH8/Lxs+53f+R3Zxsz9eZmddf8KoXv39BJVL2M+n6dsNivPMzU1RV1dde5JBwAAAAAA2IRCFYaNTkLKxV5vb6/8iwrjHjb9FxbujRsdHZXtk5OT5Z64Q4cOyTZm7s/xIyMjsp0fSuZtbudevEbpItRWWOZyOeru7pbXBAAAAAAA0IpCFYaNTkLKxZ7Z62b29HHxVSwW1St25v5cDGre4zbKvB2UF/P21aNHj6o1AAAAAACA1hSqMNy2bRs98uCD9NyxYzQsisMzly/Td19/nU7s3FmehHTPnj0qejUu7riHb609fRuBC1bujeTbWwEAAAAAAFpRGw9ZqtZrGhsbo5MnT6qtajzADA808z/++Z/pD++/nx544AFZGHrnm+FbNM3eOHObnzfk5/h4m3sSuWjkgtGMMdc5hos13uYeRy4secAYs93G9rr3ujS+Ju4x5N5IjhkaGlrV41nrXJvR8PAwDQwMqK3WsLy8XNVzDY1B/sJB/sJB/sJB/sJB/sKpl79any0BILjIPr+L4msV2/wW9eaa4XkLP/zwQ+df//VfnatXrzorKyvqlYpEIqHWXOl0motSufC6+bp+7dFHH1Ut1fuLQrC8XSgUysfhxXsek7mfZu6rF28cb3O7yXaszQ7zGNa31eKQP7ugccifXdA45M8uaBzyZxc0DvmzCxpXL3+YxxAgGk0zj6G2fft2OnjwoLx9dN++fVU9hZq3Z41H/RTXIBdeN1/Xr7333nuqpXp/7h3U29yLp4/Dt33G43HZbmPup+l9zcUbx9vcbrIdCwAAAAAAYLOJrDC8l8wpLPiZQC4qAQAAAAAAIJiWKAzNnkdvrx4AAAAAAADU1hKFIQAAAAC0lss3btA3CwX64No1unPnjmoFgPWCwhAAAAAAmsql69fp+2fP0leffZZeeusteu/iRTkKPgCsHxSGAAAAANA0uCj84blz9JWnn6YH2tup/8QJenlhgd69dGnDikOekoynKlsr3lePf2EuPBWauc10u2aee3Z2tuo6+DWO11+DHKfWtQCYUBgCAAAAQFO4KIrCH4ii8MuiKNyh2naL4nDwmWfo2+fPy3mzN0PPIY9az+NelEolSiQS5XEw+vv7q9oYr/Nc3lzIefHI+zzaPheIbHR0lHK5nBwZP+hxal0LgAmFIQAAAAA0hZfffJO+lEyWi0JtvygOv/jkk/Q9UTReF8WjyewF071r3l42ve3tsdNFFL+uR7lnfX19ND8/L7d5H47z7ufdJ4yhoSFZ9NkMDg7SyMiIPOfExETNgq7WcQDqaeNJDtV6TWNjY3Ty5Em1Ba1qeHiYBgYG1FZrWF5ept27d6staBTyFw7yFw7yFw7yFw7yF069/Nk+W16+do3++h//kf7T8eOyp1B758oV+u7rr1PP/v2yt+zhhx+W7VyccTHEPWtcOHFBxz1k3K7nmjbbTdwLNz09LUe35+KO58Lm4zDvPvy67pnTr3HhaO5jYzu3t01fKxeZvb29FIvFVu3DrxWLxfJ7ZY0ex3Yt0Boi+/wufshXsc2IzzPqQ+szv8+2nwObZo9bWlpSa7W1yvuNOg75swsah/zZBY1D/uyCxiF/dkHjkD+7oHH18mf7bHnnzh3nf//iF86Ls7POlZUV2Vb85S+d7NSU88orrzhnz551rl69KtuZ+VG2VCo5iURCruuvzGzndd5HL7Z4Zu7DzH28+9biPQ7ztul13R5kH9bocWzHgNbAv0tR/P7iVlIAAAAAaArbtm2jRx58kJ47doyGT5+mM5cvy57CEzt30uHDh+nIkSO0Z88eFd047kUTBZLs/eOvQYmCSu5jLlHjntBUKkUzMzOqZW2iOg5sPSgMAQAAAKBpbN++nR47dIgyojh89e235e2jXBDysnfvXmo3bjHlgk0PzGLi2zw1s0DieC6cWL3CyTwGr9vOEzV+fjCbzaqttYvqOLC1RFYYYhJSAAAAAIgCF4cdojh84amnZC+frShkk5OT1N3dLZ8B5DiNR+7kNl4WFhZUK8kRPm3tXlw8ptNpGceDz3Dvoj4PL/w831rxdeqBbWz4ucUgojoOgBZJYbiWSUj5Adgwv1QAAAAA0Lq4ODx48KAsCvft27eqKGRcwOlbO81bQ7nHTLfz4DJ6wBVet7XbBmTRsXws8zy8cHyQQVx4P2+ceRzmfZ0Hl/G2RXEc2zEATKELw2achDSKgpOPof8qZC7eYY71wtfAX016u9axAAAAAAAA7rVQhWGzTkIaxV9D+Bj8Fxj+65P5wDH/1cj2ADL/FYZvOdDFHn/VXfi1jgUAAAAA4aFHDCCcUIVho5OQ6l41Xsz7wM0ePrP3j7+aE4d6e+s4lvGcLPoea47R+5vn40Uzj8tLVA8T8y0H/KAvH29qaqrmvDYAAAAAAADNIlRh+LwosF567TVavntXtbh4EtLpM2fo+K5ddPPmTdXqPiTLvWi696weLvZ4gk6OZ+b94nyc0dFR2c4PHuueOLMXzjwfP4TMxSAzj8uvj4yMyPagdBGqF7Ow5fPww8l8TQAAAAAAAJtBG08+qtZr+s53vkMnT55UW66VlRU50Aw/U/gXf/RHsqeQi0IuFvV8Mw8//LB8YJhxAaW7+Lk3j3v6eDtIO+PXzJ5GLgb5dXMfpvfzHpf35WLQ73w2tte912Xi3kIuDLnw5VsaTPXO1QyGh4fpa1/7mtoCAAAAWB+2z5YA0LjIPr+LQmkV24z4PKO+za1bt5yF9993Xpiddf7hgw+cgb/5G+eVV15xzp4961y5csURxaOKdBxRyKk1xxGFU3k7SDvjy+XXmRlnrjPb/hyj36633dz2sr1eK57PUSgUrDH1ztUMzO+z7efAptnj+I8fQbTK+406DvmzCxqH/NkFjUP+7ILGIX92QeOQP7ugcfXy5/fZEgAaw79LUfz+hh6VtJFJSPkWTO41Y+akotyu1ZpsVBRV5V44b5x5DI3b9PODHM+Dw6wnPeCMfrZwIyZCBQAAAAAACCt0YciCTkLKRRO/zs/lmZOK+k1C6uU3KakeEZTb9aigrFSqTEbKg8Lw4DBR8D5jyAsXvOaAM3rCVQAAAAAAgGYXSWHIgkxCykWT47iDx5iTipqDytSabFRPNOqNY/o1PpZu54JRx/OimfvVG9rY9rp5TL144/S5TfXOBQAAAAAAcC9EVhgCAAAAAADA5oTCEAAAAAAAYItDYQgAAAAATefyjRv0zUKBPrh2je7cuaNaAWC9oDAEAAAAgKZy6fp1+v7Zs/TVZ5+ll956S86bffv2bfUqAKwHFIYAAAAA0DS4KPzhuXP0laefpgfa26n/xAl6eWGB3r10aeOLw8VxShqj0CfH3WnXmGzPVE9NNpsRbclxqkQt0njS2yb29WwzWxurnD9DfDbeNq9DXqPY9+t8nnJsZamKBaihjSc5VOs1jY2N0cmTJ9UWtKrh4WEaGBhQW61heXmZdu/erbagUchfOMhfOMhfOMhfOMhfOPXyZ/tsedEoCneoNnb17l0aPn1azpvNU6TxaPgbIdOWpM7SHPXLabRnKZPhkfDdqcmSyQzFqUidk+p1LtD6psRKiibn+knuItsWquMELuTKMYqtTZLHoPJr9vNWXl+1DS0vss/vjoVtRnyeUR9an/l9tv0c2DR73NLSklqrrVXeb9RxyJ9d0Djkzy5oHPJnFzQO+bMLGof82QWNq5c/22fL//rKK85HKytqq9o/fPCB819+9CPnww8/VC2Ok0uQky6oDafgpCnh5GZzTkJ8xOWPucTbJffVUi6h2qrbE4mck0tzW1ocoVra0qbxfgVxzIQ6UEEcI50T5xbt6tDynPw6v6bjmBmj2dqkUvUx5Xoh7ZB+457XV21Dy+PfpSh+f3ErKQAAAAA0heeTSXrptddo+e5d1eJ658oVmj5zho7v2kU3b95UrUT9Q2mamFa3c85O00R6iBa6FmhIzzVdStFUn3uLZkf/XHn+aacQp+yo2m8+Swu93J4nty+wojc9Qd18S6bnllEt1j9E8ewozS6O00gxR4M96gVpkWamiFI9HdTVm6b5qRnrraJr0pWnAnWTz2UBrAkKQwAAAABoCgdE4feFxx+nU6dPy9tHGReFXCwe37GDDhw4UH17alcvpSem5bN3s9MTlO7toiKpYo6XWJbm5xeoxLF8i6Vu754gKl5wC7WEKOi8FaHSlVeFZO+0u9+qSqzLLR7FeeJDnls3F2doilIk6kL3OuenaCbCx/26BnNUHLE/lwiwFigMAQAAAKApbNu2jR558EF67tgx+UzhmcuX6buvv04ndu6kw4cP05EjR2jPnj0qmrmF2fTsLE1PpEnUhbLQK+meQbm4PYHJmCjTSqqtlKOE3D+grrzYr1AuQk1coCVInduwODMlitIsxWQx2i3K1XmairIy7OinydQUjc6obYCQUBgCAAAAQNPggWUeO3RIDjTz6ttvU8/+/bIg5GXv3r3U3t6uIl2y56y7m4q5QVkAxkUxpu8SrZJQvXeCLNrc1ZqSZg/h4gUqJjoppjbLRIE2t+o2VL6NdJ4fA6wUqIWIbycVOvqHiLLZQO8FoJ7ICkNMQgoAAAAAUeDikEcffeGppygWi/kWhVJHD6USCfksH8uXuFBUt4zyoqaBGIrr3rs26luIB+oxTBW7K8fhHsfJgCN9yttIPbeomreTlnsSeXGnobC2CUl5Oyy/Vmmr6KK8KDgBohBJYRh0ElK/+VlC43vG1+vYAAAAALDhuDg8ePCgLAr37dtnLwrZ7Chl9bN8TPbgGT11atqG8vOCYpnL52lOteuvNv1zxnGcynQTzLofn5vb9VfV7BJFnDpG1fWp3kZbG6u0qzjvcfk2V7PNem6A+kIXhmudhLRmIbcOhV6jx5OTkZb/alNZeJJQc6JTd0kSzx1q/nVHznWjtmsdCwAAAADWTg464x34BQAaFqow5ElIfyCKwi8bk5DuFsXh4DPP0LfPn6fFGsXhRv8lo9Hzlf9CxA8nGw8xz/GfeVY91Oz+9aeQnqARVewtjo+IBvcvOzWPBQAAAABrxj2Bas55AAihjSc5VOs1jY2N0cmTJ9WW669mZij9x38sewq9eBSp//XWW9T/+c/L2wAY99pNqgJNr9N4kmJZ9cgsF02ibSbZRpWmEs31zLj3V7stlCuJQozGjTZB7etXannPnYpnKTvhvsYPBvv+B4V7L/uovC8zj1WNewlHqLOQoilRF66KsRyr2QwPD9PAwIDaag3Ly8vVQ1tDQ5C/cJC/cJC/cJC/cJC/cOrlz/bZEgAaF9nnd8fCNiM+z6jv9cHHHzunXn3VubGyolpcxV/+0hn4m79xfvKTnzi/+MUvVKvjJBI5p+RZT1DaKbhNTiGt1ku5qti0EaNfOy4uXRR0VW063qbq3Oa+hbQjikr/fS3H5v05deXFeL2US4i2hJOzHTDAdd5r5vfZ9nNg0+xxS0tLaq22Vnm/Ucchf3ZB45A/u6BxyJ9d0Djkzy5oHPJnFzSuXv5sny0BoHH8uxTF72+oW0kbnoTUIi4nIXWfxevKVx60NdkmKn0t4T8ZaV3mvrHOxuaxYcbtoHIxegA7jsbVGgAAAAAAwOYQqjBsfBLS1fKyuOqlaVn42YbhFbyFmJNvvJjbELOU6SYqFOKU7cMoqQAAAAAAsDmEHpW00UlIvTJysBYevrdEuUSRLuhqan6BSmrVNlFpXM8DIwSdpHS9lQec6RqkHPlMrgoAAAAAANBkQheGrKFJSL2yMTV9Q4ymUpPu/DAd/TSUdm8f5SkdbBOVDnKvXMzdDjpJaWSqJiDlxZ2uIjaVUreodlD/JF+zTw8oAAAAAABAE4mkMGRBJiE1p4zQ6+6tpO5iTt+gJyGVbbaJSnkyT7VtTlLqx3Zuqd4koJbXqycg5cWdrmLV5KLG5KRSvXMBAAAAAADcA5EVhs2Bp4swe/Kqe/QAAAAAAABgtRYrDPlZRW9vXqVHDwAAAAAAAFZrscIQAAAAAFrB5Rs36JuFAn1w7RrduXNHtQLAemnjSQ7Vek1jY2N08uRJtQWtanh4mAYGBtRWa1heXq47nyb4Q/7CQf7CQf7CQf7CQf7CqZe/Wp8tL12/Tj84d46+lEzSt//u7+jPfvd36dFDh+SYFgBQLbLP746FbUZ8nlEfWp/5fbb9HNg0e9zS0pJaq61V3m/UccifXdA45M8uaBzyZxc0DvmzCxqH/NkFjauXP7/PlhevXXP+2xtvOJ+o7RsrK85/LhSchfffd27duqVaN4eE+KjNH7eJ0k5BbSdyJfdFVso5iUTO+fOEjqteqmIBfPDvUhS/v7iVFAAAAACawkXVU/jlp5+mHaptd3s7DT7zDH37/HlavHSJbt++rV5pfnOlHInCj0p6pPpEmuJTfasGReyfU+NilOPdbXPEfoD1hsIQAAAAAJrCy2++KW8f1UWhtl8Uh1988kn6nigar4viURtPtlGmPGk0j06fpPEfj1PSMjL94njSOmJ9MjlO4xluc+efTiYzlBHH5bjM7KI8h7vuxkuL5jkambe6kwaH4pQdxUzX0HxQGAIAAABAU3heFIUvvfYaLd+9q1pc71y5QtNnztDxXbvo5s2bqpWofyhNE9OqyJqdpon0EC10LdCQHpm+lKKpvnHiGrCjf85t46VgFGfzWVro5XbVqzdfpM5JjhHH7u4j0usj7nFYJpaleME9VilXpO6qqrGOrjwVqLu60ARoAigMAQAAAKApHBCF3xcef5xOnT5NV1VxyEUhF4vHd+ygAwcOVA9o09VL6Ylp2WM3Oz1B6d4uKtIEdevePFHAzc8vUIljzV6+7gmi4gW30EvkaFBWhEoiRT18B2eskxLmunzRVTT26XURpxUAADOQSURBVOhJUUJdQ1BdgzkqGoUmQDNAYQgAAAAATWHbtm30yIMP0nPHjtGwKA7PXL5M3339dTqxcycdPnyYjhw5Qnv27FHRrIt60xM0PTtL0xNpEnWhLPT0M3ru4vYEJmNTlCqpNn6WT+5/j3T002RqikZn1DZAE0BhCAAAAABNg6ekeOzQIcqI4vDVt9+mnv37ZUHIy969e6m9vV1FumTvW3c3FXODsgCMz2fJ+gif7v0TFmemaN5dXRPzHPJY6V73NtQGdPQPEWWzoa4DIEqRFYaYhBQAAAAAosDFYYcoDl946imKxWK+RaHU0UOpRIJSqurLl7hQVLeM8pJ0b9kcimcpptr6FuKhegzNc8SycSrk7WVhUt7Kyue1DVDTRflCWq0D3HuRFIY8Cen3z56lrz77LL301lv03sWL9YcS5vu81S8qAAAAAICJi8ODBw/KonDfvn32opDNjlKWKr2BfJvmnHkr6Vw/8Utd+UrbXD5Pc6pdf9XK23wc2zqrOocatMbCG+M9Fw9Eo69P8p4HYAO18SSHar2msbExOnnypNqq4KLwh8Z8MzyK1F+9+ir9h85OeRsA/1JbcWHIAz2tww8/F5w1j+s5d934AHgo46zlXoBEriTnoOGHnatfTlCuNEfZWIYK5f+g8DDL0/SLxAT9rxrHWk/Dw8M0MDCgtlrD8vJy9YPq0BDkLxzkLxzkLxzkLxzkL5x6+fP7bNmo2UwbTfc65NNpB9DyIvv87ljYZsTnGfW9lq5dc771xhvOJ2pbu7Ky4rwwO+u88/77zq1bt1SrRynnJBI5p6Q2N9R6ntvn2H7nK6TJEQWfXC/lEk66IFdd9yBH5vfZ9nNg0+xxS0tLaq22Vnm/Ucchf3ZB45A/u6BxyJ9d0Djkzy5oHPJnFzSuXv5sny0BoHH8uxTF72+oW0kbnYS0aphgvudaNVe1+01EWr7tlHvVdKw72ejqiUndWHOCUh3Lxvv0/d5tlBQnq7qltepaKveDV85RfaywuvIFimf7aHx2nPqmUtXDJQMAAAAAAGyAUIVho5OQmpOBOsYwwZmYfSLSPn6YV7UX4u4cNOPJbhKNbqxY5G0D3olJNT1BKcfKSUrdQq9/UpxbDWXsvTXTd8LS8jnUsRqde0YVorqwrBS6XTSYI8p2T1FqEveUAwAAAADAxgtVGDY6Cak5GajJbyLSuGx3i7muvFv0TZHlGD7HNYcllhOgijNdqFPN+U5Yap7DM8lpIKoQ1QWt+aBxx9G4WgMAAAAAANh4oQrDxich9eEtmlTPX16u99K0LBptw/y2glnKcCdoIU5Z1VMKAAAAAACwkUJPV9HIJKTx+SmaUZWPObGo30SkGfmwYZcoEEuUS7i9fSnymbS0ntlpmjB7EFWvpFcUE5Y2YnF8RFSFohDuGqTcWt8bAAAAAABACKELQxZ0EtI894rF3FtGzYlF/SYiFcGqLUZTqUnixwH5+UAztuYgMOZzfdwrp2/f7OinobR7+yoPPmMKOmFpw7zPGKpBdmLlAWc61Htr1Z5RAAAAAABoVpEUhizQJKQ8iae6XdScWLR6klCxqHb3VlIVrweJ8cRy3eadCLS8XXWLavXANHqSUz5u1f4+E5auivGcs8zntar3J5c5WeiumtTUvM5a5wEAAAAAAIhIZIUhAAAAAAAAbE5tPMmhWq9pbGyMTp48qbagVQ0PD9PAwIDaag3Ly8tVo+NCY5C/cJC/cJC/cJC/cJC/cOrlD58tAaIR2ed3x8I2Iz7PqA+tz/w+234ObJo9bmlpSa3V1irvN+o45M8uaBzyZxc0DvmzCxqH/NkFjUP+7ILG1ctfvc+WH1y/7pyamXEuffyxc/v2bdUKAF78uxTF7y9uJQUAAACApnLp+nX6/tmz9NVnn6WX3nqL3rt4kURxqF6tNjs7Wx7cLyrJZFKt3TvNcA2wtaAwBAAAAICmwUXhD8+do688/TQ90N5O/SdO0MsLC/TupUvW4rC7u5tKpZIc3G+zF1OLi4sNvQeOrYx4X1nGx8ertplu18xzcXFtnpdf43j9Nehxal0PND8UhgAAAADQFC6KovAHoij8sigKd6i23aI4HHzmGfr2+fO06CkOuShhHR3uGO5zc3Py61bB75cLYi6ME4mEGvneof7+/qo2xutTU1PlnJm6urooHo/LApGNjo5SLpeTeW3kOLWuB5ofCkMAAAAAaAovv/kmfSmZLBeF2n5RHH7xySfpe6JovC6KR43nz2bcK8W9VbrnyuwxM3vCdBsvXAR5e9ZsxY6NPpc+jrlu4uOZx9c4PpPJlNv1fn19fTQ/Py/bLoki2BYTxtDQkCz6bAYHB2lkZERe88TERM1irtZxYPNCYQgAAAAATeF5UTC99NprtHz3rmpxvXPlCk2fOUPHd+2imzdvqlaq6pkyewuz2Wy5t4p7whgXY4VCodzOvWRc/Ohtfi1oscPF2+TkpNyHb2XV61xYmbhw1efkHjgu9Bjv39vbWz6v3o+Po9/Pz3/+c2tMGPyema3I5N5BzhUXp3y+WmodBzYvFIYAAAAA0BQOiMLvC48/TqdOn6arqjjkopCLxeM7dtCBAwcCTyHCvWwsn8/Lr0wXNJrZo8cFXrFYVK/UxsUbF1Jc+JnrXvyaPmdPT4/siWNmu20/FiRmLXTPoA2/xrx5sql1HNicUBgCAAAAQFPYtm0bPfLgg/TcsWM0LIrDM5cv03dff51O7NxJhw8fpiNHjtCePXtUtD/uZeNFF31+uODiXkeO5a9bARexqVSKZmZmVMvaRHUcaB4oDAEAAACgaWzfvp0eO3SIMqI4fPXtt6ln/35ZEPKyd+9eam9vV5H+9CiYXPBxz5t+dtB766Pu7WPrUeDwLaP6nHz8dDot12vhfdYb30LLt9uGFdVxoDm08SSHar2msbExOnnypNpa7fKNG/TXb75J/1H8gh24/376zGc+o16BzWR4eJgGBgbUVmtYXl4OfNsJrIb8hYP8hYP8hYP8hYP8hVMvf/U+W/LoozzQzKeffkq7du2SPYXeopALPn4mTj9fyM8R8rrZS8jP9nEBw7HmLZn8HN309HT59k4u2vhWUt5fH8ePft08v/damPecXKgy8/je/fg5RL6mRx99lN577z3ZZju2yfa6mQM+r/c9ccHKt4Kabet5HFg/kX1+F9/gVWwz4vOM+n4uXrvmfOuNN5yPVlacv/zxj51/ef9959atW+pV2EzM77Pt58Cm2eOWlpbUWm2t8n6jjkP+7ILGIX92QeOQP7ugccifXdA45M8uaFy9/NX6bAkAwfHvUhS/v6FvJW10EtIgkslxCjZYsL+kuqe8rS1D3IHP28lx46iL4/I8X0/quOqlKhYAAAAAthzbZ0ReuEcMoNWEKgwbnYQ0qLm5fnLv9l67uVKOEokclZw8yXGVEmmKT/WRt97rn3MfTnbK8e72XH/YKwAAAACAzUx+RrQs+rlEgFYSqjBsdBLSZDJDGaOHLqOe/+Weu/EMt6nevaoew1nKGH+hkftwb1+5Lbmq2LPrpMGhOGVH1UkBAAAAAABAClUYNjoJKc0XqXNS/bWlkKaJbrcQpPksLfRyu+rdM4wnu4kKlb/Q5EVAJrZAQ2rbKaVoqi/graddeSpQd7kgBQAAAAAAgJCFYcOTkCZS1KN73rt6KU1FusAVXSJHgz7zaE7R6teKNEHduscwlqX5+QUKOvNM12COiiPhn2EEAAAAAABoFaEKw6gmIW2Y8Sygu6zuafTV0U+TqSkaxVycAAAAAAAAUqjCkK15EtLZaZowexB9pChL3scC4/Or2xrR0T9ElM3S+k8fCgAAAAAA0PxCF4aMi8MOURy+8NRTchJP36JQFHQxfQsoPzoYYPTR/skcFbvVPmLh5wPzpeq2Nsv0Fkl5iymfTz3HWKWL8oW0WgcAAAAAANja2niSQ7Ve09jYGJ08eVJtrQ2PNjoZwVQUsH6Gh4dpYGBAbbWG5eXl6mddoSHIXzjIXzjIXzjIXzjIXzj18hfFZ0sAiPDzu2NhmxGfZ9QPK5HIOSW1Ds3J/D7bfg5smj1uaWlJrdXWKu836jjkzy5oHPJnFzQO+bMLGof82QWNQ/7sgsbVy18Uny0BwP1diuL3N5JbSYOKYuJ6AAAAAAAAiNaGFoYAAAAAAEFcvnGDvlko0AfXrtGdO3dUKwCsFxSGAAAAANBULl2/Tt8/e5a++uyz9NJbb9F7Fy/S7du31avVZmdnywMSRiWZTKo1gK2jje8nVetltoeFX3nlFbUGre5P/uRP5NegD903e9xF8Y/JQw89pLb8tcr7jToO+bMLGof82QWNQ/7sgsYhf3ZB45A/u6Bx9fLHA2bYBp/hovCH587Rl59+mnaI7eW7d+mvXn2V/kNnp5wijUfDN3FBWCqVqKOjQxZ0c3Nz6pW1i+o4jVpcXKS+vr41n5uve35+9YRsuVyO+vv7q4pnLgF4W7/G9PmHhoZoZGSkfB3czjMPcJ75q1brGLxvveuBaOjBZ8L+/jbUY7h//34sLb4AAAAA3CsXRVH4A6MoZLvb22nwmWfo2+fP0+KlS1U9h1yEMC4K2b0o5poJv38u1riASyQScp0XXYSZ7YzXp6amynnUurq6KB6Py95YNjo6Kos5znPQY7B61wPNBbeSAgAAAEBTePnNN+lLyWS5KNT2i+Lwi08+Sd8TReN1UTxquveKe624d4oXNj4+Ltt0u6bbeOGix4zjxVbc+DH30+cwz8XHMrdt5+LXM5mM3Gbc08Y9bLzN8Rzj3Yd59wuDewe58PMaHByUvYZ8zomJiZrFnN8xYHNBYQgAAAAATeF5UfC89Npr8vZR0ztXrtD0mTN0fNcuunnzpmqt7gEzewuz2Wy5d4p7vhgXU4VCodzOvWJc7Ohtfi1ocWMei68hCNu5uAjs7e2VbWxycrL8fjieC1+9D5+HC0fm3S8MzgPTvYMa9w5y7vicfL21+B0DNhcUhgAAAADQFA6Iwu8Ljz9Op06fpquqOOSikIvF4zt20IEDBwI9R8V0b1o+n5dfmS5gNLNHrru7m4rFonqlNi7MvMeqx3YuLgLrHUfvw0Wifl4vyH6N0L2DXtzOgpzL7xiwebTx5KNqvaaf/vSneAZtC7h69Sp97nOfU1sAAAAA6+M73/mOdfAZfobw3UuX5DOFfPuo7CkUReHhw4fpyJEjtHfvXmpvb5exXGzpgU4Y9+SZPYdcUDHuWfO+xvh17onj3jHzWLZYE++ne+v89vNem+1czDxPvfej1bs+73G0WsfnW1cZPy+o22zHafQYzO96IBo8+MzXvvY1tbV2DY1Kuh6F4b7HEnTst4gun5+ndz9WjbBmCwsL9Otf/5o6OzvpN36j8Q5hLgwxKmltWy0O+bMLGof82QWNQ/7sgsYhf3ZB45A/u6Bx9fLnNyop4+KQB5r5H//8z/SH999PDzzwgCwMzaKQ+RUpXKDoZ+K4jW/R5Dh+Fs7s/fIWNbqgMdtt+HV9LPMazILRPB6znYuZ5+Fj6dtHGR+Pb+P09tjVuz6/QswvXxqfj3sjdZvtOI0eg/ldD0TjnoxKasOFHX/zy8sTh9QrcC/wf0j/6Z/+iX70ox/R+++/r1oBAAAANg+ekqLj0CF64amnZKHk7Smsh58x5AKFl1QqJXvpuDjkWzh1Oz8Px8/Q6W3+43pQ5rH0ADiMR+70O16Qc/F1ptNpGcPFI/cwmtfMRVgY+nZUPpZNvWcJWRTHgOYUujD8+N15mj9/2d24fJ7mf3bJXYd76saNG/TGG2/IX86PPvpItQIAAABsDlwcHjx4UBaF+/btsxaFXEiZvVB6nXvc9KJ7DjnWbOdeOH7+UG/zut6/Xs+WeSxz8BlzgBnzeMx2Ltt5dBwfy3vNjVyfLcY8FvPGcE7MNttxGj0G87seaC7rM/jMvsdU7+ET9ITRk3hf+WXVJha+jbSK3tezn97niUPuUe479ET5db99mLdHU++/VXBRyH8R4yLxV7/6lWoFAAAAgHp0T5134VsjAVrNOo9K+ksqzc+T7FDc/Sj99j7xVRRxshjk3kX9mnbfIXpCvLj885/K12RPpNgvJoo57pl0N2N06L599NuP7iYRSD8tke8+XDzyucqvieVnlz5VJ9s6+C86fFvpzMyM7EkEAAAAgPrM3jFz4R4wDb1h0CrWtzD85FPylmH79rtdhJevrh5p5r59DxA/Crn70c+5PXyqO3H3Tnea04/f/Sn9fHk3Pfq5Y/RbdJnO822rdfZh+rWt1luo8V+2HnnkEerp6aE9e/aoVgAAAAAAANc69xiujdnDJ5fycKU7aKfPYDu2fT699LPK84+CLBAf427LrYPvzed7vX//93+fdu3apVoBAAAAAAAqNrwwvPnJsvy6877VvXeffvqJ/Lr70d8mW/m27zHVUzh/Xvz/b9Exfr6wzj708btuofjTn5N75q2Bewa5GOSRrLg4BAAAAAAA8BO6MJSDu6jbN+m3jrmDwdTw6aUS/VxUaPr2Tr2rxEWcLOBE0ce3harliUP/hg49oec7fJc+Fv9bcg9Cnzv8ic8+7jOGejvxuUdpNz+T2OKTJX72s5+l3/u936M//dM/lbePAgAAAAAA1NN248aNVRPc2/ColusxwT00F57gnnsaW0nQiXjBDvkLB/kLB/kLB/kLB/kLp17+xsbGfCe4B4Dg9AT3YbU5PLSSh+0X+ZVXXkFhuAVwYfgnf/Incj3oP4jNHnfx4kV66KGH1Ja/Vnm/Ucchf3ZB45A/u6BxyJ9d0Djkzy5oHPJnFzSuXv74wywKQ4DwdGEY9ve3KQefAQAAAAAAgI2DwhAAAAAAAGCLQ2EIAAAAAACwxaEwBAAAAICmc/nGDfpmoUAfXLtGd+7cUa0AsF4aKgx5YBIsrb0AAAAA3GuXrl+n7589S1999ll66a236L2LF+n27dvqVY/ZDLW1tcklKsnkOC2qdYCtInBheOfur+mD+ztoadfjWFp0+eD+x+T3GQAAAOBe4aLwh+fO0VeefpoeaG+n/hMn6OWFBXr30iVLcThLme4i5UoO8UD7LVXQLY5TUhW8vCTH3Xcm2zKzcl2bzYi2qve+SONJb5u94PXLWeXcGZFld1tfg8TXJ/b9Op+nHFtZqmJhUwhcGH566xZ95u5NtQWtiL+//H0GAAAAuBcuiqLwB6Io/LIoCneott2iOBx85hn69vnztOgtDhcvUJHidLTD3Zyb6ye1uullYlOUUgWv4xQovlByX0ikKV0coXLdJQq0kWKCEmpTWpyhKRJx4v9n1lifzZVylEjkqOTkqYsbxHnjU32V8yr9c+oay/Hu9lx/q3wnto7AheEny8u08851tQWt6H7x/f1k+YbaAgAAANhYL7/5Jn0pmSwXhdp+URx+8ckn6XuiaLwuikctE8vSPE1QN/dSJd0eLK5bFseTld6rco/YLGV0m1i4060qri25qujxw71xlU47Pq7at6qXr3I823n4Wse5p0/1yK1WKXhJlGb5vCzPhE7qTRFNqYpvdjRL8ZRoMCzOTBGlBqk3Pl+OC6+TBofilB21Xy1sfm03btxYNcG9zUcffUTnflakj3c/Snd+4z7VCq3iM3c/pX2/+jn9n//HE/TAAw+o1tYQdCJesEP+wkH+wkH+wkH+wkH+wqmXv7GxsVUT3F++do3++h//kf7T8eOyp1B758oV+u7rr1PP/v3U0dFBDz/8sPsCF2J9RJOqp5CLLV7vE8XWkOrpms1kSFRVdEEUcwtDDpXrKy9+VnG6lxwRoI/j2+dlxJrrGXHeXt3D5rm2MhWfmOimeMH/evj20O4JsZIuuOdR3Gs7SqNt09Rb6qQRPsckUV/5XHwbqdyg/pI410gnlTz5Ma/H97365LYkrmu6V1x3zPP+/N4vrDs9wX1YbQ739Xr4/SL/9//+32n3vzlAH+16lH7dtk21wmb3G84KHRRF4a+uX6V//+//vWoN/g9is8ddvHiRHnroIbXlr1Xeb9RxyJ9d0Djkzy5oHPJnFzQO+bMLGof82QWNq5c//jDrLQxXVlbkQDP8TOFf/NEfyZ5CLgpfeu01OrFzJx0+fFgWhfv27XN38CleRtvaaILSVNBFmvFaVdHC+8teR4VvhRQxfX7FUhn3EorCTBxfrLiFkjgR9xaWjyWpa7Cc5zfFl0C3vnIhyRWiKhDNAs1t9hRpVTnh6xyhzpIoEsWJbDmw5oX55LZ8/KpidHU8bBxdGIb9/W1oVNLnnnuOrnz0gSwitv/6U9UKmxn3FPL388qHl6qKQgAAAICNtm3bNnrkwQfpuWPHaPj0aTpz+bLsKdRF4ZEjR2jPnj0q2l9ePufWS9Py1k2/WzVFsWM+x8fPyKn2+rqoNz1B07OzND2Rpl5dfRrP2LmLW5iu/TxCV17sV6D0xHTV++ga5OMY51b4NtL5+SzF5HvvFgVylLeTCh39NJmaotEZtQ0to6HCkD3/la/Q8rWrtG/557T/5v9HO+7+SvY4EQW6IxXuOUd+v+5bWZbfv/2qp/D5559XrwMAAADcO9u3b6fHDh2ijCgOX337bXn7KBeEvOzdu5fajVtM/WTkw31dokAsUS5RpAtiM0VZWvV4XCJFPap7SxZU7mogXJgVu7upmBss90rGRUFmfQRvDedJmiOP8iA7iU6KqU1JFGhzRo+oa5FmpuZlL2K5OC2kaX5qxjry6Fp19A8RZY0eUGgJDReG7Lnn/j0lPv8UXf3XC/SZXy7SwRsl+u1fXRDL/8bS9MsF+f3afvVdunHxPUomPo+eQgAAAGgqXBx2iOLwhaeeolgs1lBRKGVjaqCXGE2lJuVtlP2TXMhxm7tw3TUU1z1rbdS3EG+sJ6+jh1KJBKV0xSfkS9Xn0APfrOU8qWJ35Tjc4zgZ4BZNORppjgbNarGrl9LzanTSck8iL6on1dYmyFtf5Wu2HldRdIuCE1qMY8ED0gQRNG5paUmt1Rb1eVslDvmzCxqH/NkFjUP+7ILGIX92QeOQP7ugccifXdA45M8uaFy9/H3jG99Qa5tUIe1QIueU1CbAvcK/S1H8/q6pxxAAAAAAoLVVT29RWdzpJmanJyg9hIFWoHWgMAQAAAAAWIWfUTSe1Ssv7gifXfkaU18AbEIoDAEAAAAAALY4FIYAAAAAAABbXBs/gKjW103QiVDBDvkLB/kLB/kLB/kLB/kLB/kLB/kLp17+xsbGVk1wDwCN0xPch+ZYbPSoVFrU522VOOTPLmgc8mcXNA75swsah/zZBY1D/uyCxiF/dkHjkD+7oHH18rfpRyUFaBIYlRQAAAAAAAAigcIQAAAAAABgi0NhCAAAAAAAsMWhMAQAAAAAANjiUBgCAAAAAABscSgMAQAAAKDpXL5xg75ZKNAH167RnTt3VCsArBcUhgAAAADQVC5dv07fP3uWvvrss/TSW2/Rexcv0u3bt9WrFcnkOC2q9XW1OL5x52oCa3qvsxlqa2uTy+bN1SKNJ8V7yMyq7eDa2pI0vsl/QFAYAgAAAEDT4KLwh+fO0VeefpoeaG+n/hMn6OWFBXr30iVrcdiwJijymq5wCp2TWcp0FylXcniOdNUWAaPYlIsq2FZd66rrVwWeJy5pHstSyC2O91E2XiAn3+Ue04hPloPFezXa9XGcQpyyfU32fW1QG09yqNbXzfLyMu3evVttQaOQv3CQv3CQv3CQv3CQv3CQv3CQv3Dq5W9sbIxOnjyptlwXjaJwh2pjV+/epeHTpylz7Bh1HDpE27dvl+1cDEzO9VOH3AqIP/D3UWP7rWWfzcTz/hrOK+8fW6AhJ0+ipFrb98VjcTxJsWycCuqYbDaTIcrnacR7fO/3R24vUJyK1Dk5R/0qsOq6PNfsFnwj1FlS8aIozVCeuEasfo3Xp6nXuC4XF6MxWhhy1D4bZ3h4mAYGBtRWCO4899WimDnftLS0pNZqi/q8rRKH/NkFjUP+7ILGIX92QeOQP7ugccifXdA45M8uaBzyZxc0rl7+vvGNb6i1iv/6yivORysraqvaP3zwgfNffvQj58MPP1QtjpNI5JySWi/lEtzZoZaEkxMvVLWp2FxCx5CT4CA/pZyT0Psa+9vOw/i46YK77jgFJ2285mVeN6/n0pXzVI5hl0iknbR6D+lCqfx+qvaruva0uBqX37m8OWn0mtIqTi5iX/3+/HLll1tTLhEsfxIfz2jj8/L7KIj3YH6Pq/fj71ElNyLYeh0uzrO+Hs9+Bn3ejca/S1H8/uJWUgAAAABoCs8nk/TSa6/R8t27qsX1zpUrNH3mDB3ftYtu3rypWqt19M/J2xjlwrf1jc5Sn+xxctsK8QUqibj+yRyJAoHEx3ea011JFplYluIFdbyS2Ee1287D+ofSNDGtnk2bnaaJ9FC5p6qm+Swt9OrjiWOM1LkdcZ57wVRsN3eTrd7PvPZSrkjd+pk5n3OtykmD15Tn/Kj9nbl+1eqfK7/cmqbm43TUL3/i+mLm7ZziePPqJe65m5kiSvV0UFdvmuanZuzXzt+jRCfF1ObihSIlUj32Xs7FGZqiFIlDKhPUrc5ducVUvN+jcZpf4J+yzQmFIQAAAAA0hQOi8PvC44/TqdOn5e2jjItCLhaP79hBBw4c8L89lW8N1IVC9wRR8QLdJz/AZ4jLka6899a/2oqi0Bm07WA5jywNunopPTEtzzU7PUHp3oBnM88T67QWSVUSqkDhWHNdvugyr72jJ0UJdV2Bz9XoNfnxyZVvbk1G0baK2F8WoXoxi0uziOPvyfwUzejazSwoRzqpFOh211lRyIojTurYLsqXz12geLav8qwi50r/PGxCKAwBAAAAoCls27aNHnnwQXru2DH5TOGZy5fpu6+/Tid27qTDhw/TkSNHaM+ePSq6WpI/vKvBT3Sh4H6A76VpWQy4BWJYtvO4uqg3PUHTs7M0PZGmoHVhK/PLVaV3z1/cLOgasDgzRfPlArCbJsTZpvSBdEHJ1zLv9iDX5nnucJUYdZpVc2mB5uNHAxSbzQmFIQAAAAA0DR5Y5rFDh+RAM6++/Tb17N8vC0Je9u7dS+3t7SrSQ/eeCbI4EF8zsiuHe3hKlEsU6YIuNAIUBWZhoo8nWc6jdQ3mqNjdTcXcYEO9k1GLi8JI3bXpXmO6t/71BCqUGuSTq6pePB8ilZSNVRfzPPhM7eKebyOdp7S+TZWXguV20o5+mitQuTdZNvFtoGac7O20FIU8KI3eiXsnjVte5e2onb79nE0PhSEAAAAANBUuDnn00ReeeopisVj9olAYilduE+xbiLu9U9mYe9tgW4ymUpPuB3xRFAyl3WfEzOfDvPL8TFzMczzBeh6to4dSiYR8vu1e4mf+it3uNcqRPesNkxkwJ43yy5WZ2+rnAyv4+UT5fKTan5duqlPgyttIPbepem8n1bry6vhq2gpPnFvIzleuUywyN7HOcm752uMFfYuyW5TGfR+M3AREJb3KRo9KpUV93laJQ/7sgsYhf3ZB45A/u6BxyJ9d0Djkzy5oHPJnFzQO+bMLGlcvf7ZRSTe9miNbghXnrN6wpxtEjqK61mu5h997jEoKAAAAABAKP0NW6RGqLKsnPw9CDjozpAcpCXPsaK8rGtFd02zG2L+bqG6P5gbp6J+kXLG7PJF+I9p4gv/yADWbEwpDAAAAANiizBEmzcVvsJHauvLm5OZhjh3tdUUjumviPFX2b2y02PXVQf1z4prWUKje2+9NNNq4O1Gtr5vl5WX/oYWhLuQvHOQvHOQvHOQvHOQvHOQvHOQvnHr5Gxsbo5MnT6otAFir4eFhGhgYUFshiEp9lY2+x1yL+rytEof82QWNQ/7sgsYhf3ZB45A/u6BxyJ9d0Djkzy5oHPJnFzSuXv5a8hlDgHsAzxgCAAAAAABAJFAYAgAAAAAAbHEoDAEAAAAAALY4FIYAAAAAAABbHApDAAAAAACALQ6FIQAAAAAAwBaHwhAAAAAAAGCLQ2EIAAAAAE3n8o0b9M1CgT64do3u3LmjWgFgvbTxJIdqfd0sLy/T7t271RY0CvkLB/kLB/kLB/kLB/kLB/kLB/kLp17+xsbG6OTJk2qr2qXr1+kH587Rl5JJ+vbf/R392e/+Lj166BBt375dRTShxXFK9hFNzvVTh2oCC+QpcsPDwzQwMKC2QlAT3VeJYuZ809LSklqrLerztkoc8mcXNA75swsah/zZBY1D/uyCxiF/dkHjkD+7oHHIn13QuHr5+8Y3vqHWql28ds35b2+84Xyitm+srDj/uVBwFt5/37l165ZqbUKlnJNI5JyS2gQfQfLUYC5zCeKOrlVLIldyEuXttFMQsXI7zWsVhbRoM85X2UcvCUccyr0uo52PX+vcLhXjeT/1rqP6Gtxr98O/S1H8/uJWUgAAAABoChdVT+GXn36adqi23e3tNPjMM/Tt8+dp8dIlun37tnoFwNU/53BnF4nCjURBSaKwkttz/R00V27LUxcHJ9KULo7Q+KLcVfZgjhQTJAqxCuMY7jJH4lCUiU1RqqTbChRfKNU8t7Q4Q1Mkzin+f0afk9W7DvMaCkTdyXEyd18PKAwBAAAAoCm8/Oab8vZRXRRq+0Vx+MUnn6TviaLxuigetcXxJLW1tbmL+uBc1daWLH/wTiYzlEm67ZnZRRovr7uvS3ybo2VfX2Z8LEvz5Wb7NfA5K+ebpUyNc/jGWq7R/z2P03iG2zLiCP789q8+l1h0cVLVXvvYUqN56hMx81mKifbk17++6v2G00m9KaIpVaXNjmYpnhINgcTpaPn+1y7K52WpWdPizBRRapB64/Plc7oauI6uXkrPL1BJba4XFIYAAAAA0BSeF0XhS6+9Rst376oW1ztXrtD0mTN0fNcuunnzpmol6svGqaB6VQpx94NzR/+c28sie1rilB1VZct8kTonuS1NE938kJtaH6n0xGRiCzSk9y2laKqvdi9NRhQ58YKOz5V7e/yuoX9InG9aXc/sNE2kh2RPlI1frO0ayfc9Z2mhl9tVb5kPv+v1e39meylXpO6q6nq1hvM0Wel9i3/rdkPfkyBi/UMUz47SrChYR4o5GuxRL2iqKC0Xraog7k1PUDdv13m/FYsk68KeDlHbpWl+aqbq2uteh7I4PkITiU6Kqe31gsIQAAAAAJrCAVH4feHxx+nU6dN0VRWHXBRysXh8xw46cOBA1YA2ceIP6m6PVVdeFT9m71T3BFHxgvthPJEi8flcfBrvFEWHsc6vKUV5PLUv92zV6aUpiuJl0FZx+V0D9/xMTMvrnZ2eoHRvjXLNJ9Z6jb7v2ef6vHz293t/ZntHT4oS6jr9NJwnQ6Pfk2C63CKPC9YhyyA44nqrbiVVA+V05dV277R7PfUKRHkbqfpZk71+nttJa12HUZzGplJU2oDBelAYAgAAAEBT2LZtGz3y4IP03LFjNCyKwzOXL9N3X3+dTuzcSYcPH6YjR47Qnj17VDRRXn5w76Vp+QHaLRCT5nNgRu9UIN6CoE5Pmx//a3ALgenZWZqeSFOtutA31nKNI2Hes+B3vfqWz/US6HsV0ffEq2uQz1fve+CjKy+uo1Au3P3wbaT6lti2tm5R4npvJ61xHeb73qARXFEYAgAAAEDT4CkpHjt0iDKiOHz17bepZ/9+WRDysnfvXmpvb1eRRBn5wFmXKBBLlEsU6QJv6t5AQX4wd1cDiYsP8fouzCDiRg9Q1blqXAMXAsXubirmBusWOLZY6zWGeM+Sz/6re7hc5jXI+HRvzfeyljyR6hls9HsSWEc/zTVYZCbNHsLFC1SseXsn30Y6zwOPVorawurbSddyHesFhSEAAAAANBUuDjtEcfjCU09RLBazFoVSNube0tcWo6nUpHwGbyheuQWvbyHeUO9ZvsSFmLuvXOqMBJnn5+Jiq89V8xo6eiiVSMjnzuqyxNqu8d+FeM/M73rN92cOGmNeQ4yf86wzCEvDeRLF0pB6nq/453/e0PfEKylvP+XzBBgkR5PxxjnVoDepYneljXs7J2v05MnbSD230FpvJ20ionpdZaPnsdGiPm+rxCF/dkHjkD+7oHHIn13QOOTPLmgc8mcXNA75swsah/zZBY2rlz+/eQxbXiG9ak47X43Erje+Fs+8e9AcoprHsI1fVDXiulleXq56UBgag/yFg/yFg/yFg/yFg/yFg/yFg/yFUy9/Y2NjdPLkSbXVzHiqCH4+zCtBuZI7v10jZjNtNN3rkNvJVvvYR0fN2LAafx98rTwmjCtNhZq3PEabJwhueHiYBgYG1FYIqkCsstF/MdKiPm+rxCF/dkHjkD+7oHHIn13QOOTPLmgc8mcXNA75swsah/zZBY2rl78t22MIELGoegzxjCEAAAAAAMAWh8IQAAAAAABgi2vjbkO1Xhb0nvqgcRcvXqSHHnpIbfmL+rytEof82QWNQ/7sgsYhf3ZB45A/u6BxyJ9d0Djkzy5oHPJnFzSuXv5eeeUVtQYAYf3+7/9+6N9fFIZCs8chf3ZB45A/u6BxyJ9d0Djkzy5oHPJnFzQO+bMLGof82QWNq5c/Lgz379+vtgBgra5evRpJYYhbSQEAAAAAALY4FIYAAAAAAABbHApDAAAAAACALQ6FIQAAAAAAwBbXxpOPqnUAAAAAgA3x05/+dF0Gn9n3WIKO/RbR5fPz9O7HqhGgiS0sLNCvf/1r6uzspN/4jcb77Xjwmc997nNqa+0wKqnQ7HHIn13QOOTPLmgc8mcXNA75swsah/zZBY1D/uyCxiF/dkHj6uXPb1RSXdiVLf+c5n92SW3Uh8IQNpuzZ8/SuXPnaM+ePfTkk0/SI488ol4JBqOSAgAAAEDL+fjdeZo/f9nduHy+oaIQYDO7ceMGvfHGG1QoFOijjz5SrRsHhSEAAAAANLd9j1EikaDEE0/QE/xVrh+i+8ovqzaxVPU2Mr2vZz+9zxOH3KPcd+iJ8ut++zDzXLzo/QGiwkXh7OysLBJ/9atfqdb1h8IQAAAAADaJX1Jpfp5kh+LuR+m394mvooiTxSD3LurXtPsO0RPixeWf/1S+JnsixX4xUcxxz6S7GaND9+2j3350t7xt9acl8t2Hi0c+V/k1sfzs0qfqZADR4af93n//fZqZmZE9iRsBhSEAAAAAbA6ffEreMmzffreL8PLV1Q8U3rfvAeKnqXY/+jm3h091J+7euUN+/fjdn9LPl3fTo587Rr9Fl+k837ZaZx+mX0NvIayXtrY2+axhT0+PfPZwI6AwBAAAAICWZvbwyaU8Ks0O2ukzXodtn08v/azy/KMgC8THuNsSIDoHDx6krq4uOaDMrl27VOv6Q2EIAAAAAJvWzU+W5ded963uvfv000/k192P/jbZyrd9j6mewvnz4v9/i47x84V19qGP33ULxZ/+nNwzA0SDewa5GOzu7pbF4UZDYQgAAAAATUMO7qJu36TfOuYOBlPDp5dK9HNRoenbO/WuEhdxsoATRR/fFqqWJw79Gzr0hJ7W4l36WPxvyT0Ife7wJz77uM8Y6u3E5x6l3fxMIubEgJA++9nP0u/93u/Rn/7pnzY8VUWUUBgCAAAAQNOQ01WYt3Dyc3+6l04VYTrG3fyULv3MiFdLuV779BL9zPPazy5dK++j4+Rtovw6n8+6z6eVGL2IWAw9A2EdO3ZszZPbR6ntxo0bqya4j1rQiVDBDvkLB/kLB/kLB/kLB/kLB/kLB/kLp17+eCh+2wT3ANAYPcF9WG0Oj4XqEfQ/hEHjLl68SA899JDa8hf1eVslDvmzCxqH/NkFjUP+7ILGIX92QeOQP7ugccifXdA45M8uaFy9/L3yyisoDAEioAvDsL+/uJUUAAAAAABgi0NhCAAAAAAAsMWhMAQAAAAAANji8Iyh0OxxyJ9d0Djkzy5oHPJnFzQO+bMLGof82QWNQ/7sgsYhf3ZB4+rlj58xBIBoRPGMIQpDodnjkD+7oHHIn13QOOTPLmgc8mcXNA75swsah/zZBY1D/uyCxtXL3w9/9Ld0Zc9RutvWrloAoFHtzgoduFGiE8f/MPTvL24lBQAAAIAN9+mtW/SZuzfVFgCsBf8O8e9SFFAYAgAAAMCG+2R5mXbeua62AGAt7he/Q58s31Bb4aAwBAAAAIAN93/9X39C227foM/8+lPVAgCN+MzdT6n99jL923/7b1VLOG03btxY9Yxh1ILeiw52yF84yF84yF84yF84yF84yF84yF84QfI3NTVFB37zEH2061H6dds21QoA9fyGs0IHf/VzuvrRB/Rnf/ZnqjUcDD4jNHsc8mcXNA75swsah/zZBY1D/uyCxiF/dkHjkD+7oHHIn13QuKD5m/jOd+g3H/xt+vj+I3T7N+5TrQDgh3sK93/y/9KVDy/R888/L9ui+P3FraQAAAAAcM/83//u39Hytau0b/nntP/m/0c77v5K9oYQrftNbQCbhCN/J+5bWZa/I/t/9XP61fWr5aIwKugxFJo9DvmzCxqH/NkFjUP+7ILGIX92QeOQP7ugccifXdA45M8uaFyj+fvwww/pf/7P/0k7d+2hHfd9lra1o/8CQFu5+2u6eeuWHGiGnyk8ePCgesUVye8vF4Ze/NxhEEHjlpaW1FptUZ+3VeKQP7ugccifXdA45M8uaBzyZxc0DvmzCxqH/NkFjUP+7ILGIX92QeOQP7ugccifXa04/CkGAAAAAABgi0NhCAAAAAAAsMWhMAQAAAAAANjiUBgCAAAAAABscSgMAQAAAAAAtrg2HplGra+boMOngh3yFw7yFw7yFw7yFw7yFw7yFw7yFw7yFw7yFw7ytwZqdNIqUQ+LiuFi7YLGIX92QeOQP7ugccifXdA45M8uaBzyZxc0DvmzCxqH/NkFjUP+7ILGIX92QeOQP7tacbiVFAAAAAAAYItDYQgAAAAAALDFoTAEAAAAAADY4lAYAgAAAAAAbHEoDAEAAAAAALY4FIYAAAAAAABbHApDAAAAAACALQ6FIQAAAAAAwBbXxpMcqvV1s7y8TLt371Zb0CjkLxzkLxzkLxzkLxzkLxzkLxzkLxzkLxzkLxzkbw3URPdVop5hf2lpSa3VFvV5WyUO+bMLGof82QWNQ/7sgsYhf3ZB45A/u6BxyJ9d0Djkzy5oHPJnFzQO+bMLGof82dWKw62kAAAAAAAAWxwKQwAAAAAAgC0OhSEAAAAAAMAWh8IQAAAAAABgi0NhCAAAAAAAsMWhMAQAAAAAANjiUBgCAAAAAABscSgMAQAAAAAAtrg2nuRQra+b5eVl2r17t9qCRiF/4SB/4SB/4SB/4SB/4SB/4SB/4SB/4SB/4SB/a6Amuq8S9Qz7S0tLaq22qM/bKnHIn13QOOTPLmgc8mcXNA75swsah/zZBY1D/uyCxiF/dkHjkD+7oHHIn13QOOTPrlYcbiUFAAAAAADY4lAYAgAAAAAAbHEoDAEAAAAAALY4FIYAAAAAAABbHApDAAAAAACALQ6FIQAAAAAAwBaHwhAAAAAAAGCLQ2EIAAAAAACwxbXxJIdqfd0sLy/T7t271RY0CvkLB/kLB/kLB/kLB/kLB/kLB/kLB/kLB/kLB/lbAzXRfZWoZ9hfWlpSa7VFfd5WiUP+7ILGIX92QeOQP7ugccifXdA45M8uaBzyZxc0DvmzCxqH/NkFjUP+7ILGIX92/nGO8/8D8GHovyVQyFsAAAAASUVORK5CYII=)"
      ],
      "metadata": {
        "id": "PP9LmRQOQKXr"
      }
    },
    {
      "cell_type": "code",
      "source": [
        "import create_dw_que\n",
        "try:\n",
        "    myDw = mysqlC.connect(\n",
        "    host=RDS_DW_HOST, \n",
        "    user=config.get('RDS_MYSQL', 'DB_USER'),\n",
        "    password=config.get('RDS_MYSQL', 'DB_PASSWORD'),\n",
        "    database=config.get('RDS_MYSQL', 'DB_NAME')\n",
        "    )\n",
        "    mycursor = myDw.cursor()\n",
        "    tablas = create_dw_que.CREATE_DW.split(';')\n",
        "    for tabla in tablas:     \n",
        "        tabla = re.sub('[\\n\\r]', '', tabla)\n",
        "        if len(tabla) > 1:\n",
        "            mycursor.execute(tabla)\n",
        "    myDw.commit()\n",
        "    print(\"Data Warehouse Creado Exitosamente\")\n",
        "except Exception as ex:\n",
        "    print(\"ERROR: Error al crear la base de datos.\")\n",
        "    print(ex)"
      ],
      "metadata": {
        "colab": {
          "base_uri": "https://localhost:8080/"
        },
        "id": "4vNdhXNKYX_T",
        "outputId": "1f8bfb32-5257-408d-84ab-0f3c9fda01f3"
      },
      "execution_count": null,
      "outputs": [
        {
          "output_type": "stream",
          "name": "stdout",
          "text": [
            "Data Warehouse Creado Exitosamente\n"
          ]
        }
      ]
    },
    {
      "cell_type": "markdown",
      "source": [
        "Poblamos las tablas del DW"
      ],
      "metadata": {
        "id": "whTOQEXXhR7k"
      }
    },
    {
      "cell_type": "code",
      "source": [
        "mysql_driver = f\"\"\"mysql+pymysql://{config.get('RDS_MYSQL', 'DB_USER')}:{config.get('RDS_MYSQL', 'DB_PASSWORD')}@{RDS_DW_HOST}:{config.get('RDS_MYSQL', 'DB_PORT')}/{config.get('RDS_MYSQL', 'DB_NAME')}\"\"\"  "
      ],
      "metadata": {
        "id": "JO_chLrShVK1"
      },
      "execution_count": null,
      "outputs": []
    },
    {
      "cell_type": "markdown",
      "source": [
        "##Insertamos Custumers"
      ],
      "metadata": {
        "id": "RCmFOB6DhY8t"
      }
    },
    {
      "cell_type": "code",
      "source": [
        "dim_custumer.to_sql('custumer', mysql_driver, index=False, if_exists='append', method='multi')"
      ],
      "metadata": {
        "colab": {
          "base_uri": "https://localhost:8080/"
        },
        "id": "UFi8UM-BhXIe",
        "outputId": "459d8ace-fed0-4026-8951-a33a24ed2c94"
      },
      "execution_count": null,
      "outputs": [
        {
          "output_type": "execute_result",
          "data": {
            "text/plain": [
              "300"
            ]
          },
          "metadata": {},
          "execution_count": 95
        }
      ]
    },
    {
      "cell_type": "markdown",
      "source": [
        "##Insertamos las Movies"
      ],
      "metadata": {
        "id": "Efbzo57xi3oe"
      }
    },
    {
      "cell_type": "code",
      "source": [
        "dim_movies.to_sql('movies', mysql_driver,  index=False, if_exists='append', method='multi')"
      ],
      "metadata": {
        "colab": {
          "base_uri": "https://localhost:8080/"
        },
        "id": "rpeyMU38i5vv",
        "outputId": "527df2bc-9d59-4fe3-ed7a-8773f9c2361b"
      },
      "execution_count": null,
      "outputs": [
        {
          "output_type": "execute_result",
          "data": {
            "text/plain": [
              "8807"
            ]
          },
          "metadata": {},
          "execution_count": 96
        }
      ]
    },
    {
      "cell_type": "markdown",
      "source": [
        "##Insertamos las Fechas"
      ],
      "metadata": {
        "id": "u-ZG25OOASns"
      }
    },
    {
      "cell_type": "code",
      "source": [
        "dim_fecha.to_sql('dated', mysql_driver, index=False, if_exists='append')"
      ],
      "metadata": {
        "id": "2pA8xVfZAVnT",
        "colab": {
          "base_uri": "https://localhost:8080/"
        },
        "outputId": "40f92630-d4cc-4532-ba8d-5e680055d021"
      },
      "execution_count": null,
      "outputs": [
        {
          "output_type": "execute_result",
          "data": {
            "text/plain": [
              "2191"
            ]
          },
          "metadata": {},
          "execution_count": 97
        }
      ]
    },
    {
      "cell_type": "markdown",
      "source": [
        "##Insertamos los payment_methods"
      ],
      "metadata": {
        "id": "J5gjz5OkjHWE"
      }
    },
    {
      "cell_type": "code",
      "source": [
        "dim_payment_methods.to_sql('payment_methods',mysql_driver, index=False, if_exists='append', method='multi')"
      ],
      "metadata": {
        "colab": {
          "base_uri": "https://localhost:8080/"
        },
        "id": "KhQYjWnUjMPq",
        "outputId": "9dc2268c-5379-45d4-db34-73df6de4bebe"
      },
      "execution_count": null,
      "outputs": [
        {
          "output_type": "execute_result",
          "data": {
            "text/plain": [
              "3"
            ]
          },
          "metadata": {},
          "execution_count": 98
        }
      ]
    },
    {
      "cell_type": "markdown",
      "source": [
        "##Insertamos la fact_table"
      ],
      "metadata": {
        "id": "IwZ5QY-ojYTN"
      }
    },
    {
      "cell_type": "code",
      "source": [
        "df_factTable.to_sql('fact_table', mysql_driver, index=False, if_exists='append', method='multi')"
      ],
      "metadata": {
        "colab": {
          "base_uri": "https://localhost:8080/"
        },
        "id": "EowsWKfPjchZ",
        "outputId": "d52568d8-c083-46c9-d7e0-a47cbfc27678"
      },
      "execution_count": null,
      "outputs": [
        {
          "output_type": "execute_result",
          "data": {
            "text/plain": [
              "589"
            ]
          },
          "metadata": {},
          "execution_count": 99
        }
      ]
    },
    {
      "cell_type": "markdown",
      "source": [
        "# Análisis de datos\n",
        "\n"
      ],
      "metadata": {
        "id": "HWjWeaTQNj4Q"
      }
    },
    {
      "cell_type": "markdown",
      "source": [
        "## 1. ¿Cuales son las ventas mensuales?"
      ],
      "metadata": {
        "id": "8f5SK6mP1eEH"
      }
    },
    {
      "cell_type": "code",
      "source": [
        "sns.set(rc={'figure.figsize':(10,7)})\n",
        "df_factTable['id_fecha'] = df_factTable['id_fecha'].astype('int64')\n",
        "df_ventas_fecha = df_factTable.merge(dim_fecha, how='inner', left_on='id_fecha', right_on='date_key')\n",
        "dataSetN = df_ventas_fecha.groupby(['month_num_overall', 'month_name'], as_index=False).sum('total').sort_values('total')\n",
        "graph = sns.barplot(x=dataSetN['month_name'], y=dataSetN['total'])\n",
        "plt.show()"
      ],
      "metadata": {
        "colab": {
          "base_uri": "https://localhost:8080/",
          "height": 630
        },
        "id": "unlusROVNnx0",
        "outputId": "99181ffd-13b0-42a1-f5b8-1b9969756995"
      },
      "execution_count": null,
      "outputs": [
        {
          "output_type": "display_data",
          "data": {
            "text/plain": [
              "<Figure size 1000x700 with 1 Axes>"
            ],
            "image/png": "[encoded data removed]"
          },
          "metadata": {}
        }
      ]
    },
    {
      "cell_type": "markdown",
      "source": [
        "## 2. ¿Que tipo de cliente es el que más compra?"
      ],
      "metadata": {
        "id": "fU_m3Vhy1t2G"
      }
    },
    {
      "cell_type": "code",
      "source": [
        "df_ventas_fecha_clientes = df_ventas_fecha.merge(dim_custumer, how='inner', on='id_client')\n",
        "df_ventas_fecha_clientes_f = df_ventas_fecha_clientes.groupby('custumer_type', as_index=False).sum('total').sort_values('total')\n",
        "graph = sns.barplot(x=df_ventas_fecha_clientes_f['custumer_type'], y=df_ventas_fecha_clientes_f['total'])\n",
        "plt.show()"
      ],
      "metadata": {
        "colab": {
          "base_uri": "https://localhost:8080/",
          "height": 627
        },
        "id": "Ni1VedKj1wft",
        "outputId": "8ca4b469-f1d1-4823-89fe-7c8e776000d4"
      },
      "execution_count": null,
      "outputs": [
        {
          "output_type": "display_data",
          "data": {
            "text/plain": [
              "<Figure size 1000x700 with 1 Axes>"
            ],
            "image/png": "[encoded data removed]"
          },
          "metadata": {}
        }
      ]
    },
    {
      "cell_type": "markdown",
      "source": [
        "## 3. ¿Que tipo de show de TV o Pelicula es mas comprado?"
      ],
      "metadata": {
        "id": "fccnZ1Z71yJ_"
      }
    },
    {
      "cell_type": "code",
      "source": [
        "df_ventas_movies = df_factTable.merge(dim_movies, how='inner', on='id_movies')\n",
        "df_ventas_movies_f = df_ventas_movies.groupby('show_type', as_index=False).sum('total').sort_values('total')\n",
        "graph = sns.barplot(x=df_ventas_movies_f['show_type'], y=df_ventas_movies_f['total'])\n",
        "plt.show()"
      ],
      "metadata": {
        "colab": {
          "base_uri": "https://localhost:8080/",
          "height": 628
        },
        "id": "1UF_t6SC10Dt",
        "outputId": "8edb5494-7ecc-42f7-9c9d-83672b6ddbb6"
      },
      "execution_count": null,
      "outputs": [
        {
          "output_type": "display_data",
          "data": {
            "text/plain": [
              "<Figure size 1000x700 with 1 Axes>"
            ],
            "image/png": "[encoded data removed]"
          },
          "metadata": {}
        }
      ]
    },
    {
      "cell_type": "markdown",
      "source": [
        "## 4. ¿Que tipo de categoría de show es el mas vendido?"
      ],
      "metadata": {
        "id": "lTdp3p5m14SX"
      }
    },
    {
      "cell_type": "code",
      "source": [
        "df_ventas_movies_l = df_ventas_movies.groupby(['category', 'show_type'], as_index=False).sum('total').sort_values('total')\n",
        "df_ventas_movies_l\n",
        "graph = sns.barplot(x=df_ventas_movies_l['total'], y=df_ventas_movies_l['category'])\n",
        "plt.show()"
      ],
      "metadata": {
        "colab": {
          "base_uri": "https://localhost:8080/",
          "height": 627
        },
        "id": "aSQCVocP16jC",
        "outputId": "68c56311-54c9-4e6e-c3c7-ecef1f177387"
      },
      "execution_count": null,
      "outputs": [
        {
          "output_type": "display_data",
          "data": {
            "text/plain": [
              "<Figure size 1000x700 with 1 Axes>"
            ],
            "image/png": "[encoded data removed]"
          },
          "metadata": {}
        }
      ]
    },
    {
      "cell_type": "markdown",
      "source": [
        "## 5. ¿Cuales son los 10 clientes mas frecuentes?"
      ],
      "metadata": {
        "id": "QNeHPRoS1945"
      }
    },
    {
      "cell_type": "code",
      "source": [
        "df_clientes_frec = df_ventas_fecha_clientes.groupby(['id_client', 'name'], as_index=False).sum('total').sample(n=10).sort_values('total')\n",
        "graph = sns.barplot(x=df_clientes_frec['name'], y=df_clientes_frec['total'])\n",
        "plt.show()"
      ],
      "metadata": {
        "colab": {
          "base_uri": "https://localhost:8080/",
          "height": 627
        },
        "id": "Mrg7J_fy1_ls",
        "outputId": "b04968a7-b747-4024-8e79-42de7579afa0"
      },
      "execution_count": null,
      "outputs": [
        {
          "output_type": "display_data",
          "data": {
            "text/plain": [
              "<Figure size 1000x700 with 1 Axes>"
            ],
            "image/png": "[encoded data removed]"
          },
          "metadata": {}
        }
      ]
    },
    {
      "cell_type": "markdown",
      "source": [
        "## 6. ¿Qué metodo de pago es el más requerido por los clientes?"
      ],
      "metadata": {
        "id": "01TcY7l-2CbM"
      }
    },
    {
      "cell_type": "code",
      "source": [
        "df_ventas_pago = df_factTable.merge(dim_payment_methods, how='inner', on='id_payment')\n",
        "df_ventas_pago_f = df_ventas_pago.groupby(['id_payment', 'name'], as_index=False).sum('total').sort_values('total')\n",
        "graph = sns.barplot(x=df_ventas_pago_f['name'], y=df_ventas_pago_f['total'])\n",
        "plt.show()"
      ],
      "metadata": {
        "colab": {
          "base_uri": "https://localhost:8080/",
          "height": 633
        },
        "id": "PlFKeqWi2D9T",
        "outputId": "6bb28f5b-fa51-47c5-e0d1-28f250197c91"
      },
      "execution_count": null,
      "outputs": [
        {
          "output_type": "display_data",
          "data": {
            "text/plain": [
              "<Figure size 1000x700 with 1 Axes>"
            ],
            "image/png": "[encoded data removed]"
          },
          "metadata": {}
        }
      ]
    },
    {
      "cell_type": "markdown",
      "source": [
        "### 7. Comparación de peliculas o programas por su clasificacion de edad comprados por Hombres y Mujeres"
      ],
      "metadata": {
        "id": "ZcpUg6bSE_NK"
      }
    },
    {
      "cell_type": "code",
      "source": [
        "df_movies_fecha_cliente = df_ventas_fecha_clientes.merge(dim_movies, how='inner', on='id_movies')\n",
        "df_movies_fecha_cliente.columns.tolist()\n",
        "\n",
        "df_rating= df_movies_fecha_cliente.groupby(['rating'], as_index=False).sum()['rating']\n",
        "df_hombres_mujeres = df_movies_fecha_cliente.pivot_table(index='rating', \n",
        "                     columns='gender', \n",
        "                     values='total',\n",
        "                     fill_value=0, \n",
        "                     aggfunc='sum').unstack()\n",
        "#clasificacion de rangos que pertenecen a cada genero\n",
        "mujeres = df_hombres_mujeres[:(int(len(df_hombres_mujeres)/2))].tolist() \n",
        "hombres = df_hombres_mujeres[(int(len(df_hombres_mujeres)/2)):].tolist() \n",
        "\n",
        "x = np.arange(len(df_rating))\n",
        "#tamaño de cada barra\n",
        "width = 0.35\n",
        "\n",
        "fig, ax = plt.subplots()\n",
        "#Generamos las barras para el conjunto de hombres\n",
        "rects1 = ax.bar(x - width/2, hombres, width, label='Hombres')\n",
        "#Generamos las barras para el conjunto de mujeres\n",
        "rects2 = ax.bar(x + width/2, mujeres, width, label='Mujeres')\n",
        "\n",
        "ax.set_ylabel('Total')\n",
        "ax.set_title('Comparación de peliculas o programas por su clasificacion de edad comprados por Hombres y Mujeres')\n",
        "ax.set_xticks(x)\n",
        "ax.set_xticklabels(df_rating)\n",
        "ax.legend()\n",
        "\n",
        "def autolabel(rects):\n",
        "    for rect in rects:\n",
        "        height = rect.get_height()\n",
        "        ax.annotate('{}'.format(height),\n",
        "                    xy=(rect.get_x() + rect.get_width() / 2, height),\n",
        "                    xytext=(0, 3),\n",
        "                    textcoords=\"offset points\",\n",
        "                    ha='center', va='bottom')\n",
        "#Añadimos las etiquetas para cada barra\n",
        "autolabel(rects1)\n",
        "autolabel(rects2)\n",
        "fig.tight_layout()\n",
        "plt.show()"
      ],
      "metadata": {
        "id": "vZPIGTJyE8GB",
        "colab": {
          "base_uri": "https://localhost:8080/",
          "height": 701
        },
        "outputId": "93d8dfb3-8dd6-40d7-d249-ac41c5095946"
      },
      "execution_count": null,
      "outputs": [
        {
          "output_type": "display_data",
          "data": {
            "text/plain": [
              "<Figure size 1000x700 with 1 Axes>"
            ],
            "image/png": "[encoded data removed]"
          },
          "metadata": {}
        }
      ]
    }
  ]
}